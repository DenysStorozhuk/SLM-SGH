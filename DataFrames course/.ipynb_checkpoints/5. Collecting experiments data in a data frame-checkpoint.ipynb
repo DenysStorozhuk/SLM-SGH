{
 "cells": [
  {
   "cell_type": "markdown",
   "metadata": {},
   "source": [
    "# Collecting experiments data in a data frame\n",
    "\n",
    "### Bogumił Kamiński"
   ]
  },
  {
   "cell_type": "code",
   "execution_count": 14,
   "metadata": {},
   "outputs": [
    {
     "name": "stderr",
     "output_type": "stream",
     "text": [
      "\u001b[32m\u001b[1m  Activating\u001b[22m\u001b[39m project at `~/DataFrames`\n"
     ]
    }
   ],
   "source": [
    "] activate ."
   ]
  },
  {
   "cell_type": "code",
   "execution_count": 15,
   "metadata": {},
   "outputs": [],
   "source": [
    "using DataFrames"
   ]
  },
  {
   "cell_type": "code",
   "execution_count": 16,
   "metadata": {},
   "outputs": [],
   "source": [
    "using Statistics"
   ]
  },
  {
   "cell_type": "code",
   "execution_count": 17,
   "metadata": {},
   "outputs": [],
   "source": [
    "using PyPlot"
   ]
  },
  {
   "cell_type": "markdown",
   "metadata": {},
   "source": [
    "<div class=\"alert alert-block alert-info\">\n",
    "    <p><b>PyPlot.jl configuration:</b></p>\n",
    "    <p>In some environments automatic installation of PyPlot.jl might fail. If you encounter this ussue please refer to <a href=\"https://github.com/JuliaPy/PyPlot.jl#installation\">the PyPlot.jl installation instructions</a>. </p>\n",
    "</div>\n",
    "\n",
    "In particular typically executing the following commands:\n",
    "\n",
    "```\n",
    "using Pkg\n",
    "ENV[\"PYTHON\"]=\"\"\n",
    "Pkg.build(\"PyCall\")\n",
    "```\n",
    "\n",
    "should resolve the PyPlot.jl installation issues. However, on OS X sometimes more configuration steps are required. You can find the detailed instructions [here](https://github.com/JuliaPy/PyPlot.jl#os-x)."
   ]
  },
  {
   "cell_type": "code",
   "execution_count": 18,
   "metadata": {},
   "outputs": [],
   "source": [
    "using Random"
   ]
  },
  {
   "cell_type": "code",
   "execution_count": 19,
   "metadata": {},
   "outputs": [],
   "source": [
    "using Pipe"
   ]
  },
  {
   "cell_type": "markdown",
   "metadata": {},
   "source": [
    "In this part we will run a simple Monte Carlo simulation so show examples how one can work with data frames."
   ]
  },
  {
   "cell_type": "markdown",
   "metadata": {},
   "source": [
    "Consider the following puzzle.\n",
    "\n",
    "We draw independent random numbers from $U(0,1)$ distribution. On the average, how many draws do we need, till the sum of these numbers exceeds $1$?"
   ]
  },
  {
   "cell_type": "markdown",
   "metadata": {},
   "source": [
    "Here is the code that runs this experiment once. For tutorial reasons we keep all the generated random numbers and recalculate their sum in each iteration (you can try to improve the efficiency of this code as an exercise)."
   ]
  },
  {
   "cell_type": "code",
   "execution_count": 20,
   "metadata": {},
   "outputs": [
    {
     "data": {
      "text/plain": [
       "sim_e (generic function with 1 method)"
      ]
     },
     "execution_count": 20,
     "metadata": {},
     "output_type": "execute_result"
    }
   ],
   "source": [
    "function sim_e()\n",
    "    draw = Float64[]\n",
    "    while true\n",
    "        push!(draw, rand())\n",
    "        sum(draw) > 1.0 && return draw\n",
    "    end\n",
    "end"
   ]
  },
  {
   "cell_type": "code",
   "execution_count": 21,
   "metadata": {},
   "outputs": [],
   "source": [
    "Random.seed!(1234); # just to make sure we get the same results \n",
    "#if we are on the same version of Julia"
   ]
  },
  {
   "cell_type": "markdown",
   "metadata": {},
   "source": [
    "Let us run our simulation several times:"
   ]
  },
  {
   "cell_type": "code",
   "execution_count": 22,
   "metadata": {},
   "outputs": [
    {
     "data": {
      "text/plain": [
       "5-element Vector{Vector{Float64}}:\n",
       " [0.32597672886359486, 0.5490511363155669, 0.21858665481883066]\n",
       " [0.8942454282009883, 0.35311164439921205]\n",
       " [0.39425536741585077, 0.9531246272848422]\n",
       " [0.7955469475347194, 0.4942498668904206]\n",
       " [0.7484150218874741, 0.5782319465613976]"
      ]
     },
     "execution_count": 22,
     "metadata": {},
     "output_type": "execute_result"
    }
   ],
   "source": [
    "res = [sim_e() for _ in 1:5]"
   ]
  },
  {
   "cell_type": "markdown",
   "metadata": {},
   "source": [
    "and check that each time we finished just when we exceeded $1$:"
   ]
  },
  {
   "cell_type": "code",
   "execution_count": 23,
   "metadata": {},
   "outputs": [
    {
     "data": {
      "text/plain": [
       "5-element Vector{Float64}:\n",
       " 1.0936145199979923\n",
       " 1.2473570726002003\n",
       " 1.347379994700693\n",
       " 1.2897968144251402\n",
       " 1.3266469684488718"
      ]
     },
     "execution_count": 23,
     "metadata": {},
     "output_type": "execute_result"
    }
   ],
   "source": [
    "sum.(res)"
   ]
  },
  {
   "cell_type": "code",
   "execution_count": 24,
   "metadata": {},
   "outputs": [
    {
     "data": {
      "text/plain": [
       "5-element Vector{Float64}:\n",
       " 0.8750278651791616\n",
       " 0.8942454282009883\n",
       " 0.3942553674158509\n",
       " 0.7955469475347196\n",
       " 0.7484150218874741"
      ]
     },
     "execution_count": 24,
     "metadata": {},
     "output_type": "execute_result"
    }
   ],
   "source": [
    "@. sum(res) - last(res)"
   ]
  },
  {
   "cell_type": "markdown",
   "metadata": {},
   "source": [
    "All looks good so far! (and as a bonus we have just made a small exercise in broadcasting)"
   ]
  },
  {
   "cell_type": "markdown",
   "metadata": {},
   "source": [
    "Now let us populate a data frame with the results of our experiments"
   ]
  },
  {
   "cell_type": "code",
   "execution_count": 28,
   "metadata": {},
   "outputs": [
    {
     "name": "stdout",
     "output_type": "stream",
     "text": [
      " 19.472432 seconds (120.00 M allocations: 4.012 GiB, 38.63% gc time)\n"
     ]
    }
   ],
   "source": [
    "#We create an empty data frame\n",
    "df = DataFrame()\n",
    "\n",
    "#We do 10 million times our experiment and just push a named tuple \n",
    "#containing experiment number in id-column and \n",
    "#experiment result in pos-column\n",
    "\n",
    "@time for i in 1:10^7\n",
    "    push!(df, (id=i, pos=sim_e()))\n",
    "end\n",
    "\n",
    "#Below you can see that it took only 17 seconds to run it"
   ]
  },
  {
   "cell_type": "markdown",
   "metadata": {},
   "source": [
    "As you can see the process was quite fast, `push!`-ing data to a `DataFrame` is efficient."
   ]
  },
  {
   "cell_type": "code",
   "execution_count": 29,
   "metadata": {
    "scrolled": true
   },
   "outputs": [
    {
     "data": {
      "text/html": [
       "<div><div style = \"float: left;\"><span>10000000×2 DataFrame</span></div><div style = \"float: right;\"><span style = \"font-style: italic;\">9999975 rows omitted</span></div><div style = \"clear: both;\"></div></div><div class = \"data-frame\" style = \"overflow-x: scroll;\"><table class = \"data-frame\" style = \"margin-bottom: 6px;\"><thead><tr class = \"header\"><th class = \"rowNumber\" style = \"font-weight: bold; text-align: right;\">Row</th><th style = \"text-align: left;\">id</th><th style = \"text-align: left;\">pos</th></tr><tr class = \"subheader headerLastRow\"><th class = \"rowNumber\" style = \"font-weight: bold; text-align: right;\"></th><th title = \"Int64\" style = \"text-align: left;\">Int64</th><th title = \"Vector{Float64}\" style = \"text-align: left;\">Array…</th></tr></thead><tbody><tr><td class = \"rowNumber\" style = \"font-weight: bold; text-align: right;\">1</td><td style = \"text-align: right;\">1</td><td style = \"text-align: left;\">[0.243289, 0.790257]</td></tr><tr><td class = \"rowNumber\" style = \"font-weight: bold; text-align: right;\">2</td><td style = \"text-align: right;\">2</td><td style = \"text-align: left;\">[0.906635, 0.185474]</td></tr><tr><td class = \"rowNumber\" style = \"font-weight: bold; text-align: right;\">3</td><td style = \"text-align: right;\">3</td><td style = \"text-align: left;\">[0.624293, 0.841742]</td></tr><tr><td class = \"rowNumber\" style = \"font-weight: bold; text-align: right;\">4</td><td style = \"text-align: right;\">4</td><td style = \"text-align: left;\">[0.799639, 0.468297]</td></tr><tr><td class = \"rowNumber\" style = \"font-weight: bold; text-align: right;\">5</td><td style = \"text-align: right;\">5</td><td style = \"text-align: left;\">[0.531773, 0.594576]</td></tr><tr><td class = \"rowNumber\" style = \"font-weight: bold; text-align: right;\">6</td><td style = \"text-align: right;\">6</td><td style = \"text-align: left;\">[0.340012, 0.0766111, 0.290969, 0.0647359, 0.4483]</td></tr><tr><td class = \"rowNumber\" style = \"font-weight: bold; text-align: right;\">7</td><td style = \"text-align: right;\">7</td><td style = \"text-align: left;\">[0.582394, 0.158404, 0.950302]</td></tr><tr><td class = \"rowNumber\" style = \"font-weight: bold; text-align: right;\">8</td><td style = \"text-align: right;\">8</td><td style = \"text-align: left;\">[0.389736, 0.765822]</td></tr><tr><td class = \"rowNumber\" style = \"font-weight: bold; text-align: right;\">9</td><td style = \"text-align: right;\">9</td><td style = \"text-align: left;\">[0.84892, 0.222576]</td></tr><tr><td class = \"rowNumber\" style = \"font-weight: bold; text-align: right;\">10</td><td style = \"text-align: right;\">10</td><td style = \"text-align: left;\">[0.353405, 0.976458]</td></tr><tr><td class = \"rowNumber\" style = \"font-weight: bold; text-align: right;\">11</td><td style = \"text-align: right;\">11</td><td style = \"text-align: left;\">[0.319276, 0.584568, 0.177428]</td></tr><tr><td class = \"rowNumber\" style = \"font-weight: bold; text-align: right;\">12</td><td style = \"text-align: right;\">12</td><td style = \"text-align: left;\">[0.0317004, 0.750435, 0.838082]</td></tr><tr><td class = \"rowNumber\" style = \"font-weight: bold; text-align: right;\">13</td><td style = \"text-align: right;\">13</td><td style = \"text-align: left;\">[0.502784, 0.618428]</td></tr><tr><td style = \"text-align: right;\">&vellip;</td><td style = \"text-align: right;\">&vellip;</td><td style = \"text-align: right;\">&vellip;</td></tr><tr><td class = \"rowNumber\" style = \"font-weight: bold; text-align: right;\">9999989</td><td style = \"text-align: right;\">9999989</td><td style = \"text-align: left;\">[0.776187, 0.15794, 0.0563733, 0.508645]</td></tr><tr><td class = \"rowNumber\" style = \"font-weight: bold; text-align: right;\">9999990</td><td style = \"text-align: right;\">9999990</td><td style = \"text-align: left;\">[0.209859, 0.833044]</td></tr><tr><td class = \"rowNumber\" style = \"font-weight: bold; text-align: right;\">9999991</td><td style = \"text-align: right;\">9999991</td><td style = \"text-align: left;\">[0.362219, 0.73804]</td></tr><tr><td class = \"rowNumber\" style = \"font-weight: bold; text-align: right;\">9999992</td><td style = \"text-align: right;\">9999992</td><td style = \"text-align: left;\">[0.250463, 0.0902904, 0.819689]</td></tr><tr><td class = \"rowNumber\" style = \"font-weight: bold; text-align: right;\">9999993</td><td style = \"text-align: right;\">9999993</td><td style = \"text-align: left;\">[0.244057, 0.362004, 0.622883]</td></tr><tr><td class = \"rowNumber\" style = \"font-weight: bold; text-align: right;\">9999994</td><td style = \"text-align: right;\">9999994</td><td style = \"text-align: left;\">[0.276033, 0.0589574, 0.671261]</td></tr><tr><td class = \"rowNumber\" style = \"font-weight: bold; text-align: right;\">9999995</td><td style = \"text-align: right;\">9999995</td><td style = \"text-align: left;\">[0.218739, 0.363075, 0.489587]</td></tr><tr><td class = \"rowNumber\" style = \"font-weight: bold; text-align: right;\">9999996</td><td style = \"text-align: right;\">9999996</td><td style = \"text-align: left;\">[0.98508, 0.36251]</td></tr><tr><td class = \"rowNumber\" style = \"font-weight: bold; text-align: right;\">9999997</td><td style = \"text-align: right;\">9999997</td><td style = \"text-align: left;\">[0.00683499, 0.599195, 0.901885]</td></tr><tr><td class = \"rowNumber\" style = \"font-weight: bold; text-align: right;\">9999998</td><td style = \"text-align: right;\">9999998</td><td style = \"text-align: left;\">[0.754418, 0.292303]</td></tr><tr><td class = \"rowNumber\" style = \"font-weight: bold; text-align: right;\">9999999</td><td style = \"text-align: right;\">9999999</td><td style = \"text-align: left;\">[0.312918, 0.747878]</td></tr><tr><td class = \"rowNumber\" style = \"font-weight: bold; text-align: right;\">10000000</td><td style = \"text-align: right;\">10000000</td><td style = \"text-align: left;\">[0.266816, 0.849234]</td></tr></tbody></table></div>"
      ],
      "text/latex": [
       "\\begin{tabular}{r|cc}\n",
       "\t& id & pos\\\\\n",
       "\t\\hline\n",
       "\t& Int64 & Array…\\\\\n",
       "\t\\hline\n",
       "\t1 & 1 & [0.243289, 0.790257] \\\\\n",
       "\t2 & 2 & [0.906635, 0.185474] \\\\\n",
       "\t3 & 3 & [0.624293, 0.841742] \\\\\n",
       "\t4 & 4 & [0.799639, 0.468297] \\\\\n",
       "\t5 & 5 & [0.531773, 0.594576] \\\\\n",
       "\t6 & 6 & [0.340012, 0.0766111, 0.290969, 0.0647359, 0.4483] \\\\\n",
       "\t7 & 7 & [0.582394, 0.158404, 0.950302] \\\\\n",
       "\t8 & 8 & [0.389736, 0.765822] \\\\\n",
       "\t9 & 9 & [0.84892, 0.222576] \\\\\n",
       "\t10 & 10 & [0.353405, 0.976458] \\\\\n",
       "\t11 & 11 & [0.319276, 0.584568, 0.177428] \\\\\n",
       "\t12 & 12 & [0.0317004, 0.750435, 0.838082] \\\\\n",
       "\t13 & 13 & [0.502784, 0.618428] \\\\\n",
       "\t14 & 14 & [0.53031, 0.0948671, 0.0802864, 0.60007] \\\\\n",
       "\t15 & 15 & [0.78395, 0.837736] \\\\\n",
       "\t16 & 16 & [0.351311, 0.56067, 0.38109] \\\\\n",
       "\t17 & 17 & [0.923577, 0.193459] \\\\\n",
       "\t18 & 18 & [0.997895, 0.841204] \\\\\n",
       "\t19 & 19 & [0.65997, 0.0751402, 0.656286] \\\\\n",
       "\t20 & 20 & [0.890928, 0.493329] \\\\\n",
       "\t21 & 21 & [0.768999, 0.835887] \\\\\n",
       "\t22 & 22 & [0.872433, 0.602164] \\\\\n",
       "\t23 & 23 & [0.0803977, 0.263871, 0.716441] \\\\\n",
       "\t24 & 24 & [0.823989, 0.89681] \\\\\n",
       "\t25 & 25 & [0.322119, 0.298275, 0.425151] \\\\\n",
       "\t26 & 26 & [0.599383, 0.616952] \\\\\n",
       "\t27 & 27 & [0.744003, 0.59537] \\\\\n",
       "\t28 & 28 & [0.811623, 0.41147] \\\\\n",
       "\t29 & 29 & [0.107426, 0.582964, 0.0082268, 0.874578] \\\\\n",
       "\t30 & 30 & [0.492957, 0.192722, 0.587188] \\\\\n",
       "\t$\\dots$ & $\\dots$ & $\\dots$ \\\\\n",
       "\\end{tabular}\n"
      ],
      "text/plain": [
       "\u001b[1m10000000×2 DataFrame\u001b[0m\n",
       "\u001b[1m      Row \u001b[0m│\u001b[1m id       \u001b[0m\u001b[1m pos                               \u001b[0m\n",
       "          │\u001b[90m Int64    \u001b[0m\u001b[90m Array…                            \u001b[0m\n",
       "──────────┼─────────────────────────────────────────────\n",
       "        1 │        1  [0.243289, 0.790257]\n",
       "        2 │        2  [0.906635, 0.185474]\n",
       "        3 │        3  [0.624293, 0.841742]\n",
       "        4 │        4  [0.799639, 0.468297]\n",
       "        5 │        5  [0.531773, 0.594576]\n",
       "        6 │        6  [0.340012, 0.0766111, 0.290969, …\n",
       "        7 │        7  [0.582394, 0.158404, 0.950302]\n",
       "        8 │        8  [0.389736, 0.765822]\n",
       "        9 │        9  [0.84892, 0.222576]\n",
       "       10 │       10  [0.353405, 0.976458]\n",
       "       11 │       11  [0.319276, 0.584568, 0.177428]\n",
       "    ⋮     │    ⋮                      ⋮\n",
       "  9999991 │  9999991  [0.362219, 0.73804]\n",
       "  9999992 │  9999992  [0.250463, 0.0902904, 0.819689]\n",
       "  9999993 │  9999993  [0.244057, 0.362004, 0.622883]\n",
       "  9999994 │  9999994  [0.276033, 0.0589574, 0.671261]\n",
       "  9999995 │  9999995  [0.218739, 0.363075, 0.489587]\n",
       "  9999996 │  9999996  [0.98508, 0.36251]\n",
       "  9999997 │  9999997  [0.00683499, 0.599195, 0.901885]\n",
       "  9999998 │  9999998  [0.754418, 0.292303]\n",
       "  9999999 │  9999999  [0.312918, 0.747878]\n",
       " 10000000 │ 10000000  [0.266816, 0.849234]\n",
       "\u001b[36m                                    9999979 rows omitted\u001b[0m"
      ]
     },
     "execution_count": 29,
     "metadata": {},
     "output_type": "execute_result"
    }
   ],
   "source": [
    "df"
   ]
  },
  {
   "cell_type": "markdown",
   "metadata": {},
   "source": [
    "As we can see, we can easily store any type of data in the column of \"Pos,\" and in this case, those are vectors. It is important because when we are performing simulations, we might have plenty of different types of data collected from the simulation. Therefore, in the DataFrame, we are not limited in terms of what we can store."
   ]
  },
  {
   "cell_type": "markdown",
   "metadata": {},
   "source": [
    "Let us count the number of jumps we have made in each step using the `transform!` function:"
   ]
  },
  {
   "cell_type": "code",
   "execution_count": 32,
   "metadata": {
    "scrolled": false
   },
   "outputs": [
    {
     "data": {
      "text/html": [
       "<div><div style = \"float: left;\"><span>10000000×3 DataFrame</span></div><div style = \"float: right;\"><span style = \"font-style: italic;\">9999975 rows omitted</span></div><div style = \"clear: both;\"></div></div><div class = \"data-frame\" style = \"overflow-x: scroll;\"><table class = \"data-frame\" style = \"margin-bottom: 6px;\"><thead><tr class = \"header\"><th class = \"rowNumber\" style = \"font-weight: bold; text-align: right;\">Row</th><th style = \"text-align: left;\">id</th><th style = \"text-align: left;\">pos</th><th style = \"text-align: left;\">jumps</th></tr><tr class = \"subheader headerLastRow\"><th class = \"rowNumber\" style = \"font-weight: bold; text-align: right;\"></th><th title = \"Int64\" style = \"text-align: left;\">Int64</th><th title = \"Vector{Float64}\" style = \"text-align: left;\">Array…</th><th title = \"Int64\" style = \"text-align: left;\">Int64</th></tr></thead><tbody><tr><td class = \"rowNumber\" style = \"font-weight: bold; text-align: right;\">1</td><td style = \"text-align: right;\">1</td><td style = \"text-align: left;\">[0.243289, 0.790257]</td><td style = \"text-align: right;\">2</td></tr><tr><td class = \"rowNumber\" style = \"font-weight: bold; text-align: right;\">2</td><td style = \"text-align: right;\">2</td><td style = \"text-align: left;\">[0.906635, 0.185474]</td><td style = \"text-align: right;\">2</td></tr><tr><td class = \"rowNumber\" style = \"font-weight: bold; text-align: right;\">3</td><td style = \"text-align: right;\">3</td><td style = \"text-align: left;\">[0.624293, 0.841742]</td><td style = \"text-align: right;\">2</td></tr><tr><td class = \"rowNumber\" style = \"font-weight: bold; text-align: right;\">4</td><td style = \"text-align: right;\">4</td><td style = \"text-align: left;\">[0.799639, 0.468297]</td><td style = \"text-align: right;\">2</td></tr><tr><td class = \"rowNumber\" style = \"font-weight: bold; text-align: right;\">5</td><td style = \"text-align: right;\">5</td><td style = \"text-align: left;\">[0.531773, 0.594576]</td><td style = \"text-align: right;\">2</td></tr><tr><td class = \"rowNumber\" style = \"font-weight: bold; text-align: right;\">6</td><td style = \"text-align: right;\">6</td><td style = \"text-align: left;\">[0.340012, 0.0766111, 0.290969, 0.0647359, 0.4483]</td><td style = \"text-align: right;\">5</td></tr><tr><td class = \"rowNumber\" style = \"font-weight: bold; text-align: right;\">7</td><td style = \"text-align: right;\">7</td><td style = \"text-align: left;\">[0.582394, 0.158404, 0.950302]</td><td style = \"text-align: right;\">3</td></tr><tr><td class = \"rowNumber\" style = \"font-weight: bold; text-align: right;\">8</td><td style = \"text-align: right;\">8</td><td style = \"text-align: left;\">[0.389736, 0.765822]</td><td style = \"text-align: right;\">2</td></tr><tr><td class = \"rowNumber\" style = \"font-weight: bold; text-align: right;\">9</td><td style = \"text-align: right;\">9</td><td style = \"text-align: left;\">[0.84892, 0.222576]</td><td style = \"text-align: right;\">2</td></tr><tr><td class = \"rowNumber\" style = \"font-weight: bold; text-align: right;\">10</td><td style = \"text-align: right;\">10</td><td style = \"text-align: left;\">[0.353405, 0.976458]</td><td style = \"text-align: right;\">2</td></tr><tr><td class = \"rowNumber\" style = \"font-weight: bold; text-align: right;\">11</td><td style = \"text-align: right;\">11</td><td style = \"text-align: left;\">[0.319276, 0.584568, 0.177428]</td><td style = \"text-align: right;\">3</td></tr><tr><td class = \"rowNumber\" style = \"font-weight: bold; text-align: right;\">12</td><td style = \"text-align: right;\">12</td><td style = \"text-align: left;\">[0.0317004, 0.750435, 0.838082]</td><td style = \"text-align: right;\">3</td></tr><tr><td class = \"rowNumber\" style = \"font-weight: bold; text-align: right;\">13</td><td style = \"text-align: right;\">13</td><td style = \"text-align: left;\">[0.502784, 0.618428]</td><td style = \"text-align: right;\">2</td></tr><tr><td style = \"text-align: right;\">&vellip;</td><td style = \"text-align: right;\">&vellip;</td><td style = \"text-align: right;\">&vellip;</td><td style = \"text-align: right;\">&vellip;</td></tr><tr><td class = \"rowNumber\" style = \"font-weight: bold; text-align: right;\">9999989</td><td style = \"text-align: right;\">9999989</td><td style = \"text-align: left;\">[0.776187, 0.15794, 0.0563733, 0.508645]</td><td style = \"text-align: right;\">4</td></tr><tr><td class = \"rowNumber\" style = \"font-weight: bold; text-align: right;\">9999990</td><td style = \"text-align: right;\">9999990</td><td style = \"text-align: left;\">[0.209859, 0.833044]</td><td style = \"text-align: right;\">2</td></tr><tr><td class = \"rowNumber\" style = \"font-weight: bold; text-align: right;\">9999991</td><td style = \"text-align: right;\">9999991</td><td style = \"text-align: left;\">[0.362219, 0.73804]</td><td style = \"text-align: right;\">2</td></tr><tr><td class = \"rowNumber\" style = \"font-weight: bold; text-align: right;\">9999992</td><td style = \"text-align: right;\">9999992</td><td style = \"text-align: left;\">[0.250463, 0.0902904, 0.819689]</td><td style = \"text-align: right;\">3</td></tr><tr><td class = \"rowNumber\" style = \"font-weight: bold; text-align: right;\">9999993</td><td style = \"text-align: right;\">9999993</td><td style = \"text-align: left;\">[0.244057, 0.362004, 0.622883]</td><td style = \"text-align: right;\">3</td></tr><tr><td class = \"rowNumber\" style = \"font-weight: bold; text-align: right;\">9999994</td><td style = \"text-align: right;\">9999994</td><td style = \"text-align: left;\">[0.276033, 0.0589574, 0.671261]</td><td style = \"text-align: right;\">3</td></tr><tr><td class = \"rowNumber\" style = \"font-weight: bold; text-align: right;\">9999995</td><td style = \"text-align: right;\">9999995</td><td style = \"text-align: left;\">[0.218739, 0.363075, 0.489587]</td><td style = \"text-align: right;\">3</td></tr><tr><td class = \"rowNumber\" style = \"font-weight: bold; text-align: right;\">9999996</td><td style = \"text-align: right;\">9999996</td><td style = \"text-align: left;\">[0.98508, 0.36251]</td><td style = \"text-align: right;\">2</td></tr><tr><td class = \"rowNumber\" style = \"font-weight: bold; text-align: right;\">9999997</td><td style = \"text-align: right;\">9999997</td><td style = \"text-align: left;\">[0.00683499, 0.599195, 0.901885]</td><td style = \"text-align: right;\">3</td></tr><tr><td class = \"rowNumber\" style = \"font-weight: bold; text-align: right;\">9999998</td><td style = \"text-align: right;\">9999998</td><td style = \"text-align: left;\">[0.754418, 0.292303]</td><td style = \"text-align: right;\">2</td></tr><tr><td class = \"rowNumber\" style = \"font-weight: bold; text-align: right;\">9999999</td><td style = \"text-align: right;\">9999999</td><td style = \"text-align: left;\">[0.312918, 0.747878]</td><td style = \"text-align: right;\">2</td></tr><tr><td class = \"rowNumber\" style = \"font-weight: bold; text-align: right;\">10000000</td><td style = \"text-align: right;\">10000000</td><td style = \"text-align: left;\">[0.266816, 0.849234]</td><td style = \"text-align: right;\">2</td></tr></tbody></table></div>"
      ],
      "text/latex": [
       "\\begin{tabular}{r|ccc}\n",
       "\t& id & pos & jumps\\\\\n",
       "\t\\hline\n",
       "\t& Int64 & Array… & Int64\\\\\n",
       "\t\\hline\n",
       "\t1 & 1 & [0.243289, 0.790257] & 2 \\\\\n",
       "\t2 & 2 & [0.906635, 0.185474] & 2 \\\\\n",
       "\t3 & 3 & [0.624293, 0.841742] & 2 \\\\\n",
       "\t4 & 4 & [0.799639, 0.468297] & 2 \\\\\n",
       "\t5 & 5 & [0.531773, 0.594576] & 2 \\\\\n",
       "\t6 & 6 & [0.340012, 0.0766111, 0.290969, 0.0647359, 0.4483] & 5 \\\\\n",
       "\t7 & 7 & [0.582394, 0.158404, 0.950302] & 3 \\\\\n",
       "\t8 & 8 & [0.389736, 0.765822] & 2 \\\\\n",
       "\t9 & 9 & [0.84892, 0.222576] & 2 \\\\\n",
       "\t10 & 10 & [0.353405, 0.976458] & 2 \\\\\n",
       "\t11 & 11 & [0.319276, 0.584568, 0.177428] & 3 \\\\\n",
       "\t12 & 12 & [0.0317004, 0.750435, 0.838082] & 3 \\\\\n",
       "\t13 & 13 & [0.502784, 0.618428] & 2 \\\\\n",
       "\t14 & 14 & [0.53031, 0.0948671, 0.0802864, 0.60007] & 4 \\\\\n",
       "\t15 & 15 & [0.78395, 0.837736] & 2 \\\\\n",
       "\t16 & 16 & [0.351311, 0.56067, 0.38109] & 3 \\\\\n",
       "\t17 & 17 & [0.923577, 0.193459] & 2 \\\\\n",
       "\t18 & 18 & [0.997895, 0.841204] & 2 \\\\\n",
       "\t19 & 19 & [0.65997, 0.0751402, 0.656286] & 3 \\\\\n",
       "\t20 & 20 & [0.890928, 0.493329] & 2 \\\\\n",
       "\t21 & 21 & [0.768999, 0.835887] & 2 \\\\\n",
       "\t22 & 22 & [0.872433, 0.602164] & 2 \\\\\n",
       "\t23 & 23 & [0.0803977, 0.263871, 0.716441] & 3 \\\\\n",
       "\t24 & 24 & [0.823989, 0.89681] & 2 \\\\\n",
       "\t25 & 25 & [0.322119, 0.298275, 0.425151] & 3 \\\\\n",
       "\t26 & 26 & [0.599383, 0.616952] & 2 \\\\\n",
       "\t27 & 27 & [0.744003, 0.59537] & 2 \\\\\n",
       "\t28 & 28 & [0.811623, 0.41147] & 2 \\\\\n",
       "\t29 & 29 & [0.107426, 0.582964, 0.0082268, 0.874578] & 4 \\\\\n",
       "\t30 & 30 & [0.492957, 0.192722, 0.587188] & 3 \\\\\n",
       "\t$\\dots$ & $\\dots$ & $\\dots$ & $\\dots$ \\\\\n",
       "\\end{tabular}\n"
      ],
      "text/plain": [
       "\u001b[1m10000000×3 DataFrame\u001b[0m\n",
       "\u001b[1m      Row \u001b[0m│\u001b[1m id       \u001b[0m\u001b[1m pos                               \u001b[0m\u001b[1m jumps \u001b[0m\n",
       "          │\u001b[90m Int64    \u001b[0m\u001b[90m Array…                            \u001b[0m\u001b[90m Int64 \u001b[0m\n",
       "──────────┼────────────────────────────────────────────────────\n",
       "        1 │        1  [0.243289, 0.790257]                   2\n",
       "        2 │        2  [0.906635, 0.185474]                   2\n",
       "        3 │        3  [0.624293, 0.841742]                   2\n",
       "        4 │        4  [0.799639, 0.468297]                   2\n",
       "        5 │        5  [0.531773, 0.594576]                   2\n",
       "        6 │        6  [0.340012, 0.0766111, 0.290969, …      5\n",
       "        7 │        7  [0.582394, 0.158404, 0.950302]         3\n",
       "        8 │        8  [0.389736, 0.765822]                   2\n",
       "        9 │        9  [0.84892, 0.222576]                    2\n",
       "       10 │       10  [0.353405, 0.976458]                   2\n",
       "       11 │       11  [0.319276, 0.584568, 0.177428]         3\n",
       "    ⋮     │    ⋮                      ⋮                    ⋮\n",
       "  9999991 │  9999991  [0.362219, 0.73804]                    2\n",
       "  9999992 │  9999992  [0.250463, 0.0902904, 0.819689]        3\n",
       "  9999993 │  9999993  [0.244057, 0.362004, 0.622883]         3\n",
       "  9999994 │  9999994  [0.276033, 0.0589574, 0.671261]        3\n",
       "  9999995 │  9999995  [0.218739, 0.363075, 0.489587]         3\n",
       "  9999996 │  9999996  [0.98508, 0.36251]                     2\n",
       "  9999997 │  9999997  [0.00683499, 0.599195, 0.901885]       3\n",
       "  9999998 │  9999998  [0.754418, 0.292303]                   2\n",
       "  9999999 │  9999999  [0.312918, 0.747878]                   2\n",
       " 10000000 │ 10000000  [0.266816, 0.849234]                   2\n",
       "\u001b[36m                                           9999979 rows omitted\u001b[0m"
      ]
     },
     "execution_count": 32,
     "metadata": {},
     "output_type": "execute_result"
    }
   ],
   "source": [
    "transform!(df, :pos => ByRow(length) => :jumps)"
   ]
  },
  {
   "cell_type": "markdown",
   "metadata": {},
   "source": [
    "Let us dissect what we have written above:\n",
    "* `transform!` adds columns to a data frame in-place\n",
    "* `:pos` is a source column\n",
    "* `ByRow(length)` tells us that we want to apply `length` function to each element for `:pos` column (without it `length` would be applied to the whole column - can you guess what would be the result?) Answer : the result would be 10,000,000.\n",
    "* `:jumps` is the name of the column that should be created"
   ]
  },
  {
   "cell_type": "markdown",
   "metadata": {},
   "source": [
    "Now we are ready to find the average number of jumps that are made:"
   ]
  },
  {
   "cell_type": "code",
   "execution_count": 33,
   "metadata": {},
   "outputs": [
    {
     "data": {
      "text/plain": [
       "2.7180493"
      ]
     },
     "execution_count": 33,
     "metadata": {},
     "output_type": "execute_result"
    }
   ],
   "source": [
    "mean(df.jumps)"
   ]
  },
  {
   "cell_type": "markdown",
   "metadata": {},
   "source": [
    "or"
   ]
  },
  {
   "cell_type": "code",
   "execution_count": 34,
   "metadata": {},
   "outputs": [
    {
     "data": {
      "text/html": [
       "<div><div style = \"float: left;\"><span>1×1 DataFrame</span></div><div style = \"clear: both;\"></div></div><div class = \"data-frame\" style = \"overflow-x: scroll;\"><table class = \"data-frame\" style = \"margin-bottom: 6px;\"><thead><tr class = \"header\"><th class = \"rowNumber\" style = \"font-weight: bold; text-align: right;\">Row</th><th style = \"text-align: left;\">jumps_mean</th></tr><tr class = \"subheader headerLastRow\"><th class = \"rowNumber\" style = \"font-weight: bold; text-align: right;\"></th><th title = \"Float64\" style = \"text-align: left;\">Float64</th></tr></thead><tbody><tr><td class = \"rowNumber\" style = \"font-weight: bold; text-align: right;\">1</td><td style = \"text-align: right;\">2.71805</td></tr></tbody></table></div>"
      ],
      "text/latex": [
       "\\begin{tabular}{r|c}\n",
       "\t& jumps\\_mean\\\\\n",
       "\t\\hline\n",
       "\t& Float64\\\\\n",
       "\t\\hline\n",
       "\t1 & 2.71805 \\\\\n",
       "\\end{tabular}\n"
      ],
      "text/plain": [
       "\u001b[1m1×1 DataFrame\u001b[0m\n",
       "\u001b[1m Row \u001b[0m│\u001b[1m jumps_mean \u001b[0m\n",
       "     │\u001b[90m Float64    \u001b[0m\n",
       "─────┼────────────\n",
       "   1 │    2.71805"
      ]
     },
     "execution_count": 34,
     "metadata": {},
     "output_type": "execute_result"
    }
   ],
   "source": [
    "combine(df, :jumps => mean)"
   ]
  },
  {
   "cell_type": "markdown",
   "metadata": {},
   "source": [
    "which happens to be very close to:"
   ]
  },
  {
   "cell_type": "code",
   "execution_count": 35,
   "metadata": {
    "scrolled": true
   },
   "outputs": [
    {
     "data": {
      "text/plain": [
       "ℯ = 2.7182818284590..."
      ]
     },
     "execution_count": 35,
     "metadata": {},
     "output_type": "execute_result"
    }
   ],
   "source": [
    "MathConstants.e"
   ]
  },
  {
   "cell_type": "markdown",
   "metadata": {},
   "source": [
    "**Aditional information**\n",
    "\n",
    "In Julia, MathConstants.e is a constant representing the mathematical constant Euler's number, which is approximately equal to 2.718281828459045. Euler's number is a fundamental mathematical constant that arises in various areas of mathematics and is commonly used in calculations involving exponential growth and decay, as well as in calculus and analysis. In Julia, MathConstants.e provides easy access to this constant for use in mathematical computations.\n",
    "\n",
    "\n",
    "In Monte Carlo methods, e is often used as the base for exponential functions to model probabilities or rates of occurrence in random processes. It is a key mathematical constant that helps in estimating probabilities and solving problems involving random variables. By using e in exponential calculations, Monte Carlo simulations can generate random samples and make probabilistic predictions in various fields, such as finance, physics, and statistics."
   ]
  },
  {
   "cell_type": "markdown",
   "metadata": {},
   "source": [
    "Let us now find a distribution of number of jumps:"
   ]
  },
  {
   "cell_type": "code",
   "execution_count": 36,
   "metadata": {},
   "outputs": [
    {
     "data": {
      "text/html": [
       "<div><div style = \"float: left;\"><span>10×2 DataFrame</span></div><div style = \"clear: both;\"></div></div><div class = \"data-frame\" style = \"overflow-x: scroll;\"><table class = \"data-frame\" style = \"margin-bottom: 6px;\"><thead><tr class = \"header\"><th class = \"rowNumber\" style = \"font-weight: bold; text-align: right;\">Row</th><th style = \"text-align: left;\">jumps</th><th style = \"text-align: left;\">jumps_length</th></tr><tr class = \"subheader headerLastRow\"><th class = \"rowNumber\" style = \"font-weight: bold; text-align: right;\"></th><th title = \"Int64\" style = \"text-align: left;\">Int64</th><th title = \"Int64\" style = \"text-align: left;\">Int64</th></tr></thead><tbody><tr><td class = \"rowNumber\" style = \"font-weight: bold; text-align: right;\">1</td><td style = \"text-align: right;\">2</td><td style = \"text-align: right;\">5002159</td></tr><tr><td class = \"rowNumber\" style = \"font-weight: bold; text-align: right;\">2</td><td style = \"text-align: right;\">3</td><td style = \"text-align: right;\">3331430</td></tr><tr><td class = \"rowNumber\" style = \"font-weight: bold; text-align: right;\">3</td><td style = \"text-align: right;\">4</td><td style = \"text-align: right;\">1249270</td></tr><tr><td class = \"rowNumber\" style = \"font-weight: bold; text-align: right;\">4</td><td style = \"text-align: right;\">5</td><td style = \"text-align: right;\">334169</td></tr><tr><td class = \"rowNumber\" style = \"font-weight: bold; text-align: right;\">5</td><td style = \"text-align: right;\">6</td><td style = \"text-align: right;\">69093</td></tr><tr><td class = \"rowNumber\" style = \"font-weight: bold; text-align: right;\">6</td><td style = \"text-align: right;\">7</td><td style = \"text-align: right;\">11926</td></tr><tr><td class = \"rowNumber\" style = \"font-weight: bold; text-align: right;\">7</td><td style = \"text-align: right;\">8</td><td style = \"text-align: right;\">1689</td></tr><tr><td class = \"rowNumber\" style = \"font-weight: bold; text-align: right;\">8</td><td style = \"text-align: right;\">9</td><td style = \"text-align: right;\">236</td></tr><tr><td class = \"rowNumber\" style = \"font-weight: bold; text-align: right;\">9</td><td style = \"text-align: right;\">10</td><td style = \"text-align: right;\">24</td></tr><tr><td class = \"rowNumber\" style = \"font-weight: bold; text-align: right;\">10</td><td style = \"text-align: right;\">11</td><td style = \"text-align: right;\">4</td></tr></tbody></table></div>"
      ],
      "text/latex": [
       "\\begin{tabular}{r|cc}\n",
       "\t& jumps & jumps\\_length\\\\\n",
       "\t\\hline\n",
       "\t& Int64 & Int64\\\\\n",
       "\t\\hline\n",
       "\t1 & 2 & 5002159 \\\\\n",
       "\t2 & 3 & 3331430 \\\\\n",
       "\t3 & 4 & 1249270 \\\\\n",
       "\t4 & 5 & 334169 \\\\\n",
       "\t5 & 6 & 69093 \\\\\n",
       "\t6 & 7 & 11926 \\\\\n",
       "\t7 & 8 & 1689 \\\\\n",
       "\t8 & 9 & 236 \\\\\n",
       "\t9 & 10 & 24 \\\\\n",
       "\t10 & 11 & 4 \\\\\n",
       "\\end{tabular}\n"
      ],
      "text/plain": [
       "\u001b[1m10×2 DataFrame\u001b[0m\n",
       "\u001b[1m Row \u001b[0m│\u001b[1m jumps \u001b[0m\u001b[1m jumps_length \u001b[0m\n",
       "     │\u001b[90m Int64 \u001b[0m\u001b[90m Int64        \u001b[0m\n",
       "─────┼─────────────────────\n",
       "   1 │     2       5002159\n",
       "   2 │     3       3331430\n",
       "   3 │     4       1249270\n",
       "   4 │     5        334169\n",
       "   5 │     6         69093\n",
       "   6 │     7         11926\n",
       "   7 │     8          1689\n",
       "   8 │     9           236\n",
       "   9 │    10            24\n",
       "  10 │    11             4"
      ]
     },
     "execution_count": 36,
     "metadata": {},
     "output_type": "execute_result"
    }
   ],
   "source": [
    "jumps_agg = @pipe df |>\n",
    "                  groupby(_, :jumps, sort=true) |>\n",
    "                  combine(_, :jumps => length)"
   ]
  },
  {
   "cell_type": "markdown",
   "metadata": {},
   "source": [
    "and normalize it as a fraction (and at the same time calculate some theoretical result that we have *guessed* :)):"
   ]
  },
  {
   "cell_type": "code",
   "execution_count": 37,
   "metadata": {},
   "outputs": [
    {
     "data": {
      "text/html": [
       "<div><div style = \"float: left;\"><span>10×4 DataFrame</span></div><div style = \"clear: both;\"></div></div><div class = \"data-frame\" style = \"overflow-x: scroll;\"><table class = \"data-frame\" style = \"margin-bottom: 6px;\"><thead><tr class = \"header\"><th class = \"rowNumber\" style = \"font-weight: bold; text-align: right;\">Row</th><th style = \"text-align: left;\">jumps</th><th style = \"text-align: left;\">jumps_length</th><th style = \"text-align: left;\">simulation</th><th style = \"text-align: left;\">theory</th></tr><tr class = \"subheader headerLastRow\"><th class = \"rowNumber\" style = \"font-weight: bold; text-align: right;\"></th><th title = \"Int64\" style = \"text-align: left;\">Int64</th><th title = \"Int64\" style = \"text-align: left;\">Int64</th><th title = \"Float64\" style = \"text-align: left;\">Float64</th><th title = \"Float64\" style = \"text-align: left;\">Float64</th></tr></thead><tbody><tr><td class = \"rowNumber\" style = \"font-weight: bold; text-align: right;\">1</td><td style = \"text-align: right;\">2</td><td style = \"text-align: right;\">5002159</td><td style = \"text-align: right;\">0.500216</td><td style = \"text-align: right;\">0.5</td></tr><tr><td class = \"rowNumber\" style = \"font-weight: bold; text-align: right;\">2</td><td style = \"text-align: right;\">3</td><td style = \"text-align: right;\">3331430</td><td style = \"text-align: right;\">0.333143</td><td style = \"text-align: right;\">0.333333</td></tr><tr><td class = \"rowNumber\" style = \"font-weight: bold; text-align: right;\">3</td><td style = \"text-align: right;\">4</td><td style = \"text-align: right;\">1249270</td><td style = \"text-align: right;\">0.124927</td><td style = \"text-align: right;\">0.125</td></tr><tr><td class = \"rowNumber\" style = \"font-weight: bold; text-align: right;\">4</td><td style = \"text-align: right;\">5</td><td style = \"text-align: right;\">334169</td><td style = \"text-align: right;\">0.0334169</td><td style = \"text-align: right;\">0.0333333</td></tr><tr><td class = \"rowNumber\" style = \"font-weight: bold; text-align: right;\">5</td><td style = \"text-align: right;\">6</td><td style = \"text-align: right;\">69093</td><td style = \"text-align: right;\">0.0069093</td><td style = \"text-align: right;\">0.00694444</td></tr><tr><td class = \"rowNumber\" style = \"font-weight: bold; text-align: right;\">6</td><td style = \"text-align: right;\">7</td><td style = \"text-align: right;\">11926</td><td style = \"text-align: right;\">0.0011926</td><td style = \"text-align: right;\">0.00119048</td></tr><tr><td class = \"rowNumber\" style = \"font-weight: bold; text-align: right;\">7</td><td style = \"text-align: right;\">8</td><td style = \"text-align: right;\">1689</td><td style = \"text-align: right;\">0.0001689</td><td style = \"text-align: right;\">0.000173611</td></tr><tr><td class = \"rowNumber\" style = \"font-weight: bold; text-align: right;\">8</td><td style = \"text-align: right;\">9</td><td style = \"text-align: right;\">236</td><td style = \"text-align: right;\">2.36e-5</td><td style = \"text-align: right;\">2.20459e-5</td></tr><tr><td class = \"rowNumber\" style = \"font-weight: bold; text-align: right;\">9</td><td style = \"text-align: right;\">10</td><td style = \"text-align: right;\">24</td><td style = \"text-align: right;\">2.4e-6</td><td style = \"text-align: right;\">2.48016e-6</td></tr><tr><td class = \"rowNumber\" style = \"font-weight: bold; text-align: right;\">10</td><td style = \"text-align: right;\">11</td><td style = \"text-align: right;\">4</td><td style = \"text-align: right;\">4.0e-7</td><td style = \"text-align: right;\">2.50521e-7</td></tr></tbody></table></div>"
      ],
      "text/latex": [
       "\\begin{tabular}{r|cccc}\n",
       "\t& jumps & jumps\\_length & simulation & theory\\\\\n",
       "\t\\hline\n",
       "\t& Int64 & Int64 & Float64 & Float64\\\\\n",
       "\t\\hline\n",
       "\t1 & 2 & 5002159 & 0.500216 & 0.5 \\\\\n",
       "\t2 & 3 & 3331430 & 0.333143 & 0.333333 \\\\\n",
       "\t3 & 4 & 1249270 & 0.124927 & 0.125 \\\\\n",
       "\t4 & 5 & 334169 & 0.0334169 & 0.0333333 \\\\\n",
       "\t5 & 6 & 69093 & 0.0069093 & 0.00694444 \\\\\n",
       "\t6 & 7 & 11926 & 0.0011926 & 0.00119048 \\\\\n",
       "\t7 & 8 & 1689 & 0.0001689 & 0.000173611 \\\\\n",
       "\t8 & 9 & 236 & 2.36e-5 & 2.20459e-5 \\\\\n",
       "\t9 & 10 & 24 & 2.4e-6 & 2.48016e-6 \\\\\n",
       "\t10 & 11 & 4 & 4.0e-7 & 2.50521e-7 \\\\\n",
       "\\end{tabular}\n"
      ],
      "text/plain": [
       "\u001b[1m10×4 DataFrame\u001b[0m\n",
       "\u001b[1m Row \u001b[0m│\u001b[1m jumps \u001b[0m\u001b[1m jumps_length \u001b[0m\u001b[1m simulation \u001b[0m\u001b[1m theory      \u001b[0m\n",
       "     │\u001b[90m Int64 \u001b[0m\u001b[90m Int64        \u001b[0m\u001b[90m Float64    \u001b[0m\u001b[90m Float64     \u001b[0m\n",
       "─────┼──────────────────────────────────────────────\n",
       "   1 │     2       5002159   0.500216   0.5\n",
       "   2 │     3       3331430   0.333143   0.333333\n",
       "   3 │     4       1249270   0.124927   0.125\n",
       "   4 │     5        334169   0.0334169  0.0333333\n",
       "   5 │     6         69093   0.0069093  0.00694444\n",
       "   6 │     7         11926   0.0011926  0.00119048\n",
       "   7 │     8          1689   0.0001689  0.000173611\n",
       "   8 │     9           236   2.36e-5    2.20459e-5\n",
       "   9 │    10            24   2.4e-6     2.48016e-6\n",
       "  10 │    11             4   4.0e-7     2.50521e-7"
      ]
     },
     "execution_count": 37,
     "metadata": {},
     "output_type": "execute_result"
    }
   ],
   "source": [
    "transform!(jumps_agg,\n",
    "           :jumps_length => (x -> x ./ sum(x)) => :simulation,\n",
    "           :jumps => ByRow(x -> (x-1) / factorial(x)) => :theory)"
   ]
  },
  {
   "cell_type": "markdown",
   "metadata": {},
   "source": [
    "Let us briefly justify how we have guessed it (you can safely skip the derivation):\n",
    "\n",
    "Formula\n",
    "$$\n",
    "p_n = \\frac{n-1}{n!}\n",
    "$$\n",
    "\n",
    "$$\n",
    "\\sum_{n=2}^{+\\infty}p_n=\\sum_{n=2}^{+\\infty} \\frac{n-1}{n!} = \\sum_{n=1}^{+\\infty} \\frac{1}{n!} - \\sum_{n=2}^{+\\infty} \\frac{1}{n!} = 1\n",
    "$$\n",
    "\n",
    "$$\n",
    "\\sum_{n=2}^{+\\infty}n\\cdot p_n=\\sum_{n=2}^{+\\infty} n\\frac{n-1}{n!} = \\sum_{n=2}^{+\\infty} \\frac{1}{(n-2)!} = e\n",
    "$$\n",
    "\n",
    "Now we note that:\n",
    "\n",
    "$$\n",
    "1-\\sum_{n=2}^k p_n = \\frac{1}{k!}\n",
    "$$\n",
    "which can be most easily justified by a geometric argument."
   ]
  },
  {
   "cell_type": "markdown",
   "metadata": {},
   "source": [
    "To finish this section of the tutorial let us check if random numbers generated using `rand()` were indeed $U(0,1)$."
   ]
  },
  {
   "cell_type": "markdown",
   "metadata": {},
   "source": [
    "To do this we will add some columns to `df` data frame."
   ]
  },
  {
   "cell_type": "code",
   "execution_count": 38,
   "metadata": {
    "scrolled": false
   },
   "outputs": [
    {
     "data": {
      "text/html": [
       "<div><div style = \"float: left;\"><span>10000000×3 DataFrame</span></div><div style = \"float: right;\"><span style = \"font-style: italic;\">9999975 rows omitted</span></div><div style = \"clear: both;\"></div></div><div class = \"data-frame\" style = \"overflow-x: scroll;\"><table class = \"data-frame\" style = \"margin-bottom: 6px;\"><thead><tr class = \"header\"><th class = \"rowNumber\" style = \"font-weight: bold; text-align: right;\">Row</th><th style = \"text-align: left;\">id</th><th style = \"text-align: left;\">pos</th><th style = \"text-align: left;\">jumps</th></tr><tr class = \"subheader headerLastRow\"><th class = \"rowNumber\" style = \"font-weight: bold; text-align: right;\"></th><th title = \"Int64\" style = \"text-align: left;\">Int64</th><th title = \"Vector{Float64}\" style = \"text-align: left;\">Array…</th><th title = \"Int64\" style = \"text-align: left;\">Int64</th></tr></thead><tbody><tr><td class = \"rowNumber\" style = \"font-weight: bold; text-align: right;\">1</td><td style = \"text-align: right;\">1</td><td style = \"text-align: left;\">[0.243289, 0.790257]</td><td style = \"text-align: right;\">2</td></tr><tr><td class = \"rowNumber\" style = \"font-weight: bold; text-align: right;\">2</td><td style = \"text-align: right;\">2</td><td style = \"text-align: left;\">[0.906635, 0.185474]</td><td style = \"text-align: right;\">2</td></tr><tr><td class = \"rowNumber\" style = \"font-weight: bold; text-align: right;\">3</td><td style = \"text-align: right;\">3</td><td style = \"text-align: left;\">[0.624293, 0.841742]</td><td style = \"text-align: right;\">2</td></tr><tr><td class = \"rowNumber\" style = \"font-weight: bold; text-align: right;\">4</td><td style = \"text-align: right;\">4</td><td style = \"text-align: left;\">[0.799639, 0.468297]</td><td style = \"text-align: right;\">2</td></tr><tr><td class = \"rowNumber\" style = \"font-weight: bold; text-align: right;\">5</td><td style = \"text-align: right;\">5</td><td style = \"text-align: left;\">[0.531773, 0.594576]</td><td style = \"text-align: right;\">2</td></tr><tr><td class = \"rowNumber\" style = \"font-weight: bold; text-align: right;\">6</td><td style = \"text-align: right;\">6</td><td style = \"text-align: left;\">[0.340012, 0.0766111, 0.290969, 0.0647359, 0.4483]</td><td style = \"text-align: right;\">5</td></tr><tr><td class = \"rowNumber\" style = \"font-weight: bold; text-align: right;\">7</td><td style = \"text-align: right;\">7</td><td style = \"text-align: left;\">[0.582394, 0.158404, 0.950302]</td><td style = \"text-align: right;\">3</td></tr><tr><td class = \"rowNumber\" style = \"font-weight: bold; text-align: right;\">8</td><td style = \"text-align: right;\">8</td><td style = \"text-align: left;\">[0.389736, 0.765822]</td><td style = \"text-align: right;\">2</td></tr><tr><td class = \"rowNumber\" style = \"font-weight: bold; text-align: right;\">9</td><td style = \"text-align: right;\">9</td><td style = \"text-align: left;\">[0.84892, 0.222576]</td><td style = \"text-align: right;\">2</td></tr><tr><td class = \"rowNumber\" style = \"font-weight: bold; text-align: right;\">10</td><td style = \"text-align: right;\">10</td><td style = \"text-align: left;\">[0.353405, 0.976458]</td><td style = \"text-align: right;\">2</td></tr><tr><td class = \"rowNumber\" style = \"font-weight: bold; text-align: right;\">11</td><td style = \"text-align: right;\">11</td><td style = \"text-align: left;\">[0.319276, 0.584568, 0.177428]</td><td style = \"text-align: right;\">3</td></tr><tr><td class = \"rowNumber\" style = \"font-weight: bold; text-align: right;\">12</td><td style = \"text-align: right;\">12</td><td style = \"text-align: left;\">[0.0317004, 0.750435, 0.838082]</td><td style = \"text-align: right;\">3</td></tr><tr><td class = \"rowNumber\" style = \"font-weight: bold; text-align: right;\">13</td><td style = \"text-align: right;\">13</td><td style = \"text-align: left;\">[0.502784, 0.618428]</td><td style = \"text-align: right;\">2</td></tr><tr><td style = \"text-align: right;\">&vellip;</td><td style = \"text-align: right;\">&vellip;</td><td style = \"text-align: right;\">&vellip;</td><td style = \"text-align: right;\">&vellip;</td></tr><tr><td class = \"rowNumber\" style = \"font-weight: bold; text-align: right;\">9999989</td><td style = \"text-align: right;\">9999989</td><td style = \"text-align: left;\">[0.776187, 0.15794, 0.0563733, 0.508645]</td><td style = \"text-align: right;\">4</td></tr><tr><td class = \"rowNumber\" style = \"font-weight: bold; text-align: right;\">9999990</td><td style = \"text-align: right;\">9999990</td><td style = \"text-align: left;\">[0.209859, 0.833044]</td><td style = \"text-align: right;\">2</td></tr><tr><td class = \"rowNumber\" style = \"font-weight: bold; text-align: right;\">9999991</td><td style = \"text-align: right;\">9999991</td><td style = \"text-align: left;\">[0.362219, 0.73804]</td><td style = \"text-align: right;\">2</td></tr><tr><td class = \"rowNumber\" style = \"font-weight: bold; text-align: right;\">9999992</td><td style = \"text-align: right;\">9999992</td><td style = \"text-align: left;\">[0.250463, 0.0902904, 0.819689]</td><td style = \"text-align: right;\">3</td></tr><tr><td class = \"rowNumber\" style = \"font-weight: bold; text-align: right;\">9999993</td><td style = \"text-align: right;\">9999993</td><td style = \"text-align: left;\">[0.244057, 0.362004, 0.622883]</td><td style = \"text-align: right;\">3</td></tr><tr><td class = \"rowNumber\" style = \"font-weight: bold; text-align: right;\">9999994</td><td style = \"text-align: right;\">9999994</td><td style = \"text-align: left;\">[0.276033, 0.0589574, 0.671261]</td><td style = \"text-align: right;\">3</td></tr><tr><td class = \"rowNumber\" style = \"font-weight: bold; text-align: right;\">9999995</td><td style = \"text-align: right;\">9999995</td><td style = \"text-align: left;\">[0.218739, 0.363075, 0.489587]</td><td style = \"text-align: right;\">3</td></tr><tr><td class = \"rowNumber\" style = \"font-weight: bold; text-align: right;\">9999996</td><td style = \"text-align: right;\">9999996</td><td style = \"text-align: left;\">[0.98508, 0.36251]</td><td style = \"text-align: right;\">2</td></tr><tr><td class = \"rowNumber\" style = \"font-weight: bold; text-align: right;\">9999997</td><td style = \"text-align: right;\">9999997</td><td style = \"text-align: left;\">[0.00683499, 0.599195, 0.901885]</td><td style = \"text-align: right;\">3</td></tr><tr><td class = \"rowNumber\" style = \"font-weight: bold; text-align: right;\">9999998</td><td style = \"text-align: right;\">9999998</td><td style = \"text-align: left;\">[0.754418, 0.292303]</td><td style = \"text-align: right;\">2</td></tr><tr><td class = \"rowNumber\" style = \"font-weight: bold; text-align: right;\">9999999</td><td style = \"text-align: right;\">9999999</td><td style = \"text-align: left;\">[0.312918, 0.747878]</td><td style = \"text-align: right;\">2</td></tr><tr><td class = \"rowNumber\" style = \"font-weight: bold; text-align: right;\">10000000</td><td style = \"text-align: right;\">10000000</td><td style = \"text-align: left;\">[0.266816, 0.849234]</td><td style = \"text-align: right;\">2</td></tr></tbody></table></div>"
      ],
      "text/latex": [
       "\\begin{tabular}{r|ccc}\n",
       "\t& id & pos & jumps\\\\\n",
       "\t\\hline\n",
       "\t& Int64 & Array… & Int64\\\\\n",
       "\t\\hline\n",
       "\t1 & 1 & [0.243289, 0.790257] & 2 \\\\\n",
       "\t2 & 2 & [0.906635, 0.185474] & 2 \\\\\n",
       "\t3 & 3 & [0.624293, 0.841742] & 2 \\\\\n",
       "\t4 & 4 & [0.799639, 0.468297] & 2 \\\\\n",
       "\t5 & 5 & [0.531773, 0.594576] & 2 \\\\\n",
       "\t6 & 6 & [0.340012, 0.0766111, 0.290969, 0.0647359, 0.4483] & 5 \\\\\n",
       "\t7 & 7 & [0.582394, 0.158404, 0.950302] & 3 \\\\\n",
       "\t8 & 8 & [0.389736, 0.765822] & 2 \\\\\n",
       "\t9 & 9 & [0.84892, 0.222576] & 2 \\\\\n",
       "\t10 & 10 & [0.353405, 0.976458] & 2 \\\\\n",
       "\t11 & 11 & [0.319276, 0.584568, 0.177428] & 3 \\\\\n",
       "\t12 & 12 & [0.0317004, 0.750435, 0.838082] & 3 \\\\\n",
       "\t13 & 13 & [0.502784, 0.618428] & 2 \\\\\n",
       "\t14 & 14 & [0.53031, 0.0948671, 0.0802864, 0.60007] & 4 \\\\\n",
       "\t15 & 15 & [0.78395, 0.837736] & 2 \\\\\n",
       "\t16 & 16 & [0.351311, 0.56067, 0.38109] & 3 \\\\\n",
       "\t17 & 17 & [0.923577, 0.193459] & 2 \\\\\n",
       "\t18 & 18 & [0.997895, 0.841204] & 2 \\\\\n",
       "\t19 & 19 & [0.65997, 0.0751402, 0.656286] & 3 \\\\\n",
       "\t20 & 20 & [0.890928, 0.493329] & 2 \\\\\n",
       "\t21 & 21 & [0.768999, 0.835887] & 2 \\\\\n",
       "\t22 & 22 & [0.872433, 0.602164] & 2 \\\\\n",
       "\t23 & 23 & [0.0803977, 0.263871, 0.716441] & 3 \\\\\n",
       "\t24 & 24 & [0.823989, 0.89681] & 2 \\\\\n",
       "\t25 & 25 & [0.322119, 0.298275, 0.425151] & 3 \\\\\n",
       "\t26 & 26 & [0.599383, 0.616952] & 2 \\\\\n",
       "\t27 & 27 & [0.744003, 0.59537] & 2 \\\\\n",
       "\t28 & 28 & [0.811623, 0.41147] & 2 \\\\\n",
       "\t29 & 29 & [0.107426, 0.582964, 0.0082268, 0.874578] & 4 \\\\\n",
       "\t30 & 30 & [0.492957, 0.192722, 0.587188] & 3 \\\\\n",
       "\t$\\dots$ & $\\dots$ & $\\dots$ & $\\dots$ \\\\\n",
       "\\end{tabular}\n"
      ],
      "text/plain": [
       "\u001b[1m10000000×3 DataFrame\u001b[0m\n",
       "\u001b[1m      Row \u001b[0m│\u001b[1m id       \u001b[0m\u001b[1m pos                               \u001b[0m\u001b[1m jumps \u001b[0m\n",
       "          │\u001b[90m Int64    \u001b[0m\u001b[90m Array…                            \u001b[0m\u001b[90m Int64 \u001b[0m\n",
       "──────────┼────────────────────────────────────────────────────\n",
       "        1 │        1  [0.243289, 0.790257]                   2\n",
       "        2 │        2  [0.906635, 0.185474]                   2\n",
       "        3 │        3  [0.624293, 0.841742]                   2\n",
       "        4 │        4  [0.799639, 0.468297]                   2\n",
       "        5 │        5  [0.531773, 0.594576]                   2\n",
       "        6 │        6  [0.340012, 0.0766111, 0.290969, …      5\n",
       "        7 │        7  [0.582394, 0.158404, 0.950302]         3\n",
       "        8 │        8  [0.389736, 0.765822]                   2\n",
       "        9 │        9  [0.84892, 0.222576]                    2\n",
       "       10 │       10  [0.353405, 0.976458]                   2\n",
       "       11 │       11  [0.319276, 0.584568, 0.177428]         3\n",
       "    ⋮     │    ⋮                      ⋮                    ⋮\n",
       "  9999991 │  9999991  [0.362219, 0.73804]                    2\n",
       "  9999992 │  9999992  [0.250463, 0.0902904, 0.819689]        3\n",
       "  9999993 │  9999993  [0.244057, 0.362004, 0.622883]         3\n",
       "  9999994 │  9999994  [0.276033, 0.0589574, 0.671261]        3\n",
       "  9999995 │  9999995  [0.218739, 0.363075, 0.489587]         3\n",
       "  9999996 │  9999996  [0.98508, 0.36251]                     2\n",
       "  9999997 │  9999997  [0.00683499, 0.599195, 0.901885]       3\n",
       "  9999998 │  9999998  [0.754418, 0.292303]                   2\n",
       "  9999999 │  9999999  [0.312918, 0.747878]                   2\n",
       " 10000000 │ 10000000  [0.266816, 0.849234]                   2\n",
       "\u001b[36m                                           9999979 rows omitted\u001b[0m"
      ]
     },
     "execution_count": 38,
     "metadata": {},
     "output_type": "execute_result"
    }
   ],
   "source": [
    "df"
   ]
  },
  {
   "cell_type": "code",
   "execution_count": 40,
   "metadata": {},
   "outputs": [
    {
     "data": {
      "text/html": [
       "<div><div style = \"float: left;\"><span>10000000×2 DataFrame</span></div><div style = \"float: right;\"><span style = \"font-style: italic;\">9999975 rows omitted</span></div><div style = \"clear: both;\"></div></div><div class = \"data-frame\" style = \"overflow-x: scroll;\"><table class = \"data-frame\" style = \"margin-bottom: 6px;\"><thead><tr class = \"header\"><th class = \"rowNumber\" style = \"font-weight: bold; text-align: right;\">Row</th><th style = \"text-align: left;\">first</th><th style = \"text-align: left;\">last</th></tr><tr class = \"subheader headerLastRow\"><th class = \"rowNumber\" style = \"font-weight: bold; text-align: right;\"></th><th title = \"Float64\" style = \"text-align: left;\">Float64</th><th title = \"Float64\" style = \"text-align: left;\">Float64</th></tr></thead><tbody><tr><td class = \"rowNumber\" style = \"font-weight: bold; text-align: right;\">1</td><td style = \"text-align: right;\">0.243289</td><td style = \"text-align: right;\">0.790257</td></tr><tr><td class = \"rowNumber\" style = \"font-weight: bold; text-align: right;\">2</td><td style = \"text-align: right;\">0.906635</td><td style = \"text-align: right;\">0.185474</td></tr><tr><td class = \"rowNumber\" style = \"font-weight: bold; text-align: right;\">3</td><td style = \"text-align: right;\">0.624293</td><td style = \"text-align: right;\">0.841742</td></tr><tr><td class = \"rowNumber\" style = \"font-weight: bold; text-align: right;\">4</td><td style = \"text-align: right;\">0.799639</td><td style = \"text-align: right;\">0.468297</td></tr><tr><td class = \"rowNumber\" style = \"font-weight: bold; text-align: right;\">5</td><td style = \"text-align: right;\">0.531773</td><td style = \"text-align: right;\">0.594576</td></tr><tr><td class = \"rowNumber\" style = \"font-weight: bold; text-align: right;\">6</td><td style = \"text-align: right;\">0.340012</td><td style = \"text-align: right;\">0.4483</td></tr><tr><td class = \"rowNumber\" style = \"font-weight: bold; text-align: right;\">7</td><td style = \"text-align: right;\">0.582394</td><td style = \"text-align: right;\">0.950302</td></tr><tr><td class = \"rowNumber\" style = \"font-weight: bold; text-align: right;\">8</td><td style = \"text-align: right;\">0.389736</td><td style = \"text-align: right;\">0.765822</td></tr><tr><td class = \"rowNumber\" style = \"font-weight: bold; text-align: right;\">9</td><td style = \"text-align: right;\">0.84892</td><td style = \"text-align: right;\">0.222576</td></tr><tr><td class = \"rowNumber\" style = \"font-weight: bold; text-align: right;\">10</td><td style = \"text-align: right;\">0.353405</td><td style = \"text-align: right;\">0.976458</td></tr><tr><td class = \"rowNumber\" style = \"font-weight: bold; text-align: right;\">11</td><td style = \"text-align: right;\">0.319276</td><td style = \"text-align: right;\">0.177428</td></tr><tr><td class = \"rowNumber\" style = \"font-weight: bold; text-align: right;\">12</td><td style = \"text-align: right;\">0.0317004</td><td style = \"text-align: right;\">0.838082</td></tr><tr><td class = \"rowNumber\" style = \"font-weight: bold; text-align: right;\">13</td><td style = \"text-align: right;\">0.502784</td><td style = \"text-align: right;\">0.618428</td></tr><tr><td style = \"text-align: right;\">&vellip;</td><td style = \"text-align: right;\">&vellip;</td><td style = \"text-align: right;\">&vellip;</td></tr><tr><td class = \"rowNumber\" style = \"font-weight: bold; text-align: right;\">9999989</td><td style = \"text-align: right;\">0.776187</td><td style = \"text-align: right;\">0.508645</td></tr><tr><td class = \"rowNumber\" style = \"font-weight: bold; text-align: right;\">9999990</td><td style = \"text-align: right;\">0.209859</td><td style = \"text-align: right;\">0.833044</td></tr><tr><td class = \"rowNumber\" style = \"font-weight: bold; text-align: right;\">9999991</td><td style = \"text-align: right;\">0.362219</td><td style = \"text-align: right;\">0.73804</td></tr><tr><td class = \"rowNumber\" style = \"font-weight: bold; text-align: right;\">9999992</td><td style = \"text-align: right;\">0.250463</td><td style = \"text-align: right;\">0.819689</td></tr><tr><td class = \"rowNumber\" style = \"font-weight: bold; text-align: right;\">9999993</td><td style = \"text-align: right;\">0.244057</td><td style = \"text-align: right;\">0.622883</td></tr><tr><td class = \"rowNumber\" style = \"font-weight: bold; text-align: right;\">9999994</td><td style = \"text-align: right;\">0.276033</td><td style = \"text-align: right;\">0.671261</td></tr><tr><td class = \"rowNumber\" style = \"font-weight: bold; text-align: right;\">9999995</td><td style = \"text-align: right;\">0.218739</td><td style = \"text-align: right;\">0.489587</td></tr><tr><td class = \"rowNumber\" style = \"font-weight: bold; text-align: right;\">9999996</td><td style = \"text-align: right;\">0.98508</td><td style = \"text-align: right;\">0.36251</td></tr><tr><td class = \"rowNumber\" style = \"font-weight: bold; text-align: right;\">9999997</td><td style = \"text-align: right;\">0.00683499</td><td style = \"text-align: right;\">0.901885</td></tr><tr><td class = \"rowNumber\" style = \"font-weight: bold; text-align: right;\">9999998</td><td style = \"text-align: right;\">0.754418</td><td style = \"text-align: right;\">0.292303</td></tr><tr><td class = \"rowNumber\" style = \"font-weight: bold; text-align: right;\">9999999</td><td style = \"text-align: right;\">0.312918</td><td style = \"text-align: right;\">0.747878</td></tr><tr><td class = \"rowNumber\" style = \"font-weight: bold; text-align: right;\">10000000</td><td style = \"text-align: right;\">0.266816</td><td style = \"text-align: right;\">0.849234</td></tr></tbody></table></div>"
      ],
      "text/latex": [
       "\\begin{tabular}{r|cc}\n",
       "\t& first & last\\\\\n",
       "\t\\hline\n",
       "\t& Float64 & Float64\\\\\n",
       "\t\\hline\n",
       "\t1 & 0.243289 & 0.790257 \\\\\n",
       "\t2 & 0.906635 & 0.185474 \\\\\n",
       "\t3 & 0.624293 & 0.841742 \\\\\n",
       "\t4 & 0.799639 & 0.468297 \\\\\n",
       "\t5 & 0.531773 & 0.594576 \\\\\n",
       "\t6 & 0.340012 & 0.4483 \\\\\n",
       "\t7 & 0.582394 & 0.950302 \\\\\n",
       "\t8 & 0.389736 & 0.765822 \\\\\n",
       "\t9 & 0.84892 & 0.222576 \\\\\n",
       "\t10 & 0.353405 & 0.976458 \\\\\n",
       "\t11 & 0.319276 & 0.177428 \\\\\n",
       "\t12 & 0.0317004 & 0.838082 \\\\\n",
       "\t13 & 0.502784 & 0.618428 \\\\\n",
       "\t14 & 0.53031 & 0.60007 \\\\\n",
       "\t15 & 0.78395 & 0.837736 \\\\\n",
       "\t16 & 0.351311 & 0.38109 \\\\\n",
       "\t17 & 0.923577 & 0.193459 \\\\\n",
       "\t18 & 0.997895 & 0.841204 \\\\\n",
       "\t19 & 0.65997 & 0.656286 \\\\\n",
       "\t20 & 0.890928 & 0.493329 \\\\\n",
       "\t21 & 0.768999 & 0.835887 \\\\\n",
       "\t22 & 0.872433 & 0.602164 \\\\\n",
       "\t23 & 0.0803977 & 0.716441 \\\\\n",
       "\t24 & 0.823989 & 0.89681 \\\\\n",
       "\t25 & 0.322119 & 0.425151 \\\\\n",
       "\t26 & 0.599383 & 0.616952 \\\\\n",
       "\t27 & 0.744003 & 0.59537 \\\\\n",
       "\t28 & 0.811623 & 0.41147 \\\\\n",
       "\t29 & 0.107426 & 0.874578 \\\\\n",
       "\t30 & 0.492957 & 0.587188 \\\\\n",
       "\t$\\dots$ & $\\dots$ & $\\dots$ \\\\\n",
       "\\end{tabular}\n"
      ],
      "text/plain": [
       "\u001b[1m10000000×2 DataFrame\u001b[0m\n",
       "\u001b[1m      Row \u001b[0m│\u001b[1m first      \u001b[0m\u001b[1m last      \u001b[0m\n",
       "          │\u001b[90m Float64    \u001b[0m\u001b[90m Float64   \u001b[0m\n",
       "──────────┼───────────────────────\n",
       "        1 │ 0.243289    0.790257\n",
       "        2 │ 0.906635    0.185474\n",
       "        3 │ 0.624293    0.841742\n",
       "        4 │ 0.799639    0.468297\n",
       "        5 │ 0.531773    0.594576\n",
       "        6 │ 0.340012    0.4483\n",
       "        7 │ 0.582394    0.950302\n",
       "        8 │ 0.389736    0.765822\n",
       "        9 │ 0.84892     0.222576\n",
       "       10 │ 0.353405    0.976458\n",
       "       11 │ 0.319276    0.177428\n",
       "    ⋮     │     ⋮           ⋮\n",
       "  9999991 │ 0.362219    0.73804\n",
       "  9999992 │ 0.250463    0.819689\n",
       "  9999993 │ 0.244057    0.622883\n",
       "  9999994 │ 0.276033    0.671261\n",
       "  9999995 │ 0.218739    0.489587\n",
       "  9999996 │ 0.98508     0.36251\n",
       "  9999997 │ 0.00683499  0.901885\n",
       "  9999998 │ 0.754418    0.292303\n",
       "  9999999 │ 0.312918    0.747878\n",
       " 10000000 │ 0.266816    0.849234\n",
       "\u001b[36m              9999979 rows omitted\u001b[0m"
      ]
     },
     "execution_count": 40,
     "metadata": {},
     "output_type": "execute_result"
    }
   ],
   "source": [
    "#So we want to select first and last element from out dataframe\n",
    "\n",
    "df_test = select(df, :pos => ByRow(first) => :first, :pos => ByRow(last) => :last)"
   ]
  },
  {
   "cell_type": "code",
   "execution_count": 41,
   "metadata": {},
   "outputs": [
    {
     "data": {
      "image/png": "[encoded data removed]",
      "text/plain": [
       "Figure(PyObject <Figure size 640x480 with 1 Axes>)"
      ]
     },
     "metadata": {},
     "output_type": "display_data"
    }
   ],
   "source": [
    "hist(df_test.first, 100);"
   ]
  },
  {
   "cell_type": "markdown",
   "metadata": {},
   "source": [
    "So far all looks good. But let us look at the distribution of the last dawn random number:"
   ]
  },
  {
   "cell_type": "code",
   "execution_count": 42,
   "metadata": {},
   "outputs": [
    {
     "data": {
      "image/png": "[encoded data removed]",
      "text/plain": [
       "Figure(PyObject <Figure size 640x480 with 1 Axes>)"
      ]
     },
     "metadata": {},
     "output_type": "display_data"
    }
   ],
   "source": [
    "hist(df_test.last, 100);"
   ]
  },
  {
   "cell_type": "markdown",
   "metadata": {},
   "source": [
    "So - is the `rand()` function broken for the last generated random number in each sequence or something else has made the distribution stop being uniform?"
   ]
  },
  {
   "cell_type": "markdown",
   "metadata": {},
   "source": [
    "**Answer** : If I draw random numbers and I stoped my process when I execeed 1, that means that last value I have drawn is more likely to be large. Why? Because conditionally I know that this last number and I have additional information that drawing this number let me to stop drawing process so if this number was very small it would be much less likely that the process stoped than when the number is very large. "
   ]
  }
 ],
 "metadata": {
  "kernelspec": {
   "display_name": "Julia 1.8.5",
   "language": "julia",
   "name": "julia-1.8"
  },
  "language_info": {
   "file_extension": ".jl",
   "mimetype": "application/julia",
   "name": "julia",
   "version": "1.8.5"
  }
 },
 "nbformat": 4,
 "nbformat_minor": 4
}
