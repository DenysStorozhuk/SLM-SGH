{
 "cells": [
  {
   "cell_type": "markdown",
   "metadata": {},
   "source": [
    "# Building and Assessing ML Models"
   ]
  },
  {
   "cell_type": "markdown",
   "metadata": {},
   "source": [
    "Machine Learning models can be categorized into a hierarchy based on the structure of the problem and performed task:\n",
    "1. Supervised learning - a ML problem where _labels_ are present in the dataset and the goal is to train the model on the labelled data, which is further used to predict labels for a data without the labels; example tasks:\n",
    "    * Classification (categorical labels, e.g. indication of good or bad credit, dog or cat, digit present on the image)\n",
    "    * Regression (continuous label, e.g. price of the house, person height, average score of the movie)\n",
    "    * Forecasting (similar to regression, but time dimension is of essence, e.g. demand volume for the product, GDP in next years, inflation prediction)\n",
    "2. Unsupervised learning - ML tasks without _labels_ focused on finding and unveiling patterns in the data; standard tasks breakdown involves:\n",
    "    * Clustering (finding groups of similar observations, e.g. groups of customers for marketing campaign, groups of bank's clients for transaction monitoring process)\n",
    "    * Dimensionality reduction (reducing size of the data while keeping the information content maximized, also used for anonymisation or denoising)\n",
    "    * Anomaly and novelty detection (identifying outliers in the data, e.g. frauds in transaction data, suspicious computer network activity)\n",
    "3. Reinforcement learning - algorithms focused on maximizing the reward in given task, e.g. playing a game as well as possible (chess, Go, Starcraft, Atari games), maximizing the return in stock market\n",
    "\n",
    "Various sources may also distinct a following groups:\n",
    "* Semi-supervised learning - combination of supervised and unsupervised learning in one algorithm, e.g. classification utilising information from unlabelled data to predict labelled data more accurately\n",
    "* Self-supervied learning - an approach to ML problem in which algorithm produce labels for unlabelled data and then conduct supervised learning on the outcome, [particular researchers](https://venturebeat.com/ai/yann-lecun-and-yoshua-bengio-self-supervised-learning-is-the-key-to-human-level-intelligence/) see it as promising way to Artificial General Intelligence (but sure there is lot ahead)"
   ]
  },
  {
   "cell_type": "markdown",
   "metadata": {},
   "source": [
    "## 1. Import needed modules"
   ]
  },
  {
   "cell_type": "code",
   "execution_count": 1,
   "metadata": {},
   "outputs": [
    {
     "name": "stderr",
     "output_type": "stream",
     "text": [
      "\u001b[36m\u001b[1m[ \u001b[22m\u001b[39m\u001b[36m\u001b[1mInfo: \u001b[22m\u001b[39mPrecompiling StatsPlots [f3b207a7-027a-5e70-b257-86293d7955fd]\n"
     ]
    }
   ],
   "source": [
    "using Downloads\n",
    "using CSV\n",
    "using MLJ\n",
    "using DataFrames\n",
    "using GLM\n",
    "using Random\n",
    "using ROCCurves\n",
    "using FreqTables\n",
    "using StatsPlots"
   ]
  },
  {
   "cell_type": "markdown",
   "metadata": {},
   "source": [
    "## 2. Data loading, pre-processing and splitting into train and validation subsets"
   ]
  },
  {
   "cell_type": "markdown",
   "metadata": {},
   "source": [
    "### Data loading & pre-processing"
   ]
  },
  {
   "cell_type": "code",
   "execution_count": 2,
   "metadata": {},
   "outputs": [
    {
     "data": {
      "text/plain": [
       "\"australian.csv\""
      ]
     },
     "execution_count": 2,
     "metadata": {},
     "output_type": "execute_result"
    }
   ],
   "source": [
    "url = \"http://archive.ics.uci.edu/ml/machine-learning-databases/statlog/australian/australian.dat\"\n",
    "Downloads.download(url, \"australian.csv\")"
   ]
  },
  {
   "cell_type": "code",
   "execution_count": 3,
   "metadata": {},
   "outputs": [
    {
     "data": {
      "text/html": [
       "<div><div style = \"float: left;\"><span>690×15 DataFrame</span></div><div style = \"float: right;\"><span style = \"font-style: italic;\">665 rows omitted</span></div><div style = \"clear: both;\"></div></div><div class = \"data-frame\" style = \"overflow-x: scroll;\"><table class = \"data-frame\" style = \"margin-bottom: 6px;\"><thead><tr class = \"header\"><th class = \"rowNumber\" style = \"font-weight: bold; text-align: right;\">Row</th><th style = \"text-align: left;\">V0</th><th style = \"text-align: left;\">V1</th><th style = \"text-align: left;\">V2</th><th style = \"text-align: left;\">V3</th><th style = \"text-align: left;\">V4</th><th style = \"text-align: left;\">V5</th><th style = \"text-align: left;\">V6</th><th style = \"text-align: left;\">V7</th><th style = \"text-align: left;\">V8</th><th style = \"text-align: left;\">V9</th><th style = \"text-align: left;\">V10</th><th style = \"text-align: left;\">V11</th><th style = \"text-align: left;\">V12</th><th style = \"text-align: left;\">V13</th><th style = \"text-align: left;\">class</th></tr><tr class = \"subheader headerLastRow\"><th class = \"rowNumber\" style = \"font-weight: bold; text-align: right;\"></th><th title = \"Int64\" style = \"text-align: left;\">Int64</th><th title = \"Float64\" style = \"text-align: left;\">Float64</th><th title = \"Float64\" style = \"text-align: left;\">Float64</th><th title = \"Int64\" style = \"text-align: left;\">Int64</th><th title = \"Int64\" style = \"text-align: left;\">Int64</th><th title = \"Int64\" style = \"text-align: left;\">Int64</th><th title = \"Float64\" style = \"text-align: left;\">Float64</th><th title = \"Int64\" style = \"text-align: left;\">Int64</th><th title = \"Int64\" style = \"text-align: left;\">Int64</th><th title = \"Int64\" style = \"text-align: left;\">Int64</th><th title = \"Int64\" style = \"text-align: left;\">Int64</th><th title = \"Int64\" style = \"text-align: left;\">Int64</th><th title = \"Int64\" style = \"text-align: left;\">Int64</th><th title = \"Int64\" style = \"text-align: left;\">Int64</th><th title = \"Int64\" style = \"text-align: left;\">Int64</th></tr></thead><tbody><tr><td class = \"rowNumber\" style = \"font-weight: bold; text-align: right;\">1</td><td style = \"text-align: right;\">1</td><td style = \"text-align: right;\">22.08</td><td style = \"text-align: right;\">11.46</td><td style = \"text-align: right;\">2</td><td style = \"text-align: right;\">4</td><td style = \"text-align: right;\">4</td><td style = \"text-align: right;\">1.585</td><td style = \"text-align: right;\">0</td><td style = \"text-align: right;\">0</td><td style = \"text-align: right;\">0</td><td style = \"text-align: right;\">1</td><td style = \"text-align: right;\">2</td><td style = \"text-align: right;\">100</td><td style = \"text-align: right;\">1213</td><td style = \"text-align: right;\">0</td></tr><tr><td class = \"rowNumber\" style = \"font-weight: bold; text-align: right;\">2</td><td style = \"text-align: right;\">0</td><td style = \"text-align: right;\">22.67</td><td style = \"text-align: right;\">7.0</td><td style = \"text-align: right;\">2</td><td style = \"text-align: right;\">8</td><td style = \"text-align: right;\">4</td><td style = \"text-align: right;\">0.165</td><td style = \"text-align: right;\">0</td><td style = \"text-align: right;\">0</td><td style = \"text-align: right;\">0</td><td style = \"text-align: right;\">0</td><td style = \"text-align: right;\">2</td><td style = \"text-align: right;\">160</td><td style = \"text-align: right;\">1</td><td style = \"text-align: right;\">0</td></tr><tr><td class = \"rowNumber\" style = \"font-weight: bold; text-align: right;\">3</td><td style = \"text-align: right;\">0</td><td style = \"text-align: right;\">29.58</td><td style = \"text-align: right;\">1.75</td><td style = \"text-align: right;\">1</td><td style = \"text-align: right;\">4</td><td style = \"text-align: right;\">4</td><td style = \"text-align: right;\">1.25</td><td style = \"text-align: right;\">0</td><td style = \"text-align: right;\">0</td><td style = \"text-align: right;\">0</td><td style = \"text-align: right;\">1</td><td style = \"text-align: right;\">2</td><td style = \"text-align: right;\">280</td><td style = \"text-align: right;\">1</td><td style = \"text-align: right;\">0</td></tr><tr><td class = \"rowNumber\" style = \"font-weight: bold; text-align: right;\">4</td><td style = \"text-align: right;\">0</td><td style = \"text-align: right;\">21.67</td><td style = \"text-align: right;\">11.5</td><td style = \"text-align: right;\">1</td><td style = \"text-align: right;\">5</td><td style = \"text-align: right;\">3</td><td style = \"text-align: right;\">0.0</td><td style = \"text-align: right;\">1</td><td style = \"text-align: right;\">1</td><td style = \"text-align: right;\">11</td><td style = \"text-align: right;\">1</td><td style = \"text-align: right;\">2</td><td style = \"text-align: right;\">0</td><td style = \"text-align: right;\">1</td><td style = \"text-align: right;\">1</td></tr><tr><td class = \"rowNumber\" style = \"font-weight: bold; text-align: right;\">5</td><td style = \"text-align: right;\">1</td><td style = \"text-align: right;\">20.17</td><td style = \"text-align: right;\">8.17</td><td style = \"text-align: right;\">2</td><td style = \"text-align: right;\">6</td><td style = \"text-align: right;\">4</td><td style = \"text-align: right;\">1.96</td><td style = \"text-align: right;\">1</td><td style = \"text-align: right;\">1</td><td style = \"text-align: right;\">14</td><td style = \"text-align: right;\">0</td><td style = \"text-align: right;\">2</td><td style = \"text-align: right;\">60</td><td style = \"text-align: right;\">159</td><td style = \"text-align: right;\">1</td></tr><tr><td class = \"rowNumber\" style = \"font-weight: bold; text-align: right;\">6</td><td style = \"text-align: right;\">0</td><td style = \"text-align: right;\">15.83</td><td style = \"text-align: right;\">0.585</td><td style = \"text-align: right;\">2</td><td style = \"text-align: right;\">8</td><td style = \"text-align: right;\">8</td><td style = \"text-align: right;\">1.5</td><td style = \"text-align: right;\">1</td><td style = \"text-align: right;\">1</td><td style = \"text-align: right;\">2</td><td style = \"text-align: right;\">0</td><td style = \"text-align: right;\">2</td><td style = \"text-align: right;\">100</td><td style = \"text-align: right;\">1</td><td style = \"text-align: right;\">1</td></tr><tr><td class = \"rowNumber\" style = \"font-weight: bold; text-align: right;\">7</td><td style = \"text-align: right;\">1</td><td style = \"text-align: right;\">17.42</td><td style = \"text-align: right;\">6.5</td><td style = \"text-align: right;\">2</td><td style = \"text-align: right;\">3</td><td style = \"text-align: right;\">4</td><td style = \"text-align: right;\">0.125</td><td style = \"text-align: right;\">0</td><td style = \"text-align: right;\">0</td><td style = \"text-align: right;\">0</td><td style = \"text-align: right;\">0</td><td style = \"text-align: right;\">2</td><td style = \"text-align: right;\">60</td><td style = \"text-align: right;\">101</td><td style = \"text-align: right;\">0</td></tr><tr><td class = \"rowNumber\" style = \"font-weight: bold; text-align: right;\">8</td><td style = \"text-align: right;\">0</td><td style = \"text-align: right;\">58.67</td><td style = \"text-align: right;\">4.46</td><td style = \"text-align: right;\">2</td><td style = \"text-align: right;\">11</td><td style = \"text-align: right;\">8</td><td style = \"text-align: right;\">3.04</td><td style = \"text-align: right;\">1</td><td style = \"text-align: right;\">1</td><td style = \"text-align: right;\">6</td><td style = \"text-align: right;\">0</td><td style = \"text-align: right;\">2</td><td style = \"text-align: right;\">43</td><td style = \"text-align: right;\">561</td><td style = \"text-align: right;\">1</td></tr><tr><td class = \"rowNumber\" style = \"font-weight: bold; text-align: right;\">9</td><td style = \"text-align: right;\">1</td><td style = \"text-align: right;\">27.83</td><td style = \"text-align: right;\">1.0</td><td style = \"text-align: right;\">1</td><td style = \"text-align: right;\">2</td><td style = \"text-align: right;\">8</td><td style = \"text-align: right;\">3.0</td><td style = \"text-align: right;\">0</td><td style = \"text-align: right;\">0</td><td style = \"text-align: right;\">0</td><td style = \"text-align: right;\">0</td><td style = \"text-align: right;\">2</td><td style = \"text-align: right;\">176</td><td style = \"text-align: right;\">538</td><td style = \"text-align: right;\">0</td></tr><tr><td class = \"rowNumber\" style = \"font-weight: bold; text-align: right;\">10</td><td style = \"text-align: right;\">0</td><td style = \"text-align: right;\">55.75</td><td style = \"text-align: right;\">7.08</td><td style = \"text-align: right;\">2</td><td style = \"text-align: right;\">4</td><td style = \"text-align: right;\">8</td><td style = \"text-align: right;\">6.75</td><td style = \"text-align: right;\">1</td><td style = \"text-align: right;\">1</td><td style = \"text-align: right;\">3</td><td style = \"text-align: right;\">1</td><td style = \"text-align: right;\">2</td><td style = \"text-align: right;\">100</td><td style = \"text-align: right;\">51</td><td style = \"text-align: right;\">0</td></tr><tr><td class = \"rowNumber\" style = \"font-weight: bold; text-align: right;\">11</td><td style = \"text-align: right;\">1</td><td style = \"text-align: right;\">33.5</td><td style = \"text-align: right;\">1.75</td><td style = \"text-align: right;\">2</td><td style = \"text-align: right;\">14</td><td style = \"text-align: right;\">8</td><td style = \"text-align: right;\">4.5</td><td style = \"text-align: right;\">1</td><td style = \"text-align: right;\">1</td><td style = \"text-align: right;\">4</td><td style = \"text-align: right;\">1</td><td style = \"text-align: right;\">2</td><td style = \"text-align: right;\">253</td><td style = \"text-align: right;\">858</td><td style = \"text-align: right;\">1</td></tr><tr><td class = \"rowNumber\" style = \"font-weight: bold; text-align: right;\">12</td><td style = \"text-align: right;\">1</td><td style = \"text-align: right;\">41.42</td><td style = \"text-align: right;\">5.0</td><td style = \"text-align: right;\">2</td><td style = \"text-align: right;\">11</td><td style = \"text-align: right;\">8</td><td style = \"text-align: right;\">5.0</td><td style = \"text-align: right;\">1</td><td style = \"text-align: right;\">1</td><td style = \"text-align: right;\">6</td><td style = \"text-align: right;\">1</td><td style = \"text-align: right;\">2</td><td style = \"text-align: right;\">470</td><td style = \"text-align: right;\">1</td><td style = \"text-align: right;\">1</td></tr><tr><td class = \"rowNumber\" style = \"font-weight: bold; text-align: right;\">13</td><td style = \"text-align: right;\">1</td><td style = \"text-align: right;\">20.67</td><td style = \"text-align: right;\">1.25</td><td style = \"text-align: right;\">1</td><td style = \"text-align: right;\">8</td><td style = \"text-align: right;\">8</td><td style = \"text-align: right;\">1.375</td><td style = \"text-align: right;\">1</td><td style = \"text-align: right;\">1</td><td style = \"text-align: right;\">3</td><td style = \"text-align: right;\">1</td><td style = \"text-align: right;\">2</td><td style = \"text-align: right;\">140</td><td style = \"text-align: right;\">211</td><td style = \"text-align: right;\">0</td></tr><tr><td style = \"text-align: right;\">&vellip;</td><td style = \"text-align: right;\">&vellip;</td><td style = \"text-align: right;\">&vellip;</td><td style = \"text-align: right;\">&vellip;</td><td style = \"text-align: right;\">&vellip;</td><td style = \"text-align: right;\">&vellip;</td><td style = \"text-align: right;\">&vellip;</td><td style = \"text-align: right;\">&vellip;</td><td style = \"text-align: right;\">&vellip;</td><td style = \"text-align: right;\">&vellip;</td><td style = \"text-align: right;\">&vellip;</td><td style = \"text-align: right;\">&vellip;</td><td style = \"text-align: right;\">&vellip;</td><td style = \"text-align: right;\">&vellip;</td><td style = \"text-align: right;\">&vellip;</td><td style = \"text-align: right;\">&vellip;</td></tr><tr><td class = \"rowNumber\" style = \"font-weight: bold; text-align: right;\">679</td><td style = \"text-align: right;\">1</td><td style = \"text-align: right;\">25.67</td><td style = \"text-align: right;\">0.29</td><td style = \"text-align: right;\">1</td><td style = \"text-align: right;\">8</td><td style = \"text-align: right;\">4</td><td style = \"text-align: right;\">1.5</td><td style = \"text-align: right;\">0</td><td style = \"text-align: right;\">0</td><td style = \"text-align: right;\">0</td><td style = \"text-align: right;\">1</td><td style = \"text-align: right;\">2</td><td style = \"text-align: right;\">160</td><td style = \"text-align: right;\">1</td><td style = \"text-align: right;\">0</td></tr><tr><td class = \"rowNumber\" style = \"font-weight: bold; text-align: right;\">680</td><td style = \"text-align: right;\">1</td><td style = \"text-align: right;\">48.58</td><td style = \"text-align: right;\">0.205</td><td style = \"text-align: right;\">1</td><td style = \"text-align: right;\">4</td><td style = \"text-align: right;\">4</td><td style = \"text-align: right;\">0.25</td><td style = \"text-align: right;\">1</td><td style = \"text-align: right;\">1</td><td style = \"text-align: right;\">11</td><td style = \"text-align: right;\">0</td><td style = \"text-align: right;\">2</td><td style = \"text-align: right;\">380</td><td style = \"text-align: right;\">2733</td><td style = \"text-align: right;\">1</td></tr><tr><td class = \"rowNumber\" style = \"font-weight: bold; text-align: right;\">681</td><td style = \"text-align: right;\">1</td><td style = \"text-align: right;\">21.17</td><td style = \"text-align: right;\">0.0</td><td style = \"text-align: right;\">2</td><td style = \"text-align: right;\">8</td><td style = \"text-align: right;\">4</td><td style = \"text-align: right;\">0.5</td><td style = \"text-align: right;\">0</td><td style = \"text-align: right;\">0</td><td style = \"text-align: right;\">0</td><td style = \"text-align: right;\">1</td><td style = \"text-align: right;\">1</td><td style = \"text-align: right;\">0</td><td style = \"text-align: right;\">1</td><td style = \"text-align: right;\">0</td></tr><tr><td class = \"rowNumber\" style = \"font-weight: bold; text-align: right;\">682</td><td style = \"text-align: right;\">1</td><td style = \"text-align: right;\">35.25</td><td style = \"text-align: right;\">16.5</td><td style = \"text-align: right;\">1</td><td style = \"text-align: right;\">8</td><td style = \"text-align: right;\">4</td><td style = \"text-align: right;\">4.0</td><td style = \"text-align: right;\">1</td><td style = \"text-align: right;\">0</td><td style = \"text-align: right;\">0</td><td style = \"text-align: right;\">0</td><td style = \"text-align: right;\">2</td><td style = \"text-align: right;\">80</td><td style = \"text-align: right;\">1</td><td style = \"text-align: right;\">0</td></tr><tr><td class = \"rowNumber\" style = \"font-weight: bold; text-align: right;\">683</td><td style = \"text-align: right;\">0</td><td style = \"text-align: right;\">22.92</td><td style = \"text-align: right;\">11.585</td><td style = \"text-align: right;\">2</td><td style = \"text-align: right;\">13</td><td style = \"text-align: right;\">4</td><td style = \"text-align: right;\">0.04</td><td style = \"text-align: right;\">1</td><td style = \"text-align: right;\">0</td><td style = \"text-align: right;\">0</td><td style = \"text-align: right;\">0</td><td style = \"text-align: right;\">2</td><td style = \"text-align: right;\">80</td><td style = \"text-align: right;\">1350</td><td style = \"text-align: right;\">1</td></tr><tr><td class = \"rowNumber\" style = \"font-weight: bold; text-align: right;\">684</td><td style = \"text-align: right;\">0</td><td style = \"text-align: right;\">48.17</td><td style = \"text-align: right;\">1.335</td><td style = \"text-align: right;\">2</td><td style = \"text-align: right;\">3</td><td style = \"text-align: right;\">7</td><td style = \"text-align: right;\">0.335</td><td style = \"text-align: right;\">0</td><td style = \"text-align: right;\">0</td><td style = \"text-align: right;\">0</td><td style = \"text-align: right;\">0</td><td style = \"text-align: right;\">2</td><td style = \"text-align: right;\">0</td><td style = \"text-align: right;\">121</td><td style = \"text-align: right;\">0</td></tr><tr><td class = \"rowNumber\" style = \"font-weight: bold; text-align: right;\">685</td><td style = \"text-align: right;\">1</td><td style = \"text-align: right;\">43.0</td><td style = \"text-align: right;\">0.29</td><td style = \"text-align: right;\">1</td><td style = \"text-align: right;\">13</td><td style = \"text-align: right;\">8</td><td style = \"text-align: right;\">1.75</td><td style = \"text-align: right;\">1</td><td style = \"text-align: right;\">1</td><td style = \"text-align: right;\">8</td><td style = \"text-align: right;\">0</td><td style = \"text-align: right;\">2</td><td style = \"text-align: right;\">100</td><td style = \"text-align: right;\">376</td><td style = \"text-align: right;\">1</td></tr><tr><td class = \"rowNumber\" style = \"font-weight: bold; text-align: right;\">686</td><td style = \"text-align: right;\">1</td><td style = \"text-align: right;\">31.57</td><td style = \"text-align: right;\">10.5</td><td style = \"text-align: right;\">2</td><td style = \"text-align: right;\">14</td><td style = \"text-align: right;\">4</td><td style = \"text-align: right;\">6.5</td><td style = \"text-align: right;\">1</td><td style = \"text-align: right;\">0</td><td style = \"text-align: right;\">0</td><td style = \"text-align: right;\">0</td><td style = \"text-align: right;\">2</td><td style = \"text-align: right;\">0</td><td style = \"text-align: right;\">1</td><td style = \"text-align: right;\">1</td></tr><tr><td class = \"rowNumber\" style = \"font-weight: bold; text-align: right;\">687</td><td style = \"text-align: right;\">1</td><td style = \"text-align: right;\">20.67</td><td style = \"text-align: right;\">0.415</td><td style = \"text-align: right;\">2</td><td style = \"text-align: right;\">8</td><td style = \"text-align: right;\">4</td><td style = \"text-align: right;\">0.125</td><td style = \"text-align: right;\">0</td><td style = \"text-align: right;\">0</td><td style = \"text-align: right;\">0</td><td style = \"text-align: right;\">0</td><td style = \"text-align: right;\">2</td><td style = \"text-align: right;\">0</td><td style = \"text-align: right;\">45</td><td style = \"text-align: right;\">0</td></tr><tr><td class = \"rowNumber\" style = \"font-weight: bold; text-align: right;\">688</td><td style = \"text-align: right;\">0</td><td style = \"text-align: right;\">18.83</td><td style = \"text-align: right;\">9.54</td><td style = \"text-align: right;\">2</td><td style = \"text-align: right;\">6</td><td style = \"text-align: right;\">4</td><td style = \"text-align: right;\">0.085</td><td style = \"text-align: right;\">1</td><td style = \"text-align: right;\">0</td><td style = \"text-align: right;\">0</td><td style = \"text-align: right;\">0</td><td style = \"text-align: right;\">2</td><td style = \"text-align: right;\">100</td><td style = \"text-align: right;\">1</td><td style = \"text-align: right;\">1</td></tr><tr><td class = \"rowNumber\" style = \"font-weight: bold; text-align: right;\">689</td><td style = \"text-align: right;\">0</td><td style = \"text-align: right;\">27.42</td><td style = \"text-align: right;\">14.5</td><td style = \"text-align: right;\">2</td><td style = \"text-align: right;\">14</td><td style = \"text-align: right;\">8</td><td style = \"text-align: right;\">3.085</td><td style = \"text-align: right;\">1</td><td style = \"text-align: right;\">1</td><td style = \"text-align: right;\">1</td><td style = \"text-align: right;\">0</td><td style = \"text-align: right;\">2</td><td style = \"text-align: right;\">120</td><td style = \"text-align: right;\">12</td><td style = \"text-align: right;\">1</td></tr><tr><td class = \"rowNumber\" style = \"font-weight: bold; text-align: right;\">690</td><td style = \"text-align: right;\">1</td><td style = \"text-align: right;\">41.0</td><td style = \"text-align: right;\">0.04</td><td style = \"text-align: right;\">2</td><td style = \"text-align: right;\">10</td><td style = \"text-align: right;\">4</td><td style = \"text-align: right;\">0.04</td><td style = \"text-align: right;\">0</td><td style = \"text-align: right;\">1</td><td style = \"text-align: right;\">1</td><td style = \"text-align: right;\">0</td><td style = \"text-align: right;\">1</td><td style = \"text-align: right;\">560</td><td style = \"text-align: right;\">1</td><td style = \"text-align: right;\">1</td></tr></tbody></table></div>"
      ],
      "text/latex": [
       "\\begin{tabular}{r|cccccccccccc}\n",
       "\t& V0 & V1 & V2 & V3 & V4 & V5 & V6 & V7 & V8 & V9 & V10 & \\\\\n",
       "\t\\hline\n",
       "\t& Int64 & Float64 & Float64 & Int64 & Int64 & Int64 & Float64 & Int64 & Int64 & Int64 & Int64 & \\\\\n",
       "\t\\hline\n",
       "\t1 & 1 & 22.08 & 11.46 & 2 & 4 & 4 & 1.585 & 0 & 0 & 0 & 1 & $\\dots$ \\\\\n",
       "\t2 & 0 & 22.67 & 7.0 & 2 & 8 & 4 & 0.165 & 0 & 0 & 0 & 0 & $\\dots$ \\\\\n",
       "\t3 & 0 & 29.58 & 1.75 & 1 & 4 & 4 & 1.25 & 0 & 0 & 0 & 1 & $\\dots$ \\\\\n",
       "\t4 & 0 & 21.67 & 11.5 & 1 & 5 & 3 & 0.0 & 1 & 1 & 11 & 1 & $\\dots$ \\\\\n",
       "\t5 & 1 & 20.17 & 8.17 & 2 & 6 & 4 & 1.96 & 1 & 1 & 14 & 0 & $\\dots$ \\\\\n",
       "\t6 & 0 & 15.83 & 0.585 & 2 & 8 & 8 & 1.5 & 1 & 1 & 2 & 0 & $\\dots$ \\\\\n",
       "\t7 & 1 & 17.42 & 6.5 & 2 & 3 & 4 & 0.125 & 0 & 0 & 0 & 0 & $\\dots$ \\\\\n",
       "\t8 & 0 & 58.67 & 4.46 & 2 & 11 & 8 & 3.04 & 1 & 1 & 6 & 0 & $\\dots$ \\\\\n",
       "\t9 & 1 & 27.83 & 1.0 & 1 & 2 & 8 & 3.0 & 0 & 0 & 0 & 0 & $\\dots$ \\\\\n",
       "\t10 & 0 & 55.75 & 7.08 & 2 & 4 & 8 & 6.75 & 1 & 1 & 3 & 1 & $\\dots$ \\\\\n",
       "\t11 & 1 & 33.5 & 1.75 & 2 & 14 & 8 & 4.5 & 1 & 1 & 4 & 1 & $\\dots$ \\\\\n",
       "\t12 & 1 & 41.42 & 5.0 & 2 & 11 & 8 & 5.0 & 1 & 1 & 6 & 1 & $\\dots$ \\\\\n",
       "\t13 & 1 & 20.67 & 1.25 & 1 & 8 & 8 & 1.375 & 1 & 1 & 3 & 1 & $\\dots$ \\\\\n",
       "\t14 & 1 & 34.92 & 5.0 & 2 & 14 & 8 & 7.5 & 1 & 1 & 6 & 1 & $\\dots$ \\\\\n",
       "\t15 & 1 & 58.58 & 2.71 & 2 & 8 & 4 & 2.415 & 0 & 0 & 0 & 1 & $\\dots$ \\\\\n",
       "\t16 & 1 & 48.08 & 6.04 & 2 & 4 & 4 & 0.04 & 0 & 0 & 0 & 0 & $\\dots$ \\\\\n",
       "\t17 & 1 & 29.58 & 4.5 & 2 & 9 & 4 & 7.5 & 1 & 1 & 2 & 1 & $\\dots$ \\\\\n",
       "\t18 & 0 & 18.92 & 9.0 & 2 & 6 & 4 & 0.75 & 1 & 1 & 2 & 0 & $\\dots$ \\\\\n",
       "\t19 & 1 & 20.0 & 1.25 & 1 & 4 & 4 & 0.125 & 0 & 0 & 0 & 0 & $\\dots$ \\\\\n",
       "\t20 & 0 & 22.42 & 5.665 & 2 & 11 & 4 & 2.585 & 1 & 1 & 7 & 0 & $\\dots$ \\\\\n",
       "\t21 & 0 & 28.17 & 0.585 & 2 & 6 & 4 & 0.04 & 0 & 0 & 0 & 0 & $\\dots$ \\\\\n",
       "\t22 & 0 & 19.17 & 0.585 & 1 & 6 & 4 & 0.585 & 1 & 0 & 0 & 1 & $\\dots$ \\\\\n",
       "\t23 & 1 & 41.17 & 1.335 & 2 & 2 & 4 & 0.165 & 0 & 0 & 0 & 0 & $\\dots$ \\\\\n",
       "\t24 & 1 & 41.58 & 1.75 & 2 & 4 & 4 & 0.21 & 1 & 0 & 0 & 0 & $\\dots$ \\\\\n",
       "\t25 & 1 & 19.5 & 9.585 & 2 & 6 & 4 & 0.79 & 0 & 0 & 0 & 0 & $\\dots$ \\\\\n",
       "\t26 & 1 & 32.75 & 1.5 & 2 & 13 & 8 & 5.5 & 1 & 1 & 3 & 1 & $\\dots$ \\\\\n",
       "\t27 & 1 & 22.5 & 0.125 & 1 & 4 & 4 & 0.125 & 0 & 0 & 0 & 0 & $\\dots$ \\\\\n",
       "\t28 & 1 & 33.17 & 3.04 & 1 & 8 & 8 & 2.04 & 1 & 1 & 1 & 1 & $\\dots$ \\\\\n",
       "\t29 & 0 & 30.67 & 12.0 & 2 & 8 & 4 & 2.0 & 1 & 1 & 1 & 0 & $\\dots$ \\\\\n",
       "\t30 & 1 & 23.08 & 2.5 & 2 & 8 & 4 & 1.085 & 1 & 1 & 11 & 1 & $\\dots$ \\\\\n",
       "\t$\\dots$ & $\\dots$ & $\\dots$ & $\\dots$ & $\\dots$ & $\\dots$ & $\\dots$ & $\\dots$ & $\\dots$ & $\\dots$ & $\\dots$ & $\\dots$ &  \\\\\n",
       "\\end{tabular}\n"
      ],
      "text/plain": [
       "\u001b[1m690×15 DataFrame\u001b[0m\n",
       "\u001b[1m Row \u001b[0m│\u001b[1m V0    \u001b[0m\u001b[1m V1      \u001b[0m\u001b[1m V2      \u001b[0m\u001b[1m V3    \u001b[0m\u001b[1m V4    \u001b[0m\u001b[1m V5    \u001b[0m\u001b[1m V6      \u001b[0m\u001b[1m V7    \u001b[0m\u001b[1m V8    \u001b[0m\u001b[1m V9\u001b[0m ⋯\n",
       "     │\u001b[90m Int64 \u001b[0m\u001b[90m Float64 \u001b[0m\u001b[90m Float64 \u001b[0m\u001b[90m Int64 \u001b[0m\u001b[90m Int64 \u001b[0m\u001b[90m Int64 \u001b[0m\u001b[90m Float64 \u001b[0m\u001b[90m Int64 \u001b[0m\u001b[90m Int64 \u001b[0m\u001b[90m In\u001b[0m ⋯\n",
       "─────┼──────────────────────────────────────────────────────────────────────────\n",
       "   1 │     1    22.08   11.46       2      4      4    1.585      0      0     ⋯\n",
       "   2 │     0    22.67    7.0        2      8      4    0.165      0      0\n",
       "   3 │     0    29.58    1.75       1      4      4    1.25       0      0\n",
       "   4 │     0    21.67   11.5        1      5      3    0.0        1      1\n",
       "   5 │     1    20.17    8.17       2      6      4    1.96       1      1     ⋯\n",
       "   6 │     0    15.83    0.585      2      8      8    1.5        1      1\n",
       "   7 │     1    17.42    6.5        2      3      4    0.125      0      0\n",
       "   8 │     0    58.67    4.46       2     11      8    3.04       1      1\n",
       "   9 │     1    27.83    1.0        1      2      8    3.0        0      0     ⋯\n",
       "  10 │     0    55.75    7.08       2      4      8    6.75       1      1\n",
       "  11 │     1    33.5     1.75       2     14      8    4.5        1      1\n",
       "  ⋮  │   ⋮       ⋮        ⋮       ⋮      ⋮      ⋮       ⋮       ⋮      ⋮       ⋱\n",
       " 681 │     1    21.17    0.0        2      8      4    0.5        0      0\n",
       " 682 │     1    35.25   16.5        1      8      4    4.0        1      0     ⋯\n",
       " 683 │     0    22.92   11.585      2     13      4    0.04       1      0\n",
       " 684 │     0    48.17    1.335      2      3      7    0.335      0      0\n",
       " 685 │     1    43.0     0.29       1     13      8    1.75       1      1\n",
       " 686 │     1    31.57   10.5        2     14      4    6.5        1      0     ⋯\n",
       " 687 │     1    20.67    0.415      2      8      4    0.125      0      0\n",
       " 688 │     0    18.83    9.54       2      6      4    0.085      1      0\n",
       " 689 │     0    27.42   14.5        2     14      8    3.085      1      1\n",
       " 690 │     1    41.0     0.04       2     10      4    0.04       0      1     ⋯\n",
       "\u001b[36m                                                  6 columns and 669 rows omitted\u001b[0m"
      ]
     },
     "execution_count": 3,
     "metadata": {},
     "output_type": "execute_result"
    }
   ],
   "source": [
    "dataset = CSV.read(\"australian.csv\", DataFrame, delim=' ';\n",
    "                header = append!([string(\"V\", i) for i in 0:13], [\"class\"]))"
   ]
  },
  {
   "cell_type": "code",
   "execution_count": 4,
   "metadata": {},
   "outputs": [
    {
     "data": {
      "text/html": [
       "<div><div style = \"float: left;\"><span>690×15 DataFrame</span></div><div style = \"float: right;\"><span style = \"font-style: italic;\">665 rows omitted</span></div><div style = \"clear: both;\"></div></div><div class = \"data-frame\" style = \"overflow-x: scroll;\"><table class = \"data-frame\" style = \"margin-bottom: 6px;\"><thead><tr class = \"header\"><th class = \"rowNumber\" style = \"font-weight: bold; text-align: right;\">Row</th><th style = \"text-align: left;\">V0</th><th style = \"text-align: left;\">V1</th><th style = \"text-align: left;\">V2</th><th style = \"text-align: left;\">V3</th><th style = \"text-align: left;\">V4</th><th style = \"text-align: left;\">V5</th><th style = \"text-align: left;\">V6</th><th style = \"text-align: left;\">V7</th><th style = \"text-align: left;\">V8</th><th style = \"text-align: left;\">V9</th><th style = \"text-align: left;\">V10</th><th style = \"text-align: left;\">V11</th><th style = \"text-align: left;\">V12</th><th style = \"text-align: left;\">V13</th><th style = \"text-align: left;\">class</th></tr><tr class = \"subheader headerLastRow\"><th class = \"rowNumber\" style = \"font-weight: bold; text-align: right;\"></th><th title = \"Int64\" style = \"text-align: left;\">Int64</th><th title = \"Float64\" style = \"text-align: left;\">Float64</th><th title = \"Float64\" style = \"text-align: left;\">Float64</th><th title = \"Int64\" style = \"text-align: left;\">Int64</th><th title = \"Int64\" style = \"text-align: left;\">Int64</th><th title = \"Int64\" style = \"text-align: left;\">Int64</th><th title = \"Float64\" style = \"text-align: left;\">Float64</th><th title = \"Int64\" style = \"text-align: left;\">Int64</th><th title = \"Int64\" style = \"text-align: left;\">Int64</th><th title = \"Int64\" style = \"text-align: left;\">Int64</th><th title = \"Int64\" style = \"text-align: left;\">Int64</th><th title = \"Int64\" style = \"text-align: left;\">Int64</th><th title = \"Int64\" style = \"text-align: left;\">Int64</th><th title = \"Float64\" style = \"text-align: left;\">Float64</th><th title = \"Int64\" style = \"text-align: left;\">Int64</th></tr></thead><tbody><tr><td class = \"rowNumber\" style = \"font-weight: bold; text-align: right;\">1</td><td style = \"text-align: right;\">1</td><td style = \"text-align: right;\">22.08</td><td style = \"text-align: right;\">11.46</td><td style = \"text-align: right;\">1</td><td style = \"text-align: right;\">4</td><td style = \"text-align: right;\">4</td><td style = \"text-align: right;\">1.585</td><td style = \"text-align: right;\">0</td><td style = \"text-align: right;\">0</td><td style = \"text-align: right;\">0</td><td style = \"text-align: right;\">1</td><td style = \"text-align: right;\">1</td><td style = \"text-align: right;\">100</td><td style = \"text-align: right;\">7.10085</td><td style = \"text-align: right;\">0</td></tr><tr><td class = \"rowNumber\" style = \"font-weight: bold; text-align: right;\">2</td><td style = \"text-align: right;\">0</td><td style = \"text-align: right;\">22.67</td><td style = \"text-align: right;\">7.0</td><td style = \"text-align: right;\">1</td><td style = \"text-align: right;\">8</td><td style = \"text-align: right;\">4</td><td style = \"text-align: right;\">0.165</td><td style = \"text-align: right;\">0</td><td style = \"text-align: right;\">0</td><td style = \"text-align: right;\">0</td><td style = \"text-align: right;\">0</td><td style = \"text-align: right;\">1</td><td style = \"text-align: right;\">160</td><td style = \"text-align: right;\">0.0</td><td style = \"text-align: right;\">0</td></tr><tr><td class = \"rowNumber\" style = \"font-weight: bold; text-align: right;\">3</td><td style = \"text-align: right;\">0</td><td style = \"text-align: right;\">29.58</td><td style = \"text-align: right;\">1.75</td><td style = \"text-align: right;\">0</td><td style = \"text-align: right;\">4</td><td style = \"text-align: right;\">4</td><td style = \"text-align: right;\">1.25</td><td style = \"text-align: right;\">0</td><td style = \"text-align: right;\">0</td><td style = \"text-align: right;\">0</td><td style = \"text-align: right;\">1</td><td style = \"text-align: right;\">1</td><td style = \"text-align: right;\">280</td><td style = \"text-align: right;\">0.0</td><td style = \"text-align: right;\">0</td></tr><tr><td class = \"rowNumber\" style = \"font-weight: bold; text-align: right;\">4</td><td style = \"text-align: right;\">0</td><td style = \"text-align: right;\">21.67</td><td style = \"text-align: right;\">11.5</td><td style = \"text-align: right;\">0</td><td style = \"text-align: right;\">5</td><td style = \"text-align: right;\">3</td><td style = \"text-align: right;\">0.0</td><td style = \"text-align: right;\">1</td><td style = \"text-align: right;\">1</td><td style = \"text-align: right;\">11</td><td style = \"text-align: right;\">1</td><td style = \"text-align: right;\">1</td><td style = \"text-align: right;\">0</td><td style = \"text-align: right;\">0.0</td><td style = \"text-align: right;\">1</td></tr><tr><td class = \"rowNumber\" style = \"font-weight: bold; text-align: right;\">5</td><td style = \"text-align: right;\">1</td><td style = \"text-align: right;\">20.17</td><td style = \"text-align: right;\">8.17</td><td style = \"text-align: right;\">1</td><td style = \"text-align: right;\">6</td><td style = \"text-align: right;\">4</td><td style = \"text-align: right;\">1.96</td><td style = \"text-align: right;\">1</td><td style = \"text-align: right;\">1</td><td style = \"text-align: right;\">14</td><td style = \"text-align: right;\">0</td><td style = \"text-align: right;\">1</td><td style = \"text-align: right;\">60</td><td style = \"text-align: right;\">5.0689</td><td style = \"text-align: right;\">1</td></tr><tr><td class = \"rowNumber\" style = \"font-weight: bold; text-align: right;\">6</td><td style = \"text-align: right;\">0</td><td style = \"text-align: right;\">15.83</td><td style = \"text-align: right;\">0.585</td><td style = \"text-align: right;\">1</td><td style = \"text-align: right;\">8</td><td style = \"text-align: right;\">8</td><td style = \"text-align: right;\">1.5</td><td style = \"text-align: right;\">1</td><td style = \"text-align: right;\">1</td><td style = \"text-align: right;\">2</td><td style = \"text-align: right;\">0</td><td style = \"text-align: right;\">1</td><td style = \"text-align: right;\">100</td><td style = \"text-align: right;\">0.0</td><td style = \"text-align: right;\">1</td></tr><tr><td class = \"rowNumber\" style = \"font-weight: bold; text-align: right;\">7</td><td style = \"text-align: right;\">1</td><td style = \"text-align: right;\">17.42</td><td style = \"text-align: right;\">6.5</td><td style = \"text-align: right;\">1</td><td style = \"text-align: right;\">3</td><td style = \"text-align: right;\">4</td><td style = \"text-align: right;\">0.125</td><td style = \"text-align: right;\">0</td><td style = \"text-align: right;\">0</td><td style = \"text-align: right;\">0</td><td style = \"text-align: right;\">0</td><td style = \"text-align: right;\">1</td><td style = \"text-align: right;\">60</td><td style = \"text-align: right;\">4.61512</td><td style = \"text-align: right;\">0</td></tr><tr><td class = \"rowNumber\" style = \"font-weight: bold; text-align: right;\">8</td><td style = \"text-align: right;\">0</td><td style = \"text-align: right;\">58.67</td><td style = \"text-align: right;\">4.46</td><td style = \"text-align: right;\">1</td><td style = \"text-align: right;\">11</td><td style = \"text-align: right;\">8</td><td style = \"text-align: right;\">3.04</td><td style = \"text-align: right;\">1</td><td style = \"text-align: right;\">1</td><td style = \"text-align: right;\">6</td><td style = \"text-align: right;\">0</td><td style = \"text-align: right;\">1</td><td style = \"text-align: right;\">43</td><td style = \"text-align: right;\">6.32972</td><td style = \"text-align: right;\">1</td></tr><tr><td class = \"rowNumber\" style = \"font-weight: bold; text-align: right;\">9</td><td style = \"text-align: right;\">1</td><td style = \"text-align: right;\">27.83</td><td style = \"text-align: right;\">1.0</td><td style = \"text-align: right;\">0</td><td style = \"text-align: right;\">2</td><td style = \"text-align: right;\">8</td><td style = \"text-align: right;\">3.0</td><td style = \"text-align: right;\">0</td><td style = \"text-align: right;\">0</td><td style = \"text-align: right;\">0</td><td style = \"text-align: right;\">0</td><td style = \"text-align: right;\">1</td><td style = \"text-align: right;\">176</td><td style = \"text-align: right;\">6.28786</td><td style = \"text-align: right;\">0</td></tr><tr><td class = \"rowNumber\" style = \"font-weight: bold; text-align: right;\">10</td><td style = \"text-align: right;\">0</td><td style = \"text-align: right;\">55.75</td><td style = \"text-align: right;\">7.08</td><td style = \"text-align: right;\">1</td><td style = \"text-align: right;\">4</td><td style = \"text-align: right;\">8</td><td style = \"text-align: right;\">6.75</td><td style = \"text-align: right;\">1</td><td style = \"text-align: right;\">1</td><td style = \"text-align: right;\">3</td><td style = \"text-align: right;\">1</td><td style = \"text-align: right;\">1</td><td style = \"text-align: right;\">100</td><td style = \"text-align: right;\">3.93183</td><td style = \"text-align: right;\">0</td></tr><tr><td class = \"rowNumber\" style = \"font-weight: bold; text-align: right;\">11</td><td style = \"text-align: right;\">1</td><td style = \"text-align: right;\">33.5</td><td style = \"text-align: right;\">1.75</td><td style = \"text-align: right;\">1</td><td style = \"text-align: right;\">14</td><td style = \"text-align: right;\">8</td><td style = \"text-align: right;\">4.5</td><td style = \"text-align: right;\">1</td><td style = \"text-align: right;\">1</td><td style = \"text-align: right;\">4</td><td style = \"text-align: right;\">1</td><td style = \"text-align: right;\">1</td><td style = \"text-align: right;\">253</td><td style = \"text-align: right;\">6.7546</td><td style = \"text-align: right;\">1</td></tr><tr><td class = \"rowNumber\" style = \"font-weight: bold; text-align: right;\">12</td><td style = \"text-align: right;\">1</td><td style = \"text-align: right;\">41.42</td><td style = \"text-align: right;\">5.0</td><td style = \"text-align: right;\">1</td><td style = \"text-align: right;\">11</td><td style = \"text-align: right;\">8</td><td style = \"text-align: right;\">5.0</td><td style = \"text-align: right;\">1</td><td style = \"text-align: right;\">1</td><td style = \"text-align: right;\">6</td><td style = \"text-align: right;\">1</td><td style = \"text-align: right;\">1</td><td style = \"text-align: right;\">470</td><td style = \"text-align: right;\">0.0</td><td style = \"text-align: right;\">1</td></tr><tr><td class = \"rowNumber\" style = \"font-weight: bold; text-align: right;\">13</td><td style = \"text-align: right;\">1</td><td style = \"text-align: right;\">20.67</td><td style = \"text-align: right;\">1.25</td><td style = \"text-align: right;\">0</td><td style = \"text-align: right;\">8</td><td style = \"text-align: right;\">8</td><td style = \"text-align: right;\">1.375</td><td style = \"text-align: right;\">1</td><td style = \"text-align: right;\">1</td><td style = \"text-align: right;\">3</td><td style = \"text-align: right;\">1</td><td style = \"text-align: right;\">1</td><td style = \"text-align: right;\">140</td><td style = \"text-align: right;\">5.35186</td><td style = \"text-align: right;\">0</td></tr><tr><td style = \"text-align: right;\">&vellip;</td><td style = \"text-align: right;\">&vellip;</td><td style = \"text-align: right;\">&vellip;</td><td style = \"text-align: right;\">&vellip;</td><td style = \"text-align: right;\">&vellip;</td><td style = \"text-align: right;\">&vellip;</td><td style = \"text-align: right;\">&vellip;</td><td style = \"text-align: right;\">&vellip;</td><td style = \"text-align: right;\">&vellip;</td><td style = \"text-align: right;\">&vellip;</td><td style = \"text-align: right;\">&vellip;</td><td style = \"text-align: right;\">&vellip;</td><td style = \"text-align: right;\">&vellip;</td><td style = \"text-align: right;\">&vellip;</td><td style = \"text-align: right;\">&vellip;</td><td style = \"text-align: right;\">&vellip;</td></tr><tr><td class = \"rowNumber\" style = \"font-weight: bold; text-align: right;\">679</td><td style = \"text-align: right;\">1</td><td style = \"text-align: right;\">25.67</td><td style = \"text-align: right;\">0.29</td><td style = \"text-align: right;\">0</td><td style = \"text-align: right;\">8</td><td style = \"text-align: right;\">4</td><td style = \"text-align: right;\">1.5</td><td style = \"text-align: right;\">0</td><td style = \"text-align: right;\">0</td><td style = \"text-align: right;\">0</td><td style = \"text-align: right;\">1</td><td style = \"text-align: right;\">1</td><td style = \"text-align: right;\">160</td><td style = \"text-align: right;\">0.0</td><td style = \"text-align: right;\">0</td></tr><tr><td class = \"rowNumber\" style = \"font-weight: bold; text-align: right;\">680</td><td style = \"text-align: right;\">1</td><td style = \"text-align: right;\">48.58</td><td style = \"text-align: right;\">0.205</td><td style = \"text-align: right;\">0</td><td style = \"text-align: right;\">4</td><td style = \"text-align: right;\">4</td><td style = \"text-align: right;\">0.25</td><td style = \"text-align: right;\">1</td><td style = \"text-align: right;\">1</td><td style = \"text-align: right;\">11</td><td style = \"text-align: right;\">0</td><td style = \"text-align: right;\">1</td><td style = \"text-align: right;\">380</td><td style = \"text-align: right;\">7.91316</td><td style = \"text-align: right;\">1</td></tr><tr><td class = \"rowNumber\" style = \"font-weight: bold; text-align: right;\">681</td><td style = \"text-align: right;\">1</td><td style = \"text-align: right;\">21.17</td><td style = \"text-align: right;\">0.0</td><td style = \"text-align: right;\">1</td><td style = \"text-align: right;\">8</td><td style = \"text-align: right;\">4</td><td style = \"text-align: right;\">0.5</td><td style = \"text-align: right;\">0</td><td style = \"text-align: right;\">0</td><td style = \"text-align: right;\">0</td><td style = \"text-align: right;\">1</td><td style = \"text-align: right;\">0</td><td style = \"text-align: right;\">0</td><td style = \"text-align: right;\">0.0</td><td style = \"text-align: right;\">0</td></tr><tr><td class = \"rowNumber\" style = \"font-weight: bold; text-align: right;\">682</td><td style = \"text-align: right;\">1</td><td style = \"text-align: right;\">35.25</td><td style = \"text-align: right;\">16.5</td><td style = \"text-align: right;\">0</td><td style = \"text-align: right;\">8</td><td style = \"text-align: right;\">4</td><td style = \"text-align: right;\">4.0</td><td style = \"text-align: right;\">1</td><td style = \"text-align: right;\">0</td><td style = \"text-align: right;\">0</td><td style = \"text-align: right;\">0</td><td style = \"text-align: right;\">1</td><td style = \"text-align: right;\">80</td><td style = \"text-align: right;\">0.0</td><td style = \"text-align: right;\">0</td></tr><tr><td class = \"rowNumber\" style = \"font-weight: bold; text-align: right;\">683</td><td style = \"text-align: right;\">0</td><td style = \"text-align: right;\">22.92</td><td style = \"text-align: right;\">11.585</td><td style = \"text-align: right;\">1</td><td style = \"text-align: right;\">13</td><td style = \"text-align: right;\">4</td><td style = \"text-align: right;\">0.04</td><td style = \"text-align: right;\">1</td><td style = \"text-align: right;\">0</td><td style = \"text-align: right;\">0</td><td style = \"text-align: right;\">0</td><td style = \"text-align: right;\">1</td><td style = \"text-align: right;\">80</td><td style = \"text-align: right;\">7.20786</td><td style = \"text-align: right;\">1</td></tr><tr><td class = \"rowNumber\" style = \"font-weight: bold; text-align: right;\">684</td><td style = \"text-align: right;\">0</td><td style = \"text-align: right;\">48.17</td><td style = \"text-align: right;\">1.335</td><td style = \"text-align: right;\">1</td><td style = \"text-align: right;\">3</td><td style = \"text-align: right;\">7</td><td style = \"text-align: right;\">0.335</td><td style = \"text-align: right;\">0</td><td style = \"text-align: right;\">0</td><td style = \"text-align: right;\">0</td><td style = \"text-align: right;\">0</td><td style = \"text-align: right;\">1</td><td style = \"text-align: right;\">0</td><td style = \"text-align: right;\">4.79579</td><td style = \"text-align: right;\">0</td></tr><tr><td class = \"rowNumber\" style = \"font-weight: bold; text-align: right;\">685</td><td style = \"text-align: right;\">1</td><td style = \"text-align: right;\">43.0</td><td style = \"text-align: right;\">0.29</td><td style = \"text-align: right;\">0</td><td style = \"text-align: right;\">13</td><td style = \"text-align: right;\">8</td><td style = \"text-align: right;\">1.75</td><td style = \"text-align: right;\">1</td><td style = \"text-align: right;\">1</td><td style = \"text-align: right;\">8</td><td style = \"text-align: right;\">0</td><td style = \"text-align: right;\">1</td><td style = \"text-align: right;\">100</td><td style = \"text-align: right;\">5.92959</td><td style = \"text-align: right;\">1</td></tr><tr><td class = \"rowNumber\" style = \"font-weight: bold; text-align: right;\">686</td><td style = \"text-align: right;\">1</td><td style = \"text-align: right;\">31.57</td><td style = \"text-align: right;\">10.5</td><td style = \"text-align: right;\">1</td><td style = \"text-align: right;\">14</td><td style = \"text-align: right;\">4</td><td style = \"text-align: right;\">6.5</td><td style = \"text-align: right;\">1</td><td style = \"text-align: right;\">0</td><td style = \"text-align: right;\">0</td><td style = \"text-align: right;\">0</td><td style = \"text-align: right;\">1</td><td style = \"text-align: right;\">0</td><td style = \"text-align: right;\">0.0</td><td style = \"text-align: right;\">1</td></tr><tr><td class = \"rowNumber\" style = \"font-weight: bold; text-align: right;\">687</td><td style = \"text-align: right;\">1</td><td style = \"text-align: right;\">20.67</td><td style = \"text-align: right;\">0.415</td><td style = \"text-align: right;\">1</td><td style = \"text-align: right;\">8</td><td style = \"text-align: right;\">4</td><td style = \"text-align: right;\">0.125</td><td style = \"text-align: right;\">0</td><td style = \"text-align: right;\">0</td><td style = \"text-align: right;\">0</td><td style = \"text-align: right;\">0</td><td style = \"text-align: right;\">1</td><td style = \"text-align: right;\">0</td><td style = \"text-align: right;\">3.80666</td><td style = \"text-align: right;\">0</td></tr><tr><td class = \"rowNumber\" style = \"font-weight: bold; text-align: right;\">688</td><td style = \"text-align: right;\">0</td><td style = \"text-align: right;\">18.83</td><td style = \"text-align: right;\">9.54</td><td style = \"text-align: right;\">1</td><td style = \"text-align: right;\">6</td><td style = \"text-align: right;\">4</td><td style = \"text-align: right;\">0.085</td><td style = \"text-align: right;\">1</td><td style = \"text-align: right;\">0</td><td style = \"text-align: right;\">0</td><td style = \"text-align: right;\">0</td><td style = \"text-align: right;\">1</td><td style = \"text-align: right;\">100</td><td style = \"text-align: right;\">0.0</td><td style = \"text-align: right;\">1</td></tr><tr><td class = \"rowNumber\" style = \"font-weight: bold; text-align: right;\">689</td><td style = \"text-align: right;\">0</td><td style = \"text-align: right;\">27.42</td><td style = \"text-align: right;\">14.5</td><td style = \"text-align: right;\">1</td><td style = \"text-align: right;\">14</td><td style = \"text-align: right;\">8</td><td style = \"text-align: right;\">3.085</td><td style = \"text-align: right;\">1</td><td style = \"text-align: right;\">1</td><td style = \"text-align: right;\">1</td><td style = \"text-align: right;\">0</td><td style = \"text-align: right;\">1</td><td style = \"text-align: right;\">120</td><td style = \"text-align: right;\">2.48491</td><td style = \"text-align: right;\">1</td></tr><tr><td class = \"rowNumber\" style = \"font-weight: bold; text-align: right;\">690</td><td style = \"text-align: right;\">1</td><td style = \"text-align: right;\">41.0</td><td style = \"text-align: right;\">0.04</td><td style = \"text-align: right;\">1</td><td style = \"text-align: right;\">10</td><td style = \"text-align: right;\">4</td><td style = \"text-align: right;\">0.04</td><td style = \"text-align: right;\">0</td><td style = \"text-align: right;\">1</td><td style = \"text-align: right;\">1</td><td style = \"text-align: right;\">0</td><td style = \"text-align: right;\">0</td><td style = \"text-align: right;\">560</td><td style = \"text-align: right;\">0.0</td><td style = \"text-align: right;\">1</td></tr></tbody></table></div>"
      ],
      "text/latex": [
       "\\begin{tabular}{r|cccccccccccc}\n",
       "\t& V0 & V1 & V2 & V3 & V4 & V5 & V6 & V7 & V8 & V9 & V10 & \\\\\n",
       "\t\\hline\n",
       "\t& Int64 & Float64 & Float64 & Int64 & Int64 & Int64 & Float64 & Int64 & Int64 & Int64 & Int64 & \\\\\n",
       "\t\\hline\n",
       "\t1 & 1 & 22.08 & 11.46 & 1 & 4 & 4 & 1.585 & 0 & 0 & 0 & 1 & $\\dots$ \\\\\n",
       "\t2 & 0 & 22.67 & 7.0 & 1 & 8 & 4 & 0.165 & 0 & 0 & 0 & 0 & $\\dots$ \\\\\n",
       "\t3 & 0 & 29.58 & 1.75 & 0 & 4 & 4 & 1.25 & 0 & 0 & 0 & 1 & $\\dots$ \\\\\n",
       "\t4 & 0 & 21.67 & 11.5 & 0 & 5 & 3 & 0.0 & 1 & 1 & 11 & 1 & $\\dots$ \\\\\n",
       "\t5 & 1 & 20.17 & 8.17 & 1 & 6 & 4 & 1.96 & 1 & 1 & 14 & 0 & $\\dots$ \\\\\n",
       "\t6 & 0 & 15.83 & 0.585 & 1 & 8 & 8 & 1.5 & 1 & 1 & 2 & 0 & $\\dots$ \\\\\n",
       "\t7 & 1 & 17.42 & 6.5 & 1 & 3 & 4 & 0.125 & 0 & 0 & 0 & 0 & $\\dots$ \\\\\n",
       "\t8 & 0 & 58.67 & 4.46 & 1 & 11 & 8 & 3.04 & 1 & 1 & 6 & 0 & $\\dots$ \\\\\n",
       "\t9 & 1 & 27.83 & 1.0 & 0 & 2 & 8 & 3.0 & 0 & 0 & 0 & 0 & $\\dots$ \\\\\n",
       "\t10 & 0 & 55.75 & 7.08 & 1 & 4 & 8 & 6.75 & 1 & 1 & 3 & 1 & $\\dots$ \\\\\n",
       "\t11 & 1 & 33.5 & 1.75 & 1 & 14 & 8 & 4.5 & 1 & 1 & 4 & 1 & $\\dots$ \\\\\n",
       "\t12 & 1 & 41.42 & 5.0 & 1 & 11 & 8 & 5.0 & 1 & 1 & 6 & 1 & $\\dots$ \\\\\n",
       "\t13 & 1 & 20.67 & 1.25 & 0 & 8 & 8 & 1.375 & 1 & 1 & 3 & 1 & $\\dots$ \\\\\n",
       "\t14 & 1 & 34.92 & 5.0 & 1 & 14 & 8 & 7.5 & 1 & 1 & 6 & 1 & $\\dots$ \\\\\n",
       "\t15 & 1 & 58.58 & 2.71 & 1 & 8 & 4 & 2.415 & 0 & 0 & 0 & 1 & $\\dots$ \\\\\n",
       "\t16 & 1 & 48.08 & 6.04 & 1 & 4 & 4 & 0.04 & 0 & 0 & 0 & 0 & $\\dots$ \\\\\n",
       "\t17 & 1 & 29.58 & 4.5 & 1 & 9 & 4 & 7.5 & 1 & 1 & 2 & 1 & $\\dots$ \\\\\n",
       "\t18 & 0 & 18.92 & 9.0 & 1 & 6 & 4 & 0.75 & 1 & 1 & 2 & 0 & $\\dots$ \\\\\n",
       "\t19 & 1 & 20.0 & 1.25 & 0 & 4 & 4 & 0.125 & 0 & 0 & 0 & 0 & $\\dots$ \\\\\n",
       "\t20 & 0 & 22.42 & 5.665 & 1 & 11 & 4 & 2.585 & 1 & 1 & 7 & 0 & $\\dots$ \\\\\n",
       "\t21 & 0 & 28.17 & 0.585 & 1 & 6 & 4 & 0.04 & 0 & 0 & 0 & 0 & $\\dots$ \\\\\n",
       "\t22 & 0 & 19.17 & 0.585 & 0 & 6 & 4 & 0.585 & 1 & 0 & 0 & 1 & $\\dots$ \\\\\n",
       "\t23 & 1 & 41.17 & 1.335 & 1 & 2 & 4 & 0.165 & 0 & 0 & 0 & 0 & $\\dots$ \\\\\n",
       "\t24 & 1 & 41.58 & 1.75 & 1 & 4 & 4 & 0.21 & 1 & 0 & 0 & 0 & $\\dots$ \\\\\n",
       "\t25 & 1 & 19.5 & 9.585 & 1 & 6 & 4 & 0.79 & 0 & 0 & 0 & 0 & $\\dots$ \\\\\n",
       "\t26 & 1 & 32.75 & 1.5 & 1 & 13 & 8 & 5.5 & 1 & 1 & 3 & 1 & $\\dots$ \\\\\n",
       "\t27 & 1 & 22.5 & 0.125 & 0 & 4 & 4 & 0.125 & 0 & 0 & 0 & 0 & $\\dots$ \\\\\n",
       "\t28 & 1 & 33.17 & 3.04 & 0 & 8 & 8 & 2.04 & 1 & 1 & 1 & 1 & $\\dots$ \\\\\n",
       "\t29 & 0 & 30.67 & 12.0 & 1 & 8 & 4 & 2.0 & 1 & 1 & 1 & 0 & $\\dots$ \\\\\n",
       "\t30 & 1 & 23.08 & 2.5 & 1 & 8 & 4 & 1.085 & 1 & 1 & 11 & 1 & $\\dots$ \\\\\n",
       "\t$\\dots$ & $\\dots$ & $\\dots$ & $\\dots$ & $\\dots$ & $\\dots$ & $\\dots$ & $\\dots$ & $\\dots$ & $\\dots$ & $\\dots$ & $\\dots$ &  \\\\\n",
       "\\end{tabular}\n"
      ],
      "text/plain": [
       "\u001b[1m690×15 DataFrame\u001b[0m\n",
       "\u001b[1m Row \u001b[0m│\u001b[1m V0    \u001b[0m\u001b[1m V1      \u001b[0m\u001b[1m V2      \u001b[0m\u001b[1m V3    \u001b[0m\u001b[1m V4    \u001b[0m\u001b[1m V5    \u001b[0m\u001b[1m V6      \u001b[0m\u001b[1m V7    \u001b[0m\u001b[1m V8    \u001b[0m\u001b[1m V9\u001b[0m ⋯\n",
       "     │\u001b[90m Int64 \u001b[0m\u001b[90m Float64 \u001b[0m\u001b[90m Float64 \u001b[0m\u001b[90m Int64 \u001b[0m\u001b[90m Int64 \u001b[0m\u001b[90m Int64 \u001b[0m\u001b[90m Float64 \u001b[0m\u001b[90m Int64 \u001b[0m\u001b[90m Int64 \u001b[0m\u001b[90m In\u001b[0m ⋯\n",
       "─────┼──────────────────────────────────────────────────────────────────────────\n",
       "   1 │     1    22.08   11.46       1      4      4    1.585      0      0     ⋯\n",
       "   2 │     0    22.67    7.0        1      8      4    0.165      0      0\n",
       "   3 │     0    29.58    1.75       0      4      4    1.25       0      0\n",
       "   4 │     0    21.67   11.5        0      5      3    0.0        1      1\n",
       "   5 │     1    20.17    8.17       1      6      4    1.96       1      1     ⋯\n",
       "   6 │     0    15.83    0.585      1      8      8    1.5        1      1\n",
       "   7 │     1    17.42    6.5        1      3      4    0.125      0      0\n",
       "   8 │     0    58.67    4.46       1     11      8    3.04       1      1\n",
       "   9 │     1    27.83    1.0        0      2      8    3.0        0      0     ⋯\n",
       "  10 │     0    55.75    7.08       1      4      8    6.75       1      1\n",
       "  11 │     1    33.5     1.75       1     14      8    4.5        1      1\n",
       "  ⋮  │   ⋮       ⋮        ⋮       ⋮      ⋮      ⋮       ⋮       ⋮      ⋮       ⋱\n",
       " 681 │     1    21.17    0.0        1      8      4    0.5        0      0\n",
       " 682 │     1    35.25   16.5        0      8      4    4.0        1      0     ⋯\n",
       " 683 │     0    22.92   11.585      1     13      4    0.04       1      0\n",
       " 684 │     0    48.17    1.335      1      3      7    0.335      0      0\n",
       " 685 │     1    43.0     0.29       0     13      8    1.75       1      1\n",
       " 686 │     1    31.57   10.5        1     14      4    6.5        1      0     ⋯\n",
       " 687 │     1    20.67    0.415      1      8      4    0.125      0      0\n",
       " 688 │     0    18.83    9.54       1      6      4    0.085      1      0\n",
       " 689 │     0    27.42   14.5        1     14      8    3.085      1      1\n",
       " 690 │     1    41.0     0.04       1     10      4    0.04       0      1     ⋯\n",
       "\u001b[36m                                                  6 columns and 669 rows omitted\u001b[0m"
      ]
     },
     "execution_count": 4,
     "metadata": {},
     "output_type": "execute_result"
    }
   ],
   "source": [
    "dataset.V3 = ifelse.(dataset.V3 .== 1, 0, 1)\n",
    "dataset.V11 = ifelse.(dataset.V11 .== 1, 0, 1)\n",
    "dataset.V13 = log.(dataset.V13) \n",
    "dataset"
   ]
  },
  {
   "cell_type": "code",
   "execution_count": 7,
   "metadata": {},
   "outputs": [
    {
     "data": {
      "text/plain": [
       "([449, 403, 211, 246, 418, 422, 562, 256, 675, 347  …  482, 236, 208, 453, 223, 540, 114, 222, 165, 357], [255, 76, 323, 151, 302, 509, 11, 192, 600, 15  …  159, 154, 503, 603, 244, 526, 116, 628, 370, 685])"
      ]
     },
     "execution_count": 7,
     "metadata": {},
     "output_type": "execute_result"
    }
   ],
   "source": [
    "training_fraction = 0.7\n",
    "Random.seed!(42)\n",
    "train, test = partition(eachindex(dataset.class), training_fraction, shuffle=true)"
   ]
  },
  {
   "cell_type": "code",
   "execution_count": 8,
   "metadata": {},
   "outputs": [
    {
     "data": {
      "text/html": [
       "<div><div style = \"float: left;\"><span>207×15 DataFrame</span></div><div style = \"float: right;\"><span style = \"font-style: italic;\">182 rows omitted</span></div><div style = \"clear: both;\"></div></div><div class = \"data-frame\" style = \"overflow-x: scroll;\"><table class = \"data-frame\" style = \"margin-bottom: 6px;\"><thead><tr class = \"header\"><th class = \"rowNumber\" style = \"font-weight: bold; text-align: right;\">Row</th><th style = \"text-align: left;\">V0</th><th style = \"text-align: left;\">V1</th><th style = \"text-align: left;\">V2</th><th style = \"text-align: left;\">V3</th><th style = \"text-align: left;\">V4</th><th style = \"text-align: left;\">V5</th><th style = \"text-align: left;\">V6</th><th style = \"text-align: left;\">V7</th><th style = \"text-align: left;\">V8</th><th style = \"text-align: left;\">V9</th><th style = \"text-align: left;\">V10</th><th style = \"text-align: left;\">V11</th><th style = \"text-align: left;\">V12</th><th style = \"text-align: left;\">V13</th><th style = \"text-align: left;\">class</th></tr><tr class = \"subheader headerLastRow\"><th class = \"rowNumber\" style = \"font-weight: bold; text-align: right;\"></th><th title = \"Int64\" style = \"text-align: left;\">Int64</th><th title = \"Float64\" style = \"text-align: left;\">Float64</th><th title = \"Float64\" style = \"text-align: left;\">Float64</th><th title = \"Int64\" style = \"text-align: left;\">Int64</th><th title = \"Int64\" style = \"text-align: left;\">Int64</th><th title = \"Int64\" style = \"text-align: left;\">Int64</th><th title = \"Float64\" style = \"text-align: left;\">Float64</th><th title = \"Int64\" style = \"text-align: left;\">Int64</th><th title = \"Int64\" style = \"text-align: left;\">Int64</th><th title = \"Int64\" style = \"text-align: left;\">Int64</th><th title = \"Int64\" style = \"text-align: left;\">Int64</th><th title = \"Int64\" style = \"text-align: left;\">Int64</th><th title = \"Int64\" style = \"text-align: left;\">Int64</th><th title = \"Float64\" style = \"text-align: left;\">Float64</th><th title = \"Int64\" style = \"text-align: left;\">Int64</th></tr></thead><tbody><tr><td class = \"rowNumber\" style = \"font-weight: bold; text-align: right;\">1</td><td style = \"text-align: right;\">0</td><td style = \"text-align: right;\">40.83</td><td style = \"text-align: right;\">10.0</td><td style = \"text-align: right;\">1</td><td style = \"text-align: right;\">11</td><td style = \"text-align: right;\">8</td><td style = \"text-align: right;\">1.75</td><td style = \"text-align: right;\">1</td><td style = \"text-align: right;\">0</td><td style = \"text-align: right;\">0</td><td style = \"text-align: right;\">0</td><td style = \"text-align: right;\">1</td><td style = \"text-align: right;\">29</td><td style = \"text-align: right;\">6.73102</td><td style = \"text-align: right;\">1</td></tr><tr><td class = \"rowNumber\" style = \"font-weight: bold; text-align: right;\">2</td><td style = \"text-align: right;\">1</td><td style = \"text-align: right;\">36.5</td><td style = \"text-align: right;\">4.25</td><td style = \"text-align: right;\">1</td><td style = \"text-align: right;\">11</td><td style = \"text-align: right;\">4</td><td style = \"text-align: right;\">3.5</td><td style = \"text-align: right;\">0</td><td style = \"text-align: right;\">0</td><td style = \"text-align: right;\">0</td><td style = \"text-align: right;\">0</td><td style = \"text-align: right;\">1</td><td style = \"text-align: right;\">454</td><td style = \"text-align: right;\">3.93183</td><td style = \"text-align: right;\">0</td></tr><tr><td class = \"rowNumber\" style = \"font-weight: bold; text-align: right;\">3</td><td style = \"text-align: right;\">1</td><td style = \"text-align: right;\">54.58</td><td style = \"text-align: right;\">9.415</td><td style = \"text-align: right;\">1</td><td style = \"text-align: right;\">1</td><td style = \"text-align: right;\">1</td><td style = \"text-align: right;\">14.415</td><td style = \"text-align: right;\">1</td><td style = \"text-align: right;\">1</td><td style = \"text-align: right;\">11</td><td style = \"text-align: right;\">1</td><td style = \"text-align: right;\">1</td><td style = \"text-align: right;\">30</td><td style = \"text-align: right;\">5.70711</td><td style = \"text-align: right;\">1</td></tr><tr><td class = \"rowNumber\" style = \"font-weight: bold; text-align: right;\">4</td><td style = \"text-align: right;\">1</td><td style = \"text-align: right;\">23.17</td><td style = \"text-align: right;\">0.0</td><td style = \"text-align: right;\">1</td><td style = \"text-align: right;\">8</td><td style = \"text-align: right;\">4</td><td style = \"text-align: right;\">0.0</td><td style = \"text-align: right;\">0</td><td style = \"text-align: right;\">0</td><td style = \"text-align: right;\">0</td><td style = \"text-align: right;\">0</td><td style = \"text-align: right;\">1</td><td style = \"text-align: right;\">184</td><td style = \"text-align: right;\">0.0</td><td style = \"text-align: right;\">1</td></tr><tr><td class = \"rowNumber\" style = \"font-weight: bold; text-align: right;\">5</td><td style = \"text-align: right;\">1</td><td style = \"text-align: right;\">20.0</td><td style = \"text-align: right;\">11.045</td><td style = \"text-align: right;\">1</td><td style = \"text-align: right;\">8</td><td style = \"text-align: right;\">4</td><td style = \"text-align: right;\">2.0</td><td style = \"text-align: right;\">0</td><td style = \"text-align: right;\">0</td><td style = \"text-align: right;\">0</td><td style = \"text-align: right;\">1</td><td style = \"text-align: right;\">1</td><td style = \"text-align: right;\">136</td><td style = \"text-align: right;\">0.0</td><td style = \"text-align: right;\">0</td></tr><tr><td class = \"rowNumber\" style = \"font-weight: bold; text-align: right;\">6</td><td style = \"text-align: right;\">1</td><td style = \"text-align: right;\">34.83</td><td style = \"text-align: right;\">2.5</td><td style = \"text-align: right;\">0</td><td style = \"text-align: right;\">9</td><td style = \"text-align: right;\">4</td><td style = \"text-align: right;\">3.0</td><td style = \"text-align: right;\">0</td><td style = \"text-align: right;\">0</td><td style = \"text-align: right;\">0</td><td style = \"text-align: right;\">0</td><td style = \"text-align: right;\">0</td><td style = \"text-align: right;\">200</td><td style = \"text-align: right;\">0.0</td><td style = \"text-align: right;\">0</td></tr><tr><td class = \"rowNumber\" style = \"font-weight: bold; text-align: right;\">7</td><td style = \"text-align: right;\">1</td><td style = \"text-align: right;\">33.5</td><td style = \"text-align: right;\">1.75</td><td style = \"text-align: right;\">1</td><td style = \"text-align: right;\">14</td><td style = \"text-align: right;\">8</td><td style = \"text-align: right;\">4.5</td><td style = \"text-align: right;\">1</td><td style = \"text-align: right;\">1</td><td style = \"text-align: right;\">4</td><td style = \"text-align: right;\">1</td><td style = \"text-align: right;\">1</td><td style = \"text-align: right;\">253</td><td style = \"text-align: right;\">6.7546</td><td style = \"text-align: right;\">1</td></tr><tr><td class = \"rowNumber\" style = \"font-weight: bold; text-align: right;\">8</td><td style = \"text-align: right;\">1</td><td style = \"text-align: right;\">29.25</td><td style = \"text-align: right;\">14.79</td><td style = \"text-align: right;\">1</td><td style = \"text-align: right;\">6</td><td style = \"text-align: right;\">4</td><td style = \"text-align: right;\">5.04</td><td style = \"text-align: right;\">1</td><td style = \"text-align: right;\">1</td><td style = \"text-align: right;\">5</td><td style = \"text-align: right;\">1</td><td style = \"text-align: right;\">1</td><td style = \"text-align: right;\">168</td><td style = \"text-align: right;\">0.0</td><td style = \"text-align: right;\">1</td></tr><tr><td class = \"rowNumber\" style = \"font-weight: bold; text-align: right;\">9</td><td style = \"text-align: right;\">1</td><td style = \"text-align: right;\">37.33</td><td style = \"text-align: right;\">6.5</td><td style = \"text-align: right;\">1</td><td style = \"text-align: right;\">7</td><td style = \"text-align: right;\">8</td><td style = \"text-align: right;\">4.25</td><td style = \"text-align: right;\">1</td><td style = \"text-align: right;\">1</td><td style = \"text-align: right;\">12</td><td style = \"text-align: right;\">1</td><td style = \"text-align: right;\">1</td><td style = \"text-align: right;\">93</td><td style = \"text-align: right;\">0.0</td><td style = \"text-align: right;\">1</td></tr><tr><td class = \"rowNumber\" style = \"font-weight: bold; text-align: right;\">10</td><td style = \"text-align: right;\">1</td><td style = \"text-align: right;\">58.58</td><td style = \"text-align: right;\">2.71</td><td style = \"text-align: right;\">1</td><td style = \"text-align: right;\">8</td><td style = \"text-align: right;\">4</td><td style = \"text-align: right;\">2.415</td><td style = \"text-align: right;\">0</td><td style = \"text-align: right;\">0</td><td style = \"text-align: right;\">0</td><td style = \"text-align: right;\">1</td><td style = \"text-align: right;\">1</td><td style = \"text-align: right;\">320</td><td style = \"text-align: right;\">0.0</td><td style = \"text-align: right;\">0</td></tr><tr><td class = \"rowNumber\" style = \"font-weight: bold; text-align: right;\">11</td><td style = \"text-align: right;\">1</td><td style = \"text-align: right;\">25.67</td><td style = \"text-align: right;\">0.29</td><td style = \"text-align: right;\">0</td><td style = \"text-align: right;\">8</td><td style = \"text-align: right;\">4</td><td style = \"text-align: right;\">1.5</td><td style = \"text-align: right;\">0</td><td style = \"text-align: right;\">0</td><td style = \"text-align: right;\">0</td><td style = \"text-align: right;\">1</td><td style = \"text-align: right;\">1</td><td style = \"text-align: right;\">160</td><td style = \"text-align: right;\">0.0</td><td style = \"text-align: right;\">0</td></tr><tr><td class = \"rowNumber\" style = \"font-weight: bold; text-align: right;\">12</td><td style = \"text-align: right;\">0</td><td style = \"text-align: right;\">69.5</td><td style = \"text-align: right;\">6.0</td><td style = \"text-align: right;\">1</td><td style = \"text-align: right;\">1</td><td style = \"text-align: right;\">1</td><td style = \"text-align: right;\">0.0</td><td style = \"text-align: right;\">0</td><td style = \"text-align: right;\">0</td><td style = \"text-align: right;\">0</td><td style = \"text-align: right;\">0</td><td style = \"text-align: right;\">0</td><td style = \"text-align: right;\">0</td><td style = \"text-align: right;\">0.0</td><td style = \"text-align: right;\">0</td></tr><tr><td class = \"rowNumber\" style = \"font-weight: bold; text-align: right;\">13</td><td style = \"text-align: right;\">1</td><td style = \"text-align: right;\">22.67</td><td style = \"text-align: right;\">0.75</td><td style = \"text-align: right;\">1</td><td style = \"text-align: right;\">3</td><td style = \"text-align: right;\">4</td><td style = \"text-align: right;\">1.585</td><td style = \"text-align: right;\">0</td><td style = \"text-align: right;\">1</td><td style = \"text-align: right;\">1</td><td style = \"text-align: right;\">1</td><td style = \"text-align: right;\">1</td><td style = \"text-align: right;\">400</td><td style = \"text-align: right;\">2.30259</td><td style = \"text-align: right;\">0</td></tr><tr><td style = \"text-align: right;\">&vellip;</td><td style = \"text-align: right;\">&vellip;</td><td style = \"text-align: right;\">&vellip;</td><td style = \"text-align: right;\">&vellip;</td><td style = \"text-align: right;\">&vellip;</td><td style = \"text-align: right;\">&vellip;</td><td style = \"text-align: right;\">&vellip;</td><td style = \"text-align: right;\">&vellip;</td><td style = \"text-align: right;\">&vellip;</td><td style = \"text-align: right;\">&vellip;</td><td style = \"text-align: right;\">&vellip;</td><td style = \"text-align: right;\">&vellip;</td><td style = \"text-align: right;\">&vellip;</td><td style = \"text-align: right;\">&vellip;</td><td style = \"text-align: right;\">&vellip;</td><td style = \"text-align: right;\">&vellip;</td></tr><tr><td class = \"rowNumber\" style = \"font-weight: bold; text-align: right;\">196</td><td style = \"text-align: right;\">0</td><td style = \"text-align: right;\">57.08</td><td style = \"text-align: right;\">0.335</td><td style = \"text-align: right;\">1</td><td style = \"text-align: right;\">3</td><td style = \"text-align: right;\">5</td><td style = \"text-align: right;\">1.0</td><td style = \"text-align: right;\">1</td><td style = \"text-align: right;\">0</td><td style = \"text-align: right;\">0</td><td style = \"text-align: right;\">1</td><td style = \"text-align: right;\">1</td><td style = \"text-align: right;\">252</td><td style = \"text-align: right;\">7.6953</td><td style = \"text-align: right;\">0</td></tr><tr><td class = \"rowNumber\" style = \"font-weight: bold; text-align: right;\">197</td><td style = \"text-align: right;\">0</td><td style = \"text-align: right;\">19.67</td><td style = \"text-align: right;\">0.21</td><td style = \"text-align: right;\">1</td><td style = \"text-align: right;\">11</td><td style = \"text-align: right;\">8</td><td style = \"text-align: right;\">0.29</td><td style = \"text-align: right;\">1</td><td style = \"text-align: right;\">1</td><td style = \"text-align: right;\">11</td><td style = \"text-align: right;\">0</td><td style = \"text-align: right;\">1</td><td style = \"text-align: right;\">80</td><td style = \"text-align: right;\">4.60517</td><td style = \"text-align: right;\">1</td></tr><tr><td class = \"rowNumber\" style = \"font-weight: bold; text-align: right;\">198</td><td style = \"text-align: right;\">1</td><td style = \"text-align: right;\">22.67</td><td style = \"text-align: right;\">1.585</td><td style = \"text-align: right;\">0</td><td style = \"text-align: right;\">9</td><td style = \"text-align: right;\">4</td><td style = \"text-align: right;\">3.085</td><td style = \"text-align: right;\">1</td><td style = \"text-align: right;\">1</td><td style = \"text-align: right;\">6</td><td style = \"text-align: right;\">0</td><td style = \"text-align: right;\">1</td><td style = \"text-align: right;\">80</td><td style = \"text-align: right;\">0.0</td><td style = \"text-align: right;\">1</td></tr><tr><td class = \"rowNumber\" style = \"font-weight: bold; text-align: right;\">199</td><td style = \"text-align: right;\">1</td><td style = \"text-align: right;\">18.83</td><td style = \"text-align: right;\">0.415</td><td style = \"text-align: right;\">0</td><td style = \"text-align: right;\">8</td><td style = \"text-align: right;\">4</td><td style = \"text-align: right;\">0.165</td><td style = \"text-align: right;\">0</td><td style = \"text-align: right;\">1</td><td style = \"text-align: right;\">1</td><td style = \"text-align: right;\">0</td><td style = \"text-align: right;\">1</td><td style = \"text-align: right;\">200</td><td style = \"text-align: right;\">0.693147</td><td style = \"text-align: right;\">0</td></tr><tr><td class = \"rowNumber\" style = \"font-weight: bold; text-align: right;\">200</td><td style = \"text-align: right;\">1</td><td style = \"text-align: right;\">47.67</td><td style = \"text-align: right;\">2.5</td><td style = \"text-align: right;\">1</td><td style = \"text-align: right;\">7</td><td style = \"text-align: right;\">5</td><td style = \"text-align: right;\">2.5</td><td style = \"text-align: right;\">1</td><td style = \"text-align: right;\">1</td><td style = \"text-align: right;\">12</td><td style = \"text-align: right;\">1</td><td style = \"text-align: right;\">1</td><td style = \"text-align: right;\">410</td><td style = \"text-align: right;\">7.82844</td><td style = \"text-align: right;\">1</td></tr><tr><td class = \"rowNumber\" style = \"font-weight: bold; text-align: right;\">201</td><td style = \"text-align: right;\">1</td><td style = \"text-align: right;\">22.58</td><td style = \"text-align: right;\">10.04</td><td style = \"text-align: right;\">1</td><td style = \"text-align: right;\">14</td><td style = \"text-align: right;\">4</td><td style = \"text-align: right;\">0.04</td><td style = \"text-align: right;\">1</td><td style = \"text-align: right;\">1</td><td style = \"text-align: right;\">9</td><td style = \"text-align: right;\">0</td><td style = \"text-align: right;\">1</td><td style = \"text-align: right;\">60</td><td style = \"text-align: right;\">5.98394</td><td style = \"text-align: right;\">1</td></tr><tr><td class = \"rowNumber\" style = \"font-weight: bold; text-align: right;\">202</td><td style = \"text-align: right;\">1</td><td style = \"text-align: right;\">80.25</td><td style = \"text-align: right;\">5.5</td><td style = \"text-align: right;\">1</td><td style = \"text-align: right;\">8</td><td style = \"text-align: right;\">4</td><td style = \"text-align: right;\">0.54</td><td style = \"text-align: right;\">1</td><td style = \"text-align: right;\">0</td><td style = \"text-align: right;\">0</td><td style = \"text-align: right;\">0</td><td style = \"text-align: right;\">1</td><td style = \"text-align: right;\">0</td><td style = \"text-align: right;\">5.83188</td><td style = \"text-align: right;\">0</td></tr><tr><td class = \"rowNumber\" style = \"font-weight: bold; text-align: right;\">203</td><td style = \"text-align: right;\">1</td><td style = \"text-align: right;\">21.92</td><td style = \"text-align: right;\">0.5</td><td style = \"text-align: right;\">1</td><td style = \"text-align: right;\">8</td><td style = \"text-align: right;\">4</td><td style = \"text-align: right;\">0.125</td><td style = \"text-align: right;\">0</td><td style = \"text-align: right;\">0</td><td style = \"text-align: right;\">0</td><td style = \"text-align: right;\">0</td><td style = \"text-align: right;\">1</td><td style = \"text-align: right;\">360</td><td style = \"text-align: right;\">0.0</td><td style = \"text-align: right;\">0</td></tr><tr><td class = \"rowNumber\" style = \"font-weight: bold; text-align: right;\">204</td><td style = \"text-align: right;\">1</td><td style = \"text-align: right;\">34.08</td><td style = \"text-align: right;\">0.08</td><td style = \"text-align: right;\">0</td><td style = \"text-align: right;\">7</td><td style = \"text-align: right;\">5</td><td style = \"text-align: right;\">0.04</td><td style = \"text-align: right;\">1</td><td style = \"text-align: right;\">1</td><td style = \"text-align: right;\">1</td><td style = \"text-align: right;\">1</td><td style = \"text-align: right;\">1</td><td style = \"text-align: right;\">280</td><td style = \"text-align: right;\">7.6014</td><td style = \"text-align: right;\">1</td></tr><tr><td class = \"rowNumber\" style = \"font-weight: bold; text-align: right;\">205</td><td style = \"text-align: right;\">1</td><td style = \"text-align: right;\">22.92</td><td style = \"text-align: right;\">3.165</td><td style = \"text-align: right;\">0</td><td style = \"text-align: right;\">8</td><td style = \"text-align: right;\">4</td><td style = \"text-align: right;\">0.165</td><td style = \"text-align: right;\">0</td><td style = \"text-align: right;\">0</td><td style = \"text-align: right;\">0</td><td style = \"text-align: right;\">0</td><td style = \"text-align: right;\">1</td><td style = \"text-align: right;\">160</td><td style = \"text-align: right;\">6.96508</td><td style = \"text-align: right;\">0</td></tr><tr><td class = \"rowNumber\" style = \"font-weight: bold; text-align: right;\">206</td><td style = \"text-align: right;\">1</td><td style = \"text-align: right;\">33.58</td><td style = \"text-align: right;\">2.75</td><td style = \"text-align: right;\">1</td><td style = \"text-align: right;\">7</td><td style = \"text-align: right;\">4</td><td style = \"text-align: right;\">4.25</td><td style = \"text-align: right;\">1</td><td style = \"text-align: right;\">1</td><td style = \"text-align: right;\">6</td><td style = \"text-align: right;\">0</td><td style = \"text-align: right;\">1</td><td style = \"text-align: right;\">204</td><td style = \"text-align: right;\">0.0</td><td style = \"text-align: right;\">1</td></tr><tr><td class = \"rowNumber\" style = \"font-weight: bold; text-align: right;\">207</td><td style = \"text-align: right;\">1</td><td style = \"text-align: right;\">43.0</td><td style = \"text-align: right;\">0.29</td><td style = \"text-align: right;\">0</td><td style = \"text-align: right;\">13</td><td style = \"text-align: right;\">8</td><td style = \"text-align: right;\">1.75</td><td style = \"text-align: right;\">1</td><td style = \"text-align: right;\">1</td><td style = \"text-align: right;\">8</td><td style = \"text-align: right;\">0</td><td style = \"text-align: right;\">1</td><td style = \"text-align: right;\">100</td><td style = \"text-align: right;\">5.92959</td><td style = \"text-align: right;\">1</td></tr></tbody></table></div>"
      ],
      "text/latex": [
       "\\begin{tabular}{r|cccccccccccc}\n",
       "\t& V0 & V1 & V2 & V3 & V4 & V5 & V6 & V7 & V8 & V9 & V10 & \\\\\n",
       "\t\\hline\n",
       "\t& Int64 & Float64 & Float64 & Int64 & Int64 & Int64 & Float64 & Int64 & Int64 & Int64 & Int64 & \\\\\n",
       "\t\\hline\n",
       "\t1 & 0 & 40.83 & 10.0 & 1 & 11 & 8 & 1.75 & 1 & 0 & 0 & 0 & $\\dots$ \\\\\n",
       "\t2 & 1 & 36.5 & 4.25 & 1 & 11 & 4 & 3.5 & 0 & 0 & 0 & 0 & $\\dots$ \\\\\n",
       "\t3 & 1 & 54.58 & 9.415 & 1 & 1 & 1 & 14.415 & 1 & 1 & 11 & 1 & $\\dots$ \\\\\n",
       "\t4 & 1 & 23.17 & 0.0 & 1 & 8 & 4 & 0.0 & 0 & 0 & 0 & 0 & $\\dots$ \\\\\n",
       "\t5 & 1 & 20.0 & 11.045 & 1 & 8 & 4 & 2.0 & 0 & 0 & 0 & 1 & $\\dots$ \\\\\n",
       "\t6 & 1 & 34.83 & 2.5 & 0 & 9 & 4 & 3.0 & 0 & 0 & 0 & 0 & $\\dots$ \\\\\n",
       "\t7 & 1 & 33.5 & 1.75 & 1 & 14 & 8 & 4.5 & 1 & 1 & 4 & 1 & $\\dots$ \\\\\n",
       "\t8 & 1 & 29.25 & 14.79 & 1 & 6 & 4 & 5.04 & 1 & 1 & 5 & 1 & $\\dots$ \\\\\n",
       "\t9 & 1 & 37.33 & 6.5 & 1 & 7 & 8 & 4.25 & 1 & 1 & 12 & 1 & $\\dots$ \\\\\n",
       "\t10 & 1 & 58.58 & 2.71 & 1 & 8 & 4 & 2.415 & 0 & 0 & 0 & 1 & $\\dots$ \\\\\n",
       "\t11 & 1 & 25.67 & 0.29 & 0 & 8 & 4 & 1.5 & 0 & 0 & 0 & 1 & $\\dots$ \\\\\n",
       "\t12 & 0 & 69.5 & 6.0 & 1 & 1 & 1 & 0.0 & 0 & 0 & 0 & 0 & $\\dots$ \\\\\n",
       "\t13 & 1 & 22.67 & 0.75 & 1 & 3 & 4 & 1.585 & 0 & 1 & 1 & 1 & $\\dots$ \\\\\n",
       "\t14 & 1 & 26.25 & 1.54 & 1 & 9 & 4 & 0.125 & 0 & 0 & 0 & 0 & $\\dots$ \\\\\n",
       "\t15 & 0 & 52.83 & 15.0 & 1 & 8 & 4 & 5.5 & 1 & 1 & 14 & 0 & $\\dots$ \\\\\n",
       "\t16 & 0 & 65.17 & 14.0 & 1 & 1 & 1 & 0.0 & 1 & 1 & 11 & 1 & $\\dots$ \\\\\n",
       "\t17 & 1 & 19.58 & 0.585 & 1 & 1 & 1 & 0.0 & 0 & 1 & 3 & 0 & $\\dots$ \\\\\n",
       "\t18 & 1 & 34.25 & 1.75 & 1 & 9 & 5 & 0.25 & 1 & 0 & 0 & 1 & $\\dots$ \\\\\n",
       "\t19 & 1 & 27.83 & 1.5 & 1 & 9 & 4 & 2.25 & 0 & 1 & 1 & 1 & $\\dots$ \\\\\n",
       "\t20 & 0 & 19.17 & 5.415 & 1 & 3 & 8 & 0.29 & 0 & 0 & 0 & 0 & $\\dots$ \\\\\n",
       "\t21 & 0 & 23.5 & 9.0 & 1 & 11 & 4 & 8.5 & 1 & 1 & 5 & 1 & $\\dots$ \\\\\n",
       "\t22 & 1 & 16.25 & 0.0 & 0 & 6 & 4 & 0.25 & 0 & 0 & 0 & 0 & $\\dots$ \\\\\n",
       "\t23 & 1 & 23.42 & 0.585 & 1 & 8 & 8 & 0.085 & 1 & 0 & 0 & 0 & $\\dots$ \\\\\n",
       "\t24 & 1 & 25.83 & 12.835 & 1 & 13 & 4 & 0.5 & 0 & 0 & 0 & 0 & $\\dots$ \\\\\n",
       "\t25 & 0 & 25.25 & 13.5 & 0 & 1 & 1 & 2.0 & 0 & 1 & 1 & 1 & $\\dots$ \\\\\n",
       "\t26 & 0 & 25.08 & 2.54 & 0 & 6 & 4 & 0.25 & 1 & 0 & 0 & 1 & $\\dots$ \\\\\n",
       "\t27 & 0 & 22.83 & 2.29 & 1 & 11 & 8 & 2.29 & 1 & 1 & 7 & 1 & $\\dots$ \\\\\n",
       "\t28 & 1 & 39.58 & 13.915 & 1 & 9 & 4 & 8.625 & 1 & 1 & 6 & 1 & $\\dots$ \\\\\n",
       "\t29 & 0 & 64.08 & 0.165 & 1 & 1 & 1 & 0.0 & 1 & 1 & 1 & 0 & $\\dots$ \\\\\n",
       "\t30 & 1 & 26.17 & 0.25 & 1 & 3 & 5 & 0.0 & 1 & 0 & 0 & 1 & $\\dots$ \\\\\n",
       "\t$\\dots$ & $\\dots$ & $\\dots$ & $\\dots$ & $\\dots$ & $\\dots$ & $\\dots$ & $\\dots$ & $\\dots$ & $\\dots$ & $\\dots$ & $\\dots$ &  \\\\\n",
       "\\end{tabular}\n"
      ],
      "text/plain": [
       "\u001b[1m207×15 DataFrame\u001b[0m\n",
       "\u001b[1m Row \u001b[0m│\u001b[1m V0    \u001b[0m\u001b[1m V1      \u001b[0m\u001b[1m V2      \u001b[0m\u001b[1m V3    \u001b[0m\u001b[1m V4    \u001b[0m\u001b[1m V5    \u001b[0m\u001b[1m V6      \u001b[0m\u001b[1m V7    \u001b[0m\u001b[1m V8    \u001b[0m\u001b[1m V9\u001b[0m ⋯\n",
       "     │\u001b[90m Int64 \u001b[0m\u001b[90m Float64 \u001b[0m\u001b[90m Float64 \u001b[0m\u001b[90m Int64 \u001b[0m\u001b[90m Int64 \u001b[0m\u001b[90m Int64 \u001b[0m\u001b[90m Float64 \u001b[0m\u001b[90m Int64 \u001b[0m\u001b[90m Int64 \u001b[0m\u001b[90m In\u001b[0m ⋯\n",
       "─────┼──────────────────────────────────────────────────────────────────────────\n",
       "   1 │     0    40.83   10.0        1     11      8    1.75       1      0     ⋯\n",
       "   2 │     1    36.5     4.25       1     11      4    3.5        0      0\n",
       "   3 │     1    54.58    9.415      1      1      1   14.415      1      1\n",
       "   4 │     1    23.17    0.0        1      8      4    0.0        0      0\n",
       "   5 │     1    20.0    11.045      1      8      4    2.0        0      0     ⋯\n",
       "   6 │     1    34.83    2.5        0      9      4    3.0        0      0\n",
       "   7 │     1    33.5     1.75       1     14      8    4.5        1      1\n",
       "   8 │     1    29.25   14.79       1      6      4    5.04       1      1\n",
       "   9 │     1    37.33    6.5        1      7      8    4.25       1      1     ⋯\n",
       "  10 │     1    58.58    2.71       1      8      4    2.415      0      0\n",
       "  11 │     1    25.67    0.29       0      8      4    1.5        0      0\n",
       "  ⋮  │   ⋮       ⋮        ⋮       ⋮      ⋮      ⋮       ⋮       ⋮      ⋮       ⋱\n",
       " 198 │     1    22.67    1.585      0      9      4    3.085      1      1\n",
       " 199 │     1    18.83    0.415      0      8      4    0.165      0      1     ⋯\n",
       " 200 │     1    47.67    2.5        1      7      5    2.5        1      1\n",
       " 201 │     1    22.58   10.04       1     14      4    0.04       1      1\n",
       " 202 │     1    80.25    5.5        1      8      4    0.54       1      0\n",
       " 203 │     1    21.92    0.5        1      8      4    0.125      0      0     ⋯\n",
       " 204 │     1    34.08    0.08       0      7      5    0.04       1      1\n",
       " 205 │     1    22.92    3.165      0      8      4    0.165      0      0\n",
       " 206 │     1    33.58    2.75       1      7      4    4.25       1      1\n",
       " 207 │     1    43.0     0.29       0     13      8    1.75       1      1     ⋯\n",
       "\u001b[36m                                                  6 columns and 186 rows omitted\u001b[0m"
      ]
     },
     "execution_count": 8,
     "metadata": {},
     "output_type": "execute_result"
    }
   ],
   "source": [
    "train_dataset = dataset[train,:]\n",
    "test_dataset = dataset[test,:]"
   ]
  },
  {
   "cell_type": "code",
   "execution_count": 9,
   "metadata": {},
   "outputs": [
    {
     "data": {
      "text/plain": [
       "2-element Vector{Tuple{Int64, Int64}}:\n",
       " (483, 15)\n",
       " (207, 15)"
      ]
     },
     "execution_count": 9,
     "metadata": {},
     "output_type": "execute_result"
    }
   ],
   "source": [
    "size.([train_dataset, test_dataset])"
   ]
  },
  {
   "cell_type": "markdown",
   "metadata": {},
   "source": [
    "## 3. Building logistic regression model\n",
    "[Logistic Regression](https://en.wikipedia.org/wiki/Logistic_regression)"
   ]
  },
  {
   "cell_type": "code",
   "execution_count": 5,
   "metadata": {},
   "outputs": [
    {
     "data": {
      "image/svg+xml": [
       "<?xml version=\"1.0\" encoding=\"utf-8\"?>\n",
       "<svg xmlns=\"http://www.w3.org/2000/svg\" xmlns:xlink=\"http://www.w3.org/1999/xlink\" width=\"600\" height=\"400\" viewBox=\"0 0 2400 1600\">\n",
       "<defs>\n",
       "  <clipPath id=\"clip920\">\n",
       "    <rect x=\"0\" y=\"0\" width=\"2400\" height=\"1600\"/>\n",
       "  </clipPath>\n",
       "</defs>\n",
       "<path clip-path=\"url(#clip920)\" d=\"M0 1600 L2400 1600 L2400 0 L0 0  Z\" fill=\"#ffffff\" fill-rule=\"evenodd\" fill-opacity=\"1\"/>\n",
       "<defs>\n",
       "  <clipPath id=\"clip921\">\n",
       "    <rect x=\"480\" y=\"0\" width=\"1681\" height=\"1600\"/>\n",
       "  </clipPath>\n",
       "</defs>\n",
       "<path clip-path=\"url(#clip920)\" d=\"M186.274 1486.45 L2352.76 1486.45 L2352.76 47.2441 L186.274 47.2441  Z\" fill=\"#ffffff\" fill-rule=\"evenodd\" fill-opacity=\"1\"/>\n",
       "<defs>\n",
       "  <clipPath id=\"clip922\">\n",
       "    <rect x=\"186\" y=\"47\" width=\"2167\" height=\"1440\"/>\n",
       "  </clipPath>\n",
       "</defs>\n",
       "<polyline clip-path=\"url(#clip922)\" style=\"stroke:#000000; stroke-linecap:round; stroke-linejoin:round; stroke-width:2; stroke-opacity:0.1; fill:none\" points=\"417.91,1486.45 417.91,47.2441 \"/>\n",
       "<polyline clip-path=\"url(#clip922)\" style=\"stroke:#000000; stroke-linecap:round; stroke-linejoin:round; stroke-width:2; stroke-opacity:0.1; fill:none\" points=\"843.713,1486.45 843.713,47.2441 \"/>\n",
       "<polyline clip-path=\"url(#clip922)\" style=\"stroke:#000000; stroke-linecap:round; stroke-linejoin:round; stroke-width:2; stroke-opacity:0.1; fill:none\" points=\"1269.51,1486.45 1269.51,47.2441 \"/>\n",
       "<polyline clip-path=\"url(#clip922)\" style=\"stroke:#000000; stroke-linecap:round; stroke-linejoin:round; stroke-width:2; stroke-opacity:0.1; fill:none\" points=\"1695.32,1486.45 1695.32,47.2441 \"/>\n",
       "<polyline clip-path=\"url(#clip922)\" style=\"stroke:#000000; stroke-linecap:round; stroke-linejoin:round; stroke-width:2; stroke-opacity:0.1; fill:none\" points=\"2121.12,1486.45 2121.12,47.2441 \"/>\n",
       "<polyline clip-path=\"url(#clip920)\" style=\"stroke:#000000; stroke-linecap:round; stroke-linejoin:round; stroke-width:4; stroke-opacity:1; fill:none\" points=\"186.274,1486.45 2352.76,1486.45 \"/>\n",
       "<polyline clip-path=\"url(#clip920)\" style=\"stroke:#000000; stroke-linecap:round; stroke-linejoin:round; stroke-width:4; stroke-opacity:1; fill:none\" points=\"417.91,1486.45 417.91,1467.55 \"/>\n",
       "<polyline clip-path=\"url(#clip920)\" style=\"stroke:#000000; stroke-linecap:round; stroke-linejoin:round; stroke-width:4; stroke-opacity:1; fill:none\" points=\"843.713,1486.45 843.713,1467.55 \"/>\n",
       "<polyline clip-path=\"url(#clip920)\" style=\"stroke:#000000; stroke-linecap:round; stroke-linejoin:round; stroke-width:4; stroke-opacity:1; fill:none\" points=\"1269.51,1486.45 1269.51,1467.55 \"/>\n",
       "<polyline clip-path=\"url(#clip920)\" style=\"stroke:#000000; stroke-linecap:round; stroke-linejoin:round; stroke-width:4; stroke-opacity:1; fill:none\" points=\"1695.32,1486.45 1695.32,1467.55 \"/>\n",
       "<polyline clip-path=\"url(#clip920)\" style=\"stroke:#000000; stroke-linecap:round; stroke-linejoin:round; stroke-width:4; stroke-opacity:1; fill:none\" points=\"2121.12,1486.45 2121.12,1467.55 \"/>\n",
       "<path clip-path=\"url(#clip920)\" d=\"M364.438 1532.02 L394.114 1532.02 L394.114 1535.95 L364.438 1535.95 L364.438 1532.02 Z\" fill=\"#000000\" fill-rule=\"nonzero\" fill-opacity=\"1\" /><path clip-path=\"url(#clip920)\" d=\"M404.253 1514.29 L422.609 1514.29 L422.609 1518.22 L408.535 1518.22 L408.535 1526.7 Q409.554 1526.35 410.573 1526.19 Q411.591 1526 412.61 1526 Q418.397 1526 421.776 1529.17 Q425.156 1532.34 425.156 1537.76 Q425.156 1543.34 421.684 1546.44 Q418.211 1549.52 411.892 1549.52 Q409.716 1549.52 407.448 1549.15 Q405.202 1548.78 402.795 1548.04 L402.795 1543.34 Q404.878 1544.47 407.1 1545.03 Q409.323 1545.58 411.799 1545.58 Q415.804 1545.58 418.142 1543.48 Q420.48 1541.37 420.48 1537.76 Q420.48 1534.15 418.142 1532.04 Q415.804 1529.94 411.799 1529.94 Q409.924 1529.94 408.049 1530.35 Q406.198 1530.77 404.253 1531.65 L404.253 1514.29 Z\" fill=\"#000000\" fill-rule=\"nonzero\" fill-opacity=\"1\" /><path clip-path=\"url(#clip920)\" d=\"M434.369 1542.97 L439.253 1542.97 L439.253 1548.85 L434.369 1548.85 L434.369 1542.97 Z\" fill=\"#000000\" fill-rule=\"nonzero\" fill-opacity=\"1\" /><path clip-path=\"url(#clip920)\" d=\"M459.438 1517.37 Q455.827 1517.37 453.998 1520.93 Q452.193 1524.47 452.193 1531.6 Q452.193 1538.71 453.998 1542.27 Q455.827 1545.82 459.438 1545.82 Q463.072 1545.82 464.878 1542.27 Q466.706 1538.71 466.706 1531.6 Q466.706 1524.47 464.878 1520.93 Q463.072 1517.37 459.438 1517.37 M459.438 1513.66 Q465.248 1513.66 468.304 1518.27 Q471.382 1522.85 471.382 1531.6 Q471.382 1540.33 468.304 1544.94 Q465.248 1549.52 459.438 1549.52 Q453.628 1549.52 450.549 1544.94 Q447.494 1540.33 447.494 1531.6 Q447.494 1522.85 450.549 1518.27 Q453.628 1513.66 459.438 1513.66 Z\" fill=\"#000000\" fill-rule=\"nonzero\" fill-opacity=\"1\" /><path clip-path=\"url(#clip920)\" d=\"M790.738 1532.02 L820.414 1532.02 L820.414 1535.95 L790.738 1535.95 L790.738 1532.02 Z\" fill=\"#000000\" fill-rule=\"nonzero\" fill-opacity=\"1\" /><path clip-path=\"url(#clip920)\" d=\"M834.535 1544.91 L850.854 1544.91 L850.854 1548.85 L828.91 1548.85 L828.91 1544.91 Q831.572 1542.16 836.155 1537.53 Q840.761 1532.88 841.942 1531.53 Q844.187 1529.01 845.067 1527.27 Q845.97 1525.51 845.97 1523.82 Q845.97 1521.07 844.025 1519.33 Q842.104 1517.6 839.002 1517.6 Q836.803 1517.6 834.349 1518.36 Q831.919 1519.13 829.141 1520.68 L829.141 1515.95 Q831.965 1514.82 834.419 1514.24 Q836.872 1513.66 838.909 1513.66 Q844.28 1513.66 847.474 1516.35 Q850.669 1519.03 850.669 1523.52 Q850.669 1525.65 849.858 1527.57 Q849.071 1529.47 846.965 1532.07 Q846.386 1532.74 843.284 1535.95 Q840.183 1539.15 834.535 1544.91 Z\" fill=\"#000000\" fill-rule=\"nonzero\" fill-opacity=\"1\" /><path clip-path=\"url(#clip920)\" d=\"M860.669 1542.97 L865.553 1542.97 L865.553 1548.85 L860.669 1548.85 L860.669 1542.97 Z\" fill=\"#000000\" fill-rule=\"nonzero\" fill-opacity=\"1\" /><path clip-path=\"url(#clip920)\" d=\"M875.784 1514.29 L894.141 1514.29 L894.141 1518.22 L880.067 1518.22 L880.067 1526.7 Q881.085 1526.35 882.104 1526.19 Q883.122 1526 884.141 1526 Q889.928 1526 893.307 1529.17 Q896.687 1532.34 896.687 1537.76 Q896.687 1543.34 893.215 1546.44 Q889.743 1549.52 883.423 1549.52 Q881.247 1549.52 878.979 1549.15 Q876.733 1548.78 874.326 1548.04 L874.326 1543.34 Q876.409 1544.47 878.631 1545.03 Q880.854 1545.58 883.331 1545.58 Q887.335 1545.58 889.673 1543.48 Q892.011 1541.37 892.011 1537.76 Q892.011 1534.15 889.673 1532.04 Q887.335 1529.94 883.331 1529.94 Q881.456 1529.94 879.581 1530.35 Q877.729 1530.77 875.784 1531.65 L875.784 1514.29 Z\" fill=\"#000000\" fill-rule=\"nonzero\" fill-opacity=\"1\" /><path clip-path=\"url(#clip920)\" d=\"M1246.9 1517.37 Q1243.29 1517.37 1241.46 1520.93 Q1239.65 1524.47 1239.65 1531.6 Q1239.65 1538.71 1241.46 1542.27 Q1243.29 1545.82 1246.9 1545.82 Q1250.53 1545.82 1252.34 1542.27 Q1254.17 1538.71 1254.17 1531.6 Q1254.17 1524.47 1252.34 1520.93 Q1250.53 1517.37 1246.9 1517.37 M1246.9 1513.66 Q1252.71 1513.66 1255.77 1518.27 Q1258.84 1522.85 1258.84 1531.6 Q1258.84 1540.33 1255.77 1544.94 Q1252.71 1549.52 1246.9 1549.52 Q1241.09 1549.52 1238.01 1544.94 Q1234.95 1540.33 1234.95 1531.6 Q1234.95 1522.85 1238.01 1518.27 Q1241.09 1513.66 1246.9 1513.66 Z\" fill=\"#000000\" fill-rule=\"nonzero\" fill-opacity=\"1\" /><path clip-path=\"url(#clip920)\" d=\"M1267.06 1542.97 L1271.95 1542.97 L1271.95 1548.85 L1267.06 1548.85 L1267.06 1542.97 Z\" fill=\"#000000\" fill-rule=\"nonzero\" fill-opacity=\"1\" /><path clip-path=\"url(#clip920)\" d=\"M1292.13 1517.37 Q1288.52 1517.37 1286.69 1520.93 Q1284.89 1524.47 1284.89 1531.6 Q1284.89 1538.71 1286.69 1542.27 Q1288.52 1545.82 1292.13 1545.82 Q1295.76 1545.82 1297.57 1542.27 Q1299.4 1538.71 1299.4 1531.6 Q1299.4 1524.47 1297.57 1520.93 Q1295.76 1517.37 1292.13 1517.37 M1292.13 1513.66 Q1297.94 1513.66 1301 1518.27 Q1304.07 1522.85 1304.07 1531.6 Q1304.07 1540.33 1301 1544.94 Q1297.94 1549.52 1292.13 1549.52 Q1286.32 1549.52 1283.24 1544.94 Q1280.19 1540.33 1280.19 1531.6 Q1280.19 1522.85 1283.24 1518.27 Q1286.32 1513.66 1292.13 1513.66 Z\" fill=\"#000000\" fill-rule=\"nonzero\" fill-opacity=\"1\" /><path clip-path=\"url(#clip920)\" d=\"M1667.05 1544.91 L1683.37 1544.91 L1683.37 1548.85 L1661.43 1548.85 L1661.43 1544.91 Q1664.09 1542.16 1668.67 1537.53 Q1673.28 1532.88 1674.46 1531.53 Q1676.71 1529.01 1677.59 1527.27 Q1678.49 1525.51 1678.49 1523.82 Q1678.49 1521.07 1676.54 1519.33 Q1674.62 1517.6 1671.52 1517.6 Q1669.32 1517.6 1666.87 1518.36 Q1664.44 1519.13 1661.66 1520.68 L1661.66 1515.95 Q1664.48 1514.82 1666.94 1514.24 Q1669.39 1513.66 1671.43 1513.66 Q1676.8 1513.66 1679.99 1516.35 Q1683.19 1519.03 1683.19 1523.52 Q1683.19 1525.65 1682.38 1527.57 Q1681.59 1529.47 1679.48 1532.07 Q1678.91 1532.74 1675.8 1535.95 Q1672.7 1539.15 1667.05 1544.91 Z\" fill=\"#000000\" fill-rule=\"nonzero\" fill-opacity=\"1\" /><path clip-path=\"url(#clip920)\" d=\"M1693.19 1542.97 L1698.07 1542.97 L1698.07 1548.85 L1693.19 1548.85 L1693.19 1542.97 Z\" fill=\"#000000\" fill-rule=\"nonzero\" fill-opacity=\"1\" /><path clip-path=\"url(#clip920)\" d=\"M1708.3 1514.29 L1726.66 1514.29 L1726.66 1518.22 L1712.59 1518.22 L1712.59 1526.7 Q1713.6 1526.35 1714.62 1526.19 Q1715.64 1526 1716.66 1526 Q1722.45 1526 1725.83 1529.17 Q1729.21 1532.34 1729.21 1537.76 Q1729.21 1543.34 1725.73 1546.44 Q1722.26 1549.52 1715.94 1549.52 Q1713.77 1549.52 1711.5 1549.15 Q1709.25 1548.78 1706.84 1548.04 L1706.84 1543.34 Q1708.93 1544.47 1711.15 1545.03 Q1713.37 1545.58 1715.85 1545.58 Q1719.85 1545.58 1722.19 1543.48 Q1724.53 1541.37 1724.53 1537.76 Q1724.53 1534.15 1722.19 1532.04 Q1719.85 1529.94 1715.85 1529.94 Q1713.97 1529.94 1712.1 1530.35 Q1710.25 1530.77 1708.3 1531.65 L1708.3 1514.29 Z\" fill=\"#000000\" fill-rule=\"nonzero\" fill-opacity=\"1\" /><path clip-path=\"url(#clip920)\" d=\"M2088.28 1514.29 L2106.64 1514.29 L2106.64 1518.22 L2092.57 1518.22 L2092.57 1526.7 Q2093.58 1526.35 2094.6 1526.19 Q2095.62 1526 2096.64 1526 Q2102.43 1526 2105.81 1529.17 Q2109.19 1532.34 2109.19 1537.76 Q2109.19 1543.34 2105.71 1546.44 Q2102.24 1549.52 2095.92 1549.52 Q2093.75 1549.52 2091.48 1549.15 Q2089.23 1548.78 2086.83 1548.04 L2086.83 1543.34 Q2088.91 1544.47 2091.13 1545.03 Q2093.35 1545.58 2095.83 1545.58 Q2099.83 1545.58 2102.17 1543.48 Q2104.51 1541.37 2104.51 1537.76 Q2104.51 1534.15 2102.17 1532.04 Q2099.83 1529.94 2095.83 1529.94 Q2093.96 1529.94 2092.08 1530.35 Q2090.23 1530.77 2088.28 1531.65 L2088.28 1514.29 Z\" fill=\"#000000\" fill-rule=\"nonzero\" fill-opacity=\"1\" /><path clip-path=\"url(#clip920)\" d=\"M2118.4 1542.97 L2123.28 1542.97 L2123.28 1548.85 L2118.4 1548.85 L2118.4 1542.97 Z\" fill=\"#000000\" fill-rule=\"nonzero\" fill-opacity=\"1\" /><path clip-path=\"url(#clip920)\" d=\"M2143.47 1517.37 Q2139.86 1517.37 2138.03 1520.93 Q2136.22 1524.47 2136.22 1531.6 Q2136.22 1538.71 2138.03 1542.27 Q2139.86 1545.82 2143.47 1545.82 Q2147.1 1545.82 2148.91 1542.27 Q2150.74 1538.71 2150.74 1531.6 Q2150.74 1524.47 2148.91 1520.93 Q2147.1 1517.37 2143.47 1517.37 M2143.47 1513.66 Q2149.28 1513.66 2152.33 1518.27 Q2155.41 1522.85 2155.41 1531.6 Q2155.41 1540.33 2152.33 1544.94 Q2149.28 1549.52 2143.47 1549.52 Q2137.66 1549.52 2134.58 1544.94 Q2131.52 1540.33 2131.52 1531.6 Q2131.52 1522.85 2134.58 1518.27 Q2137.66 1513.66 2143.47 1513.66 Z\" fill=\"#000000\" fill-rule=\"nonzero\" fill-opacity=\"1\" /><polyline clip-path=\"url(#clip922)\" style=\"stroke:#000000; stroke-linecap:round; stroke-linejoin:round; stroke-width:2; stroke-opacity:0.1; fill:none\" points=\"186.274,1449.09 2352.76,1449.09 \"/>\n",
       "<polyline clip-path=\"url(#clip922)\" style=\"stroke:#000000; stroke-linecap:round; stroke-linejoin:round; stroke-width:2; stroke-opacity:0.1; fill:none\" points=\"186.274,1107.97 2352.76,1107.97 \"/>\n",
       "<polyline clip-path=\"url(#clip922)\" style=\"stroke:#000000; stroke-linecap:round; stroke-linejoin:round; stroke-width:2; stroke-opacity:0.1; fill:none\" points=\"186.274,766.846 2352.76,766.846 \"/>\n",
       "<polyline clip-path=\"url(#clip922)\" style=\"stroke:#000000; stroke-linecap:round; stroke-linejoin:round; stroke-width:2; stroke-opacity:0.1; fill:none\" points=\"186.274,425.724 2352.76,425.724 \"/>\n",
       "<polyline clip-path=\"url(#clip922)\" style=\"stroke:#000000; stroke-linecap:round; stroke-linejoin:round; stroke-width:2; stroke-opacity:0.1; fill:none\" points=\"186.274,84.6024 2352.76,84.6024 \"/>\n",
       "<polyline clip-path=\"url(#clip920)\" style=\"stroke:#000000; stroke-linecap:round; stroke-linejoin:round; stroke-width:4; stroke-opacity:1; fill:none\" points=\"186.274,1486.45 186.274,47.2441 \"/>\n",
       "<polyline clip-path=\"url(#clip920)\" style=\"stroke:#000000; stroke-linecap:round; stroke-linejoin:round; stroke-width:4; stroke-opacity:1; fill:none\" points=\"186.274,1449.09 205.172,1449.09 \"/>\n",
       "<polyline clip-path=\"url(#clip920)\" style=\"stroke:#000000; stroke-linecap:round; stroke-linejoin:round; stroke-width:4; stroke-opacity:1; fill:none\" points=\"186.274,1107.97 205.172,1107.97 \"/>\n",
       "<polyline clip-path=\"url(#clip920)\" style=\"stroke:#000000; stroke-linecap:round; stroke-linejoin:round; stroke-width:4; stroke-opacity:1; fill:none\" points=\"186.274,766.846 205.172,766.846 \"/>\n",
       "<polyline clip-path=\"url(#clip920)\" style=\"stroke:#000000; stroke-linecap:round; stroke-linejoin:round; stroke-width:4; stroke-opacity:1; fill:none\" points=\"186.274,425.724 205.172,425.724 \"/>\n",
       "<polyline clip-path=\"url(#clip920)\" style=\"stroke:#000000; stroke-linecap:round; stroke-linejoin:round; stroke-width:4; stroke-opacity:1; fill:none\" points=\"186.274,84.6024 205.172,84.6024 \"/>\n",
       "<path clip-path=\"url(#clip920)\" d=\"M62.9365 1434.89 Q59.3254 1434.89 57.4967 1438.45 Q55.6912 1441.99 55.6912 1449.12 Q55.6912 1456.23 57.4967 1459.8 Q59.3254 1463.34 62.9365 1463.34 Q66.5707 1463.34 68.3763 1459.8 Q70.205 1456.23 70.205 1449.12 Q70.205 1441.99 68.3763 1438.45 Q66.5707 1434.89 62.9365 1434.89 M62.9365 1431.18 Q68.7467 1431.18 71.8022 1435.79 Q74.8809 1440.37 74.8809 1449.12 Q74.8809 1457.85 71.8022 1462.46 Q68.7467 1467.04 62.9365 1467.04 Q57.1264 1467.04 54.0477 1462.46 Q50.9921 1457.85 50.9921 1449.12 Q50.9921 1440.37 54.0477 1435.79 Q57.1264 1431.18 62.9365 1431.18 Z\" fill=\"#000000\" fill-rule=\"nonzero\" fill-opacity=\"1\" /><path clip-path=\"url(#clip920)\" d=\"M83.0984 1460.49 L87.9827 1460.49 L87.9827 1466.37 L83.0984 1466.37 L83.0984 1460.49 Z\" fill=\"#000000\" fill-rule=\"nonzero\" fill-opacity=\"1\" /><path clip-path=\"url(#clip920)\" d=\"M108.168 1434.89 Q104.557 1434.89 102.728 1438.45 Q100.922 1441.99 100.922 1449.12 Q100.922 1456.23 102.728 1459.8 Q104.557 1463.34 108.168 1463.34 Q111.802 1463.34 113.608 1459.8 Q115.436 1456.23 115.436 1449.12 Q115.436 1441.99 113.608 1438.45 Q111.802 1434.89 108.168 1434.89 M108.168 1431.18 Q113.978 1431.18 117.033 1435.79 Q120.112 1440.37 120.112 1449.12 Q120.112 1457.85 117.033 1462.46 Q113.978 1467.04 108.168 1467.04 Q102.358 1467.04 99.2789 1462.46 Q96.2234 1457.85 96.2234 1449.12 Q96.2234 1440.37 99.2789 1435.79 Q102.358 1431.18 108.168 1431.18 Z\" fill=\"#000000\" fill-rule=\"nonzero\" fill-opacity=\"1\" /><path clip-path=\"url(#clip920)\" d=\"M138.33 1434.89 Q134.719 1434.89 132.89 1438.45 Q131.084 1441.99 131.084 1449.12 Q131.084 1456.23 132.89 1459.8 Q134.719 1463.34 138.33 1463.34 Q141.964 1463.34 143.769 1459.8 Q145.598 1456.23 145.598 1449.12 Q145.598 1441.99 143.769 1438.45 Q141.964 1434.89 138.33 1434.89 M138.33 1431.18 Q144.14 1431.18 147.195 1435.79 Q150.274 1440.37 150.274 1449.12 Q150.274 1457.85 147.195 1462.46 Q144.14 1467.04 138.33 1467.04 Q132.519 1467.04 129.441 1462.46 Q126.385 1457.85 126.385 1449.12 Q126.385 1440.37 129.441 1435.79 Q132.519 1431.18 138.33 1431.18 Z\" fill=\"#000000\" fill-rule=\"nonzero\" fill-opacity=\"1\" /><path clip-path=\"url(#clip920)\" d=\"M63.9319 1093.77 Q60.3208 1093.77 58.4921 1097.33 Q56.6865 1100.87 56.6865 1108 Q56.6865 1115.11 58.4921 1118.67 Q60.3208 1122.22 63.9319 1122.22 Q67.5661 1122.22 69.3717 1118.67 Q71.2004 1115.11 71.2004 1108 Q71.2004 1100.87 69.3717 1097.33 Q67.5661 1093.77 63.9319 1093.77 M63.9319 1090.06 Q69.742 1090.06 72.7976 1094.67 Q75.8763 1099.25 75.8763 1108 Q75.8763 1116.73 72.7976 1121.34 Q69.742 1125.92 63.9319 1125.92 Q58.1217 1125.92 55.043 1121.34 Q51.9875 1116.73 51.9875 1108 Q51.9875 1099.25 55.043 1094.67 Q58.1217 1090.06 63.9319 1090.06 Z\" fill=\"#000000\" fill-rule=\"nonzero\" fill-opacity=\"1\" /><path clip-path=\"url(#clip920)\" d=\"M84.0938 1119.37 L88.978 1119.37 L88.978 1125.25 L84.0938 1125.25 L84.0938 1119.37 Z\" fill=\"#000000\" fill-rule=\"nonzero\" fill-opacity=\"1\" /><path clip-path=\"url(#clip920)\" d=\"M103.191 1121.31 L119.51 1121.31 L119.51 1125.25 L97.566 1125.25 L97.566 1121.31 Q100.228 1118.56 104.811 1113.93 Q109.418 1109.28 110.598 1107.93 Q112.844 1105.41 113.723 1103.67 Q114.626 1101.91 114.626 1100.22 Q114.626 1097.47 112.682 1095.73 Q110.76 1094 107.658 1094 Q105.459 1094 103.006 1094.76 Q100.575 1095.53 97.7974 1097.08 L97.7974 1092.35 Q100.621 1091.22 103.075 1090.64 Q105.529 1090.06 107.566 1090.06 Q112.936 1090.06 116.131 1092.75 Q119.325 1095.43 119.325 1099.92 Q119.325 1102.05 118.515 1103.97 Q117.728 1105.87 115.621 1108.47 Q115.043 1109.14 111.941 1112.35 Q108.839 1115.55 103.191 1121.31 Z\" fill=\"#000000\" fill-rule=\"nonzero\" fill-opacity=\"1\" /><path clip-path=\"url(#clip920)\" d=\"M129.371 1090.69 L147.728 1090.69 L147.728 1094.62 L133.654 1094.62 L133.654 1103.1 Q134.672 1102.75 135.691 1102.59 Q136.709 1102.4 137.728 1102.4 Q143.515 1102.4 146.894 1105.57 Q150.274 1108.74 150.274 1114.16 Q150.274 1119.74 146.802 1122.84 Q143.33 1125.92 137.01 1125.92 Q134.834 1125.92 132.566 1125.55 Q130.32 1125.18 127.913 1124.44 L127.913 1119.74 Q129.996 1120.87 132.219 1121.43 Q134.441 1121.98 136.918 1121.98 Q140.922 1121.98 143.26 1119.88 Q145.598 1117.77 145.598 1114.16 Q145.598 1110.55 143.26 1108.44 Q140.922 1106.34 136.918 1106.34 Q135.043 1106.34 133.168 1106.75 Q131.316 1107.17 129.371 1108.05 L129.371 1090.69 Z\" fill=\"#000000\" fill-rule=\"nonzero\" fill-opacity=\"1\" /><path clip-path=\"url(#clip920)\" d=\"M62.9365 752.645 Q59.3254 752.645 57.4967 756.209 Q55.6912 759.751 55.6912 766.881 Q55.6912 773.987 57.4967 777.552 Q59.3254 781.094 62.9365 781.094 Q66.5707 781.094 68.3763 777.552 Q70.205 773.987 70.205 766.881 Q70.205 759.751 68.3763 756.209 Q66.5707 752.645 62.9365 752.645 M62.9365 748.941 Q68.7467 748.941 71.8022 753.547 Q74.8809 758.131 74.8809 766.881 Q74.8809 775.608 71.8022 780.214 Q68.7467 784.797 62.9365 784.797 Q57.1264 784.797 54.0477 780.214 Q50.9921 775.608 50.9921 766.881 Q50.9921 758.131 54.0477 753.547 Q57.1264 748.941 62.9365 748.941 Z\" fill=\"#000000\" fill-rule=\"nonzero\" fill-opacity=\"1\" /><path clip-path=\"url(#clip920)\" d=\"M83.0984 778.246 L87.9827 778.246 L87.9827 784.126 L83.0984 784.126 L83.0984 778.246 Z\" fill=\"#000000\" fill-rule=\"nonzero\" fill-opacity=\"1\" /><path clip-path=\"url(#clip920)\" d=\"M98.2141 749.566 L116.57 749.566 L116.57 753.501 L102.496 753.501 L102.496 761.973 Q103.515 761.626 104.534 761.464 Q105.552 761.279 106.571 761.279 Q112.358 761.279 115.737 764.45 Q119.117 767.621 119.117 773.038 Q119.117 778.617 115.645 781.719 Q112.172 784.797 105.853 784.797 Q103.677 784.797 101.409 784.427 Q99.1632 784.057 96.7558 783.316 L96.7558 778.617 Q98.8391 779.751 101.061 780.307 Q103.284 780.862 105.76 780.862 Q109.765 780.862 112.103 778.756 Q114.441 776.649 114.441 773.038 Q114.441 769.427 112.103 767.321 Q109.765 765.214 105.76 765.214 Q103.885 765.214 102.01 765.631 Q100.159 766.047 98.2141 766.927 L98.2141 749.566 Z\" fill=\"#000000\" fill-rule=\"nonzero\" fill-opacity=\"1\" /><path clip-path=\"url(#clip920)\" d=\"M138.33 752.645 Q134.719 752.645 132.89 756.209 Q131.084 759.751 131.084 766.881 Q131.084 773.987 132.89 777.552 Q134.719 781.094 138.33 781.094 Q141.964 781.094 143.769 777.552 Q145.598 773.987 145.598 766.881 Q145.598 759.751 143.769 756.209 Q141.964 752.645 138.33 752.645 M138.33 748.941 Q144.14 748.941 147.195 753.547 Q150.274 758.131 150.274 766.881 Q150.274 775.608 147.195 780.214 Q144.14 784.797 138.33 784.797 Q132.519 784.797 129.441 780.214 Q126.385 775.608 126.385 766.881 Q126.385 758.131 129.441 753.547 Q132.519 748.941 138.33 748.941 Z\" fill=\"#000000\" fill-rule=\"nonzero\" fill-opacity=\"1\" /><path clip-path=\"url(#clip920)\" d=\"M63.9319 411.523 Q60.3208 411.523 58.4921 415.088 Q56.6865 418.629 56.6865 425.759 Q56.6865 432.865 58.4921 436.43 Q60.3208 439.972 63.9319 439.972 Q67.5661 439.972 69.3717 436.43 Q71.2004 432.865 71.2004 425.759 Q71.2004 418.629 69.3717 415.088 Q67.5661 411.523 63.9319 411.523 M63.9319 407.819 Q69.742 407.819 72.7976 412.426 Q75.8763 417.009 75.8763 425.759 Q75.8763 434.486 72.7976 439.092 Q69.742 443.675 63.9319 443.675 Q58.1217 443.675 55.043 439.092 Q51.9875 434.486 51.9875 425.759 Q51.9875 417.009 55.043 412.426 Q58.1217 407.819 63.9319 407.819 Z\" fill=\"#000000\" fill-rule=\"nonzero\" fill-opacity=\"1\" /><path clip-path=\"url(#clip920)\" d=\"M84.0938 437.125 L88.978 437.125 L88.978 443.004 L84.0938 443.004 L84.0938 437.125 Z\" fill=\"#000000\" fill-rule=\"nonzero\" fill-opacity=\"1\" /><path clip-path=\"url(#clip920)\" d=\"M97.9826 408.444 L120.205 408.444 L120.205 410.435 L107.658 443.004 L102.774 443.004 L114.58 412.379 L97.9826 412.379 L97.9826 408.444 Z\" fill=\"#000000\" fill-rule=\"nonzero\" fill-opacity=\"1\" /><path clip-path=\"url(#clip920)\" d=\"M129.371 408.444 L147.728 408.444 L147.728 412.379 L133.654 412.379 L133.654 420.852 Q134.672 420.504 135.691 420.342 Q136.709 420.157 137.728 420.157 Q143.515 420.157 146.894 423.328 Q150.274 426.5 150.274 431.916 Q150.274 437.495 146.802 440.597 Q143.33 443.675 137.01 443.675 Q134.834 443.675 132.566 443.305 Q130.32 442.935 127.913 442.194 L127.913 437.495 Q129.996 438.629 132.219 439.185 Q134.441 439.74 136.918 439.74 Q140.922 439.74 143.26 437.634 Q145.598 435.527 145.598 431.916 Q145.598 428.305 143.26 426.199 Q140.922 424.092 136.918 424.092 Q135.043 424.092 133.168 424.509 Q131.316 424.926 129.371 425.805 L129.371 408.444 Z\" fill=\"#000000\" fill-rule=\"nonzero\" fill-opacity=\"1\" /><path clip-path=\"url(#clip920)\" d=\"M53.7467 97.9473 L61.3856 97.9473 L61.3856 71.5817 L53.0754 73.2483 L53.0754 68.9891 L61.3393 67.3224 L66.0152 67.3224 L66.0152 97.9473 L73.654 97.9473 L73.654 101.882 L53.7467 101.882 L53.7467 97.9473 Z\" fill=\"#000000\" fill-rule=\"nonzero\" fill-opacity=\"1\" /><path clip-path=\"url(#clip920)\" d=\"M83.0984 96.0028 L87.9827 96.0028 L87.9827 101.882 L83.0984 101.882 L83.0984 96.0028 Z\" fill=\"#000000\" fill-rule=\"nonzero\" fill-opacity=\"1\" /><path clip-path=\"url(#clip920)\" d=\"M108.168 70.4011 Q104.557 70.4011 102.728 73.9659 Q100.922 77.5075 100.922 84.6371 Q100.922 91.7436 102.728 95.3084 Q104.557 98.85 108.168 98.85 Q111.802 98.85 113.608 95.3084 Q115.436 91.7436 115.436 84.6371 Q115.436 77.5075 113.608 73.9659 Q111.802 70.4011 108.168 70.4011 M108.168 66.6974 Q113.978 66.6974 117.033 71.3039 Q120.112 75.8872 120.112 84.6371 Q120.112 93.3639 117.033 97.9704 Q113.978 102.554 108.168 102.554 Q102.358 102.554 99.2789 97.9704 Q96.2234 93.3639 96.2234 84.6371 Q96.2234 75.8872 99.2789 71.3039 Q102.358 66.6974 108.168 66.6974 Z\" fill=\"#000000\" fill-rule=\"nonzero\" fill-opacity=\"1\" /><path clip-path=\"url(#clip920)\" d=\"M138.33 70.4011 Q134.719 70.4011 132.89 73.9659 Q131.084 77.5075 131.084 84.6371 Q131.084 91.7436 132.89 95.3084 Q134.719 98.85 138.33 98.85 Q141.964 98.85 143.769 95.3084 Q145.598 91.7436 145.598 84.6371 Q145.598 77.5075 143.769 73.9659 Q141.964 70.4011 138.33 70.4011 M138.33 66.6974 Q144.14 66.6974 147.195 71.3039 Q150.274 75.8872 150.274 84.6371 Q150.274 93.3639 147.195 97.9704 Q144.14 102.554 138.33 102.554 Q132.519 102.554 129.441 97.9704 Q126.385 93.3639 126.385 84.6371 Q126.385 75.8872 129.441 71.3039 Q132.519 66.6974 138.33 66.6974 Z\" fill=\"#000000\" fill-rule=\"nonzero\" fill-opacity=\"1\" /><polyline clip-path=\"url(#clip922)\" style=\"stroke:#009af9; stroke-linecap:round; stroke-linejoin:round; stroke-width:4; stroke-opacity:1; fill:none\" points=\"247.59,1445.72 264.622,1445.36 281.654,1444.97 298.686,1444.54 315.718,1444.06 332.75,1443.54 349.782,1442.95 366.814,1442.31 383.846,1441.6 400.878,1440.82 417.91,1439.96 434.943,1439 451.975,1437.95 469.007,1436.79 486.039,1435.51 503.071,1434.1 520.103,1432.54 537.135,1430.82 554.167,1428.93 571.199,1426.85 588.231,1424.55 605.263,1422.02 622.296,1419.23 639.328,1416.17 656.36,1412.8 673.392,1409.09 690.424,1405.02 707.456,1400.55 724.488,1395.65 741.52,1390.27 758.552,1384.38 775.584,1377.93 792.616,1370.87 809.649,1363.16 826.681,1354.75 843.713,1345.58 860.745,1335.6 877.777,1324.75 894.809,1312.98 911.841,1300.23 928.873,1286.44 945.905,1271.56 962.937,1255.54 979.969,1238.32 997.002,1219.88 1014.03,1200.17 1031.07,1179.17 1048.1,1156.86 1065.13,1133.24 1082.16,1108.32 1099.19,1082.12 1116.23,1054.68 1133.26,1026.06 1150.29,996.336 1167.32,965.592 1184.35,933.94 1201.39,901.504 1218.42,868.422 1235.45,834.844 1252.48,800.93 1269.51,766.846 1286.55,732.762 1303.58,698.848 1320.61,665.27 1337.64,632.188 1354.68,599.752 1371.71,568.1 1388.74,537.356 1405.77,507.628 1422.8,479.008 1439.84,451.57 1456.87,425.369 1473.9,400.447 1490.93,376.828 1507.96,354.52 1525,333.52 1542.03,313.811 1559.06,295.368 1576.09,278.156 1593.12,262.134 1610.16,247.253 1627.19,233.464 1644.22,220.711 1661.25,208.939 1678.29,198.09 1695.32,188.11 1712.35,178.941 1729.38,170.529 1746.41,162.821 1763.45,155.765 1780.48,149.314 1797.51,143.422 1814.54,138.044 1831.57,133.139 1848.61,128.669 1865.64,124.599 1882.67,120.894 1899.7,117.523 1916.73,114.459 1933.77,111.674 1950.8,109.144 1967.83,106.847 1984.86,104.761 2001.89,102.869 2018.93,101.152 2035.96,99.594 2052.99,98.1815 2070.02,96.9009 2087.06,95.7401 2104.09,94.6881 2121.12,93.7347 2138.15,92.8709 2155.18,92.0884 2172.22,91.3796 2189.25,90.7375 2206.28,90.1561 2223.31,89.6295 2240.34,89.1527 2257.38,88.721 2274.41,88.3301 2291.44,87.9763 \"/>\n",
       "<polyline clip-path=\"url(#clip922)\" style=\"stroke:#808080; stroke-linecap:round; stroke-linejoin:round; stroke-width:4; stroke-opacity:1; fill:none\" stroke-dasharray=\"16, 10\" points=\"1269.51,2925.65 1269.51,-1391.96 \"/>\n",
       "<polyline clip-path=\"url(#clip922)\" style=\"stroke:#808080; stroke-linecap:round; stroke-linejoin:round; stroke-width:4; stroke-opacity:1; fill:none\" stroke-dasharray=\"16, 10\" points=\"-1980.21,766.846 4519.24,766.846 \"/>\n",
       "</svg>\n"
      ]
     },
     "execution_count": 5,
     "metadata": {},
     "output_type": "execute_result"
    }
   ],
   "source": [
    "logistic(x) = 1 / (1 + exp(-x))\n",
    "x = collect(-6:.1:6)\n",
    "plot(x, logistic.(x), legend=false)\n",
    "vline!([0], line=:dash, color=:grey)\n",
    "hline!([1/2], line=:dash, color=:grey)"
   ]
  },
  {
   "cell_type": "code",
   "execution_count": 10,
   "metadata": {},
   "outputs": [
    {
     "data": {
      "text/plain": [
       "StatsModels.TableRegressionModel{GeneralizedLinearModel{GLM.GlmResp{Vector{Float64}, Binomial{Float64}, LogitLink}, GLM.DensePredChol{Float64, LinearAlgebra.CholeskyPivoted{Float64, Matrix{Float64}, Vector{Int64}}}}, Matrix{Float64}}\n",
       "\n",
       "class ~ 1 + V0 + V1 + V2 + V3 + V4 + V5 + V6 + V7 + V8 + V9 + V10 + V11 + V12 + V13\n",
       "\n",
       "Coefficients:\n",
       "────────────────────────────────────────────────────────────────────────────────\n",
       "                   Coef.  Std. Error      z  Pr(>|z|)    Lower 95%     Upper 95%\n",
       "────────────────────────────────────────────────────────────────────────────────\n",
       "(Intercept)  -5.19767     0.881274    -5.90    <1e-08  -6.92493     -3.4704\n",
       "V0            0.139869    0.325574     0.43    0.6675  -0.498244     0.777982\n",
       "V1            0.00696932  0.0141903    0.49    0.6233  -0.0208431    0.0347818\n",
       "V2           -0.0325189   0.0312191   -1.04    0.2976  -0.0937072    0.0286694\n",
       "V3            0.992631    0.350958     2.83    0.0047   0.304765     1.6805\n",
       "V4            0.139094    0.0471689    2.95    0.0032   0.0466449    0.231544\n",
       "V5            0.126706    0.0826847    1.53    0.1254  -0.0353533    0.288765\n",
       "V6            0.0368054   0.0521099    0.71    0.4800  -0.0653281    0.138939\n",
       "V7            3.25861     0.33668      9.68    <1e-21   2.59873      3.91849\n",
       "V8            0.207489    0.414397     0.50    0.6166  -0.604714     1.01969\n",
       "V9            0.104728    0.0677748    1.55    0.1223  -0.0281081    0.237564\n",
       "V10          -0.106691    0.299973    -0.36    0.7221  -0.694627     0.481246\n",
       "V11           0.0131091   0.533597     0.02    0.9804  -1.03272      1.05894\n",
       "V12          -0.00189651  0.00091382  -2.08    0.0380  -0.00368757  -0.000105456\n",
       "V13           0.162859    0.0524054    3.11    0.0019   0.0601466    0.265572\n",
       "────────────────────────────────────────────────────────────────────────────────"
      ]
     },
     "execution_count": 10,
     "metadata": {},
     "output_type": "execute_result"
    }
   ],
   "source": [
    "model_log_reg_fit = glm(Term(:class) ~ sum(Term.(Symbol.(names(dataset[:, Not(:class)])))),\n",
    "                        train_dataset, Binomial())"
   ]
  },
  {
   "cell_type": "markdown",
   "metadata": {},
   "source": [
    "Model coefficients:"
   ]
  },
  {
   "cell_type": "code",
   "execution_count": 11,
   "metadata": {},
   "outputs": [
    {
     "data": {
      "text/plain": [
       "15-element Vector{Float64}:\n",
       " -5.197668739634521\n",
       "  0.13986874624702658\n",
       "  0.0069693200188493554\n",
       " -0.032518913823616345\n",
       "  0.9926311762982374\n",
       "  0.13909428640355437\n",
       "  0.12670565226709948\n",
       "  0.036805416078178665\n",
       "  3.258614436014939\n",
       "  0.20748883278540298\n",
       "  0.10472817665520998\n",
       " -0.10669087956065311\n",
       "  0.013109109185359288\n",
       " -0.0018965106677489203\n",
       "  0.1628593481080297"
      ]
     },
     "execution_count": 11,
     "metadata": {},
     "output_type": "execute_result"
    }
   ],
   "source": [
    "coef(model_log_reg_fit)"
   ]
  },
  {
   "cell_type": "markdown",
   "metadata": {},
   "source": [
    "### Prediction"
   ]
  },
  {
   "cell_type": "code",
   "execution_count": 12,
   "metadata": {},
   "outputs": [
    {
     "data": {
      "text/plain": [
       "483-element Vector{Float64}:\n",
       " 0.04127550149959472\n",
       " 0.09666305878482373\n",
       " 0.7787775696114306\n",
       " 0.09091821939825503\n",
       " 0.8915548667054085\n",
       " 0.052490966840015016\n",
       " 0.9671599113123108\n",
       " 0.8733890371467844\n",
       " 0.5867662574323499\n",
       " 0.9072090319281132\n",
       " 0.9476576229164171\n",
       " 0.9467945131482883\n",
       " 0.9379154363775505\n",
       " ⋮\n",
       " 0.7363262319206478\n",
       " 0.09137879847780056\n",
       " 0.5993127680892232\n",
       " 0.9183307232724122\n",
       " 0.027897780084658746\n",
       " 0.08147704367343249\n",
       " 0.9542368716393154\n",
       " 0.9604361440218079\n",
       " 0.9228260300689564\n",
       " 0.07569527284645439\n",
       " 0.7954744356294144\n",
       " 0.6131679778532466"
      ]
     },
     "execution_count": 12,
     "metadata": {},
     "output_type": "execute_result"
    }
   ],
   "source": [
    "train_pred = GLM.predict(model_log_reg_fit)"
   ]
  },
  {
   "cell_type": "code",
   "execution_count": 13,
   "metadata": {},
   "outputs": [
    {
     "data": {
      "text/plain": [
       "207-element Vector{Union{Missing, Float64}}:\n",
       " 0.9355567272236173\n",
       " 0.12016300314046294\n",
       " 0.9004732033990498\n",
       " 0.06786472106448795\n",
       " 0.05005539840353378\n",
       " 0.032090748321508863\n",
       " 0.9746587110750201\n",
       " 0.681823653075588\n",
       " 0.9295786756682807\n",
       " 0.060823025257671894\n",
       " 0.02632479566410766\n",
       " 0.02533311393215882\n",
       " 0.042529661771537795\n",
       " ⋮\n",
       " 0.7702738145465097\n",
       " 0.9760856679600963\n",
       " 0.7061438260194476\n",
       " 0.03712961996538406\n",
       " 0.9530948735904834\n",
       " 0.9707967935880888\n",
       " 0.8980933700519671\n",
       " 0.04860893026903423\n",
       " 0.7251114291099756\n",
       " 0.07369013291242915\n",
       " 0.8079947475921139\n",
       " 0.9612761653922461"
      ]
     },
     "execution_count": 13,
     "metadata": {},
     "output_type": "execute_result"
    }
   ],
   "source": [
    "test_pred = GLM.predict(model_log_reg_fit, test_dataset)"
   ]
  },
  {
   "cell_type": "code",
   "execution_count": 14,
   "metadata": {},
   "outputs": [
    {
     "data": {
      "text/plain": [
       "207-element Vector{Int64}:\n",
       " 1\n",
       " 0\n",
       " 1\n",
       " 1\n",
       " 0\n",
       " 0\n",
       " 1\n",
       " 1\n",
       " 1\n",
       " 0\n",
       " 0\n",
       " 0\n",
       " 0\n",
       " ⋮\n",
       " 0\n",
       " 1\n",
       " 1\n",
       " 0\n",
       " 1\n",
       " 1\n",
       " 0\n",
       " 0\n",
       " 1\n",
       " 0\n",
       " 1\n",
       " 1"
      ]
     },
     "execution_count": 14,
     "metadata": {},
     "output_type": "execute_result"
    }
   ],
   "source": [
    "\n",
    "\n",
    "ideal_pred = test_dataset.class"
   ]
  },
  {
   "cell_type": "code",
   "execution_count": 15,
   "metadata": {},
   "outputs": [
    {
     "data": {
      "text/plain": [
       "207-element Vector{Float64}:\n",
       " 0.1735745757945074\n",
       " 0.32166161915780656\n",
       " 0.25858546995315457\n",
       " 0.16643864408566544\n",
       " 0.5270150071089016\n",
       " 0.48302213696845187\n",
       " 0.3906633890864917\n",
       " 0.802762551279973\n",
       " 0.9807576556964709\n",
       " 0.09443144857141617\n",
       " 0.5447580773835046\n",
       " 0.4339142195043123\n",
       " 0.2112283719951349\n",
       " ⋮\n",
       " 0.9360777781744382\n",
       " 0.9664436177419788\n",
       " 0.9185654715678501\n",
       " 0.6579695267617874\n",
       " 0.1722106854041695\n",
       " 0.7219827350406843\n",
       " 0.3723466293304377\n",
       " 0.030185550039208087\n",
       " 0.07933388944734077\n",
       " 0.6637579955379869\n",
       " 0.49205817172341115\n",
       " 0.7132263076284362"
      ]
     },
     "execution_count": 15,
     "metadata": {},
     "output_type": "execute_result"
    }
   ],
   "source": [
    "Random.seed!(42)\n",
    "random_pred = rand(length(test_dataset.class))"
   ]
  },
  {
   "cell_type": "markdown",
   "metadata": {},
   "source": [
    "## 4. Assessing model performance\n"
   ]
  },
  {
   "cell_type": "markdown",
   "metadata": {},
   "source": [
    "### Descriptive analysis - confusion matrix and related metrics\n",
    "\n",
    "❗ Remember class indicator (0, 1,...) and actual or predicted values may be switched in confusion matrix\n",
    "\n",
    "<img src=\"https://miro.medium.com/max/712/1*Z54JgbS4DUwWSknhDCvNTQ.png\" width=400>\n",
    "\n",
    "<img src=\"https://miro.medium.com/max/1780/1*LQ1YMKBlbDhH9K6Ujz8QTw.jpeg\"  width=400>\n",
    "\n",
    "**Performance measures derived from confusion matrix:**\n",
    "\n",
    "- Accuracy - percentage of correct predictions\n",
    "\n",
    "`ACC = (TP + TN)/(TP + FP + TN + FN)`\n",
    "\n",
    "- Precision - percentage of positive predictions which were actually correct\n",
    "\n",
    "`PREC = TP / (TP + FP)`\n",
    "\n",
    "-  Recall - what percentage of actual positives were predicted correctly\n",
    " (Recall = Sensitivity = Hit rate = True Positive Rate (TPR))\n",
    " \n",
    "`REC = TP / (TP + FN)`\n",
    "\n",
    "- Specificity - what percentage of actual negatives were predicted correctly (Specificity = True Negative Rate)\n",
    "\n",
    "`TNR = TN / (TN + FP)`\n",
    "\n",
    "- F1 Score - traditional F-measure or balanced F-score (F1 score) is the harmonic mean of precision and recall\n",
    "\n",
    "![](https://wikimedia.org/api/rest_v1/media/math/render/svg/1bf179c30b00db201ce1895d88fe2915d58e6bfd)"
   ]
  },
  {
   "cell_type": "markdown",
   "metadata": {},
   "source": [
    "Calculating confusion matrices for prediction on train and test data as well as random and wizard models with a 0.5 cut-off threshold:"
   ]
  },
  {
   "cell_type": "code",
   "execution_count": 16,
   "metadata": {},
   "outputs": [
    {
     "data": {
      "text/plain": [
       "2×2 Named Matrix{Int64}\n",
       "Dim1 ╲ Dim2 │   0    1\n",
       "────────────┼─────────\n",
       "false       │ 230   26\n",
       "true        │  39  188"
      ]
     },
     "execution_count": 16,
     "metadata": {},
     "output_type": "execute_result"
    }
   ],
   "source": [
    "conf_mat_train = freqtable(train_pred .> 0.5, train_dataset.class)"
   ]
  },
  {
   "cell_type": "code",
   "execution_count": 17,
   "metadata": {},
   "outputs": [
    {
     "data": {
      "text/plain": [
       "2×2 Named Matrix{Int64}\n",
       "Dim1 ╲ Dim2 │  0   1\n",
       "────────────┼───────\n",
       "false       │ 99   6\n",
       "true        │ 15  87"
      ]
     },
     "execution_count": 17,
     "metadata": {},
     "output_type": "execute_result"
    }
   ],
   "source": [
    "conf_mat_test = freqtable(test_pred .> 0.5, test_dataset.class)"
   ]
  },
  {
   "cell_type": "code",
   "execution_count": 18,
   "metadata": {},
   "outputs": [
    {
     "data": {
      "text/plain": [
       "2×2 Named Matrix{Int64}\n",
       "Dim1 ╲ Dim2 │   0    1\n",
       "────────────┼─────────\n",
       "false       │ 114    0\n",
       "true        │   0   93"
      ]
     },
     "execution_count": 18,
     "metadata": {},
     "output_type": "execute_result"
    }
   ],
   "source": [
    "conf_mat_ideal = freqtable(ideal_pred .> 0.5, test_dataset.class)"
   ]
  },
  {
   "cell_type": "code",
   "execution_count": 19,
   "metadata": {},
   "outputs": [
    {
     "data": {
      "text/plain": [
       "2×2 Named Matrix{Int64}\n",
       "Dim1 ╲ Dim2 │  0   1\n",
       "────────────┼───────\n",
       "false       │ 53  42\n",
       "true        │ 61  51"
      ]
     },
     "execution_count": 19,
     "metadata": {},
     "output_type": "execute_result"
    }
   ],
   "source": [
    "conf_mat_random = freqtable(random_pred .> 0.5, test_dataset.class)"
   ]
  },
  {
   "cell_type": "markdown",
   "metadata": {},
   "source": [
    "Writing a function to calculate accuracy, precision, recall and f1-score:"
   ]
  },
  {
   "cell_type": "code",
   "execution_count": 20,
   "metadata": {},
   "outputs": [
    {
     "data": {
      "text/plain": [
       "quality_report (generic function with 1 method)"
      ]
     },
     "execution_count": 20,
     "metadata": {},
     "output_type": "execute_result"
    }
   ],
   "source": [
    "function quality_report(mat::AbstractMatrix)\n",
    "    acc = (mat[1,1] + mat[2,2]) / sum(mat)\n",
    "    prec = mat[2,2] / sum(mat[2,:])\n",
    "    rec = mat[2,2] / sum(mat[:,2])\n",
    "    f1 = 2 * prec * rec / (prec + rec)\n",
    "    println(\"----Classification quality report----\")\n",
    "    println(\"Accuracy: \", round(acc*100,digits=2), \"%\")\n",
    "    println(\"Precision: \", round(prec*100,digits=2), \"%\")\n",
    "    println(\"Recall: \", round(rec*100,digits=2), \"%\")\n",
    "    println(\"F1-score: \", round(f1*100,digits=2), \"%\")\n",
    "end"
   ]
  },
  {
   "cell_type": "markdown",
   "metadata": {},
   "source": [
    "Printing the reports for both datasets, as well as wizard and random models. Results are quite close similar to what we have seen on ROC curves:"
   ]
  },
  {
   "cell_type": "code",
   "execution_count": 21,
   "metadata": {},
   "outputs": [
    {
     "name": "stdout",
     "output_type": "stream",
     "text": [
      "Train set\n",
      "----Classification quality report----\n",
      "Accuracy: 86.54%\n",
      "Precision: 82.82%\n",
      "Recall: 87.85%\n",
      "F1-score: 85.26%\n",
      "\n",
      "Test set\n",
      "----Classification quality report----\n",
      "Accuracy: 89.86%\n",
      "Precision: 85.29%\n",
      "Recall: 93.55%\n",
      "F1-score: 89.23%\n",
      "\n",
      "Wizard model:\n",
      "----Classification quality report----\n",
      "Accuracy: 100.0%\n",
      "Precision: 100.0%\n",
      "Recall: 100.0%\n",
      "F1-score: 100.0%\n",
      "\n",
      "Random model:\n",
      "----Classification quality report----\n",
      "Accuracy: 50.24%\n",
      "Precision: 45.54%\n",
      "Recall: 54.84%\n",
      "F1-score: 49.76%\n"
     ]
    }
   ],
   "source": [
    "println(\"Train set\")\n",
    "quality_report(conf_mat_train)\n",
    "println(\"\\nTest set\")\n",
    "quality_report(conf_mat_test)\n",
    "println(\"\\nWizard model:\")\n",
    "quality_report(conf_mat_ideal)\n",
    "println(\"\\nRandom model:\")\n",
    "quality_report(conf_mat_random)"
   ]
  },
  {
   "cell_type": "markdown",
   "metadata": {},
   "source": [
    "### Visual analysis of a model"
   ]
  },
  {
   "cell_type": "markdown",
   "metadata": {},
   "source": [
    "#### ROC curve"
   ]
  },
  {
   "cell_type": "markdown",
   "metadata": {},
   "source": [
    "Calculating and plotting ROC curves for both training and test datasets as well as for wizard and random models:"
   ]
  },
  {
   "cell_type": "code",
   "execution_count": 22,
   "metadata": {},
   "outputs": [
    {
     "data": {
      "image/svg+xml": [
       "<?xml version=\"1.0\" encoding=\"utf-8\"?>\n",
       "<svg xmlns=\"http://www.w3.org/2000/svg\" xmlns:xlink=\"http://www.w3.org/1999/xlink\" width=\"600\" height=\"400\" viewBox=\"0 0 2400 1600\">\n",
       "<defs>\n",
       "  <clipPath id=\"clip960\">\n",
       "    <rect x=\"0\" y=\"0\" width=\"2400\" height=\"1600\"/>\n",
       "  </clipPath>\n",
       "</defs>\n",
       "<path clip-path=\"url(#clip960)\" d=\"M0 1600 L2400 1600 L2400 0 L0 0  Z\" fill=\"#ffffff\" fill-rule=\"evenodd\" fill-opacity=\"1\"/>\n",
       "<defs>\n",
       "  <clipPath id=\"clip961\">\n",
       "    <rect x=\"480\" y=\"0\" width=\"1681\" height=\"1600\"/>\n",
       "  </clipPath>\n",
       "</defs>\n",
       "<path clip-path=\"url(#clip960)\" d=\"M249.542 1423.18 L2352.76 1423.18 L2352.76 123.472 L249.542 123.472  Z\" fill=\"#ffffff\" fill-rule=\"evenodd\" fill-opacity=\"1\"/>\n",
       "<defs>\n",
       "  <clipPath id=\"clip962\">\n",
       "    <rect x=\"249\" y=\"123\" width=\"2104\" height=\"1301\"/>\n",
       "  </clipPath>\n",
       "</defs>\n",
       "<polyline clip-path=\"url(#clip962)\" style=\"stroke:#000000; stroke-linecap:round; stroke-linejoin:round; stroke-width:2; stroke-opacity:0.1; fill:none\" points=\"309.067,1423.18 309.067,123.472 \"/>\n",
       "<polyline clip-path=\"url(#clip962)\" style=\"stroke:#000000; stroke-linecap:round; stroke-linejoin:round; stroke-width:2; stroke-opacity:0.1; fill:none\" points=\"805.108,1423.18 805.108,123.472 \"/>\n",
       "<polyline clip-path=\"url(#clip962)\" style=\"stroke:#000000; stroke-linecap:round; stroke-linejoin:round; stroke-width:2; stroke-opacity:0.1; fill:none\" points=\"1301.15,1423.18 1301.15,123.472 \"/>\n",
       "<polyline clip-path=\"url(#clip962)\" style=\"stroke:#000000; stroke-linecap:round; stroke-linejoin:round; stroke-width:2; stroke-opacity:0.1; fill:none\" points=\"1797.19,1423.18 1797.19,123.472 \"/>\n",
       "<polyline clip-path=\"url(#clip962)\" style=\"stroke:#000000; stroke-linecap:round; stroke-linejoin:round; stroke-width:2; stroke-opacity:0.1; fill:none\" points=\"2293.23,1423.18 2293.23,123.472 \"/>\n",
       "<polyline clip-path=\"url(#clip960)\" style=\"stroke:#000000; stroke-linecap:round; stroke-linejoin:round; stroke-width:4; stroke-opacity:1; fill:none\" points=\"249.542,1423.18 2352.76,1423.18 \"/>\n",
       "<polyline clip-path=\"url(#clip960)\" style=\"stroke:#000000; stroke-linecap:round; stroke-linejoin:round; stroke-width:4; stroke-opacity:1; fill:none\" points=\"309.067,1423.18 309.067,1404.28 \"/>\n",
       "<polyline clip-path=\"url(#clip960)\" style=\"stroke:#000000; stroke-linecap:round; stroke-linejoin:round; stroke-width:4; stroke-opacity:1; fill:none\" points=\"805.108,1423.18 805.108,1404.28 \"/>\n",
       "<polyline clip-path=\"url(#clip960)\" style=\"stroke:#000000; stroke-linecap:round; stroke-linejoin:round; stroke-width:4; stroke-opacity:1; fill:none\" points=\"1301.15,1423.18 1301.15,1404.28 \"/>\n",
       "<polyline clip-path=\"url(#clip960)\" style=\"stroke:#000000; stroke-linecap:round; stroke-linejoin:round; stroke-width:4; stroke-opacity:1; fill:none\" points=\"1797.19,1423.18 1797.19,1404.28 \"/>\n",
       "<polyline clip-path=\"url(#clip960)\" style=\"stroke:#000000; stroke-linecap:round; stroke-linejoin:round; stroke-width:4; stroke-opacity:1; fill:none\" points=\"2293.23,1423.18 2293.23,1404.28 \"/>\n",
       "<path clip-path=\"url(#clip960)\" d=\"M271.37 1454.1 Q267.759 1454.1 265.931 1457.66 Q264.125 1461.2 264.125 1468.33 Q264.125 1475.44 265.931 1479.01 Q267.759 1482.55 271.37 1482.55 Q275.005 1482.55 276.81 1479.01 Q278.639 1475.44 278.639 1468.33 Q278.639 1461.2 276.81 1457.66 Q275.005 1454.1 271.37 1454.1 M271.37 1450.39 Q277.181 1450.39 280.236 1455 Q283.315 1459.58 283.315 1468.33 Q283.315 1477.06 280.236 1481.67 Q277.181 1486.25 271.37 1486.25 Q265.56 1486.25 262.482 1481.67 Q259.426 1477.06 259.426 1468.33 Q259.426 1459.58 262.482 1455 Q265.56 1450.39 271.37 1450.39 Z\" fill=\"#000000\" fill-rule=\"nonzero\" fill-opacity=\"1\" /><path clip-path=\"url(#clip960)\" d=\"M291.532 1479.7 L296.417 1479.7 L296.417 1485.58 L291.532 1485.58 L291.532 1479.7 Z\" fill=\"#000000\" fill-rule=\"nonzero\" fill-opacity=\"1\" /><path clip-path=\"url(#clip960)\" d=\"M316.602 1454.1 Q312.991 1454.1 311.162 1457.66 Q309.356 1461.2 309.356 1468.33 Q309.356 1475.44 311.162 1479.01 Q312.991 1482.55 316.602 1482.55 Q320.236 1482.55 322.041 1479.01 Q323.87 1475.44 323.87 1468.33 Q323.87 1461.2 322.041 1457.66 Q320.236 1454.1 316.602 1454.1 M316.602 1450.39 Q322.412 1450.39 325.467 1455 Q328.546 1459.58 328.546 1468.33 Q328.546 1477.06 325.467 1481.67 Q322.412 1486.25 316.602 1486.25 Q310.791 1486.25 307.713 1481.67 Q304.657 1477.06 304.657 1468.33 Q304.657 1459.58 307.713 1455 Q310.791 1450.39 316.602 1450.39 Z\" fill=\"#000000\" fill-rule=\"nonzero\" fill-opacity=\"1\" /><path clip-path=\"url(#clip960)\" d=\"M346.764 1454.1 Q343.152 1454.1 341.324 1457.66 Q339.518 1461.2 339.518 1468.33 Q339.518 1475.44 341.324 1479.01 Q343.152 1482.55 346.764 1482.55 Q350.398 1482.55 352.203 1479.01 Q354.032 1475.44 354.032 1468.33 Q354.032 1461.2 352.203 1457.66 Q350.398 1454.1 346.764 1454.1 M346.764 1450.39 Q352.574 1450.39 355.629 1455 Q358.708 1459.58 358.708 1468.33 Q358.708 1477.06 355.629 1481.67 Q352.574 1486.25 346.764 1486.25 Q340.953 1486.25 337.875 1481.67 Q334.819 1477.06 334.819 1468.33 Q334.819 1459.58 337.875 1455 Q340.953 1450.39 346.764 1450.39 Z\" fill=\"#000000\" fill-rule=\"nonzero\" fill-opacity=\"1\" /><path clip-path=\"url(#clip960)\" d=\"M767.909 1454.1 Q764.298 1454.1 762.469 1457.66 Q760.664 1461.2 760.664 1468.33 Q760.664 1475.44 762.469 1479.01 Q764.298 1482.55 767.909 1482.55 Q771.543 1482.55 773.349 1479.01 Q775.178 1475.44 775.178 1468.33 Q775.178 1461.2 773.349 1457.66 Q771.543 1454.1 767.909 1454.1 M767.909 1450.39 Q773.719 1450.39 776.775 1455 Q779.853 1459.58 779.853 1468.33 Q779.853 1477.06 776.775 1481.67 Q773.719 1486.25 767.909 1486.25 Q762.099 1486.25 759.02 1481.67 Q755.965 1477.06 755.965 1468.33 Q755.965 1459.58 759.02 1455 Q762.099 1450.39 767.909 1450.39 Z\" fill=\"#000000\" fill-rule=\"nonzero\" fill-opacity=\"1\" /><path clip-path=\"url(#clip960)\" d=\"M788.071 1479.7 L792.955 1479.7 L792.955 1485.58 L788.071 1485.58 L788.071 1479.7 Z\" fill=\"#000000\" fill-rule=\"nonzero\" fill-opacity=\"1\" /><path clip-path=\"url(#clip960)\" d=\"M807.168 1481.64 L823.487 1481.64 L823.487 1485.58 L801.543 1485.58 L801.543 1481.64 Q804.205 1478.89 808.788 1474.26 Q813.395 1469.61 814.576 1468.27 Q816.821 1465.74 817.7 1464.01 Q818.603 1462.25 818.603 1460.56 Q818.603 1457.8 816.659 1456.07 Q814.738 1454.33 811.636 1454.33 Q809.437 1454.33 806.983 1455.09 Q804.552 1455.86 801.775 1457.41 L801.775 1452.69 Q804.599 1451.55 807.052 1450.97 Q809.506 1450.39 811.543 1450.39 Q816.913 1450.39 820.108 1453.08 Q823.302 1455.77 823.302 1460.26 Q823.302 1462.39 822.492 1464.31 Q821.705 1466.2 819.599 1468.8 Q819.02 1469.47 815.918 1472.69 Q812.816 1475.88 807.168 1481.64 Z\" fill=\"#000000\" fill-rule=\"nonzero\" fill-opacity=\"1\" /><path clip-path=\"url(#clip960)\" d=\"M833.349 1451.02 L851.705 1451.02 L851.705 1454.96 L837.631 1454.96 L837.631 1463.43 Q838.649 1463.08 839.668 1462.92 Q840.686 1462.73 841.705 1462.73 Q847.492 1462.73 850.872 1465.9 Q854.251 1469.08 854.251 1474.49 Q854.251 1480.07 850.779 1483.17 Q847.307 1486.25 840.987 1486.25 Q838.811 1486.25 836.543 1485.88 Q834.298 1485.51 831.89 1484.77 L831.89 1480.07 Q833.974 1481.2 836.196 1481.76 Q838.418 1482.32 840.895 1482.32 Q844.899 1482.32 847.237 1480.21 Q849.575 1478.1 849.575 1474.49 Q849.575 1470.88 847.237 1468.77 Q844.899 1466.67 840.895 1466.67 Q839.02 1466.67 837.145 1467.08 Q835.293 1467.5 833.349 1468.38 L833.349 1451.02 Z\" fill=\"#000000\" fill-rule=\"nonzero\" fill-opacity=\"1\" /><path clip-path=\"url(#clip960)\" d=\"M1263.45 1454.1 Q1259.84 1454.1 1258.01 1457.66 Q1256.21 1461.2 1256.21 1468.33 Q1256.21 1475.44 1258.01 1479.01 Q1259.84 1482.55 1263.45 1482.55 Q1267.09 1482.55 1268.89 1479.01 Q1270.72 1475.44 1270.72 1468.33 Q1270.72 1461.2 1268.89 1457.66 Q1267.09 1454.1 1263.45 1454.1 M1263.45 1450.39 Q1269.26 1450.39 1272.32 1455 Q1275.4 1459.58 1275.4 1468.33 Q1275.4 1477.06 1272.32 1481.67 Q1269.26 1486.25 1263.45 1486.25 Q1257.64 1486.25 1254.56 1481.67 Q1251.51 1477.06 1251.51 1468.33 Q1251.51 1459.58 1254.56 1455 Q1257.64 1450.39 1263.45 1450.39 Z\" fill=\"#000000\" fill-rule=\"nonzero\" fill-opacity=\"1\" /><path clip-path=\"url(#clip960)\" d=\"M1283.61 1479.7 L1288.5 1479.7 L1288.5 1485.58 L1283.61 1485.58 L1283.61 1479.7 Z\" fill=\"#000000\" fill-rule=\"nonzero\" fill-opacity=\"1\" /><path clip-path=\"url(#clip960)\" d=\"M1298.73 1451.02 L1317.09 1451.02 L1317.09 1454.96 L1303.01 1454.96 L1303.01 1463.43 Q1304.03 1463.08 1305.05 1462.92 Q1306.07 1462.73 1307.09 1462.73 Q1312.87 1462.73 1316.25 1465.9 Q1319.63 1469.08 1319.63 1474.49 Q1319.63 1480.07 1316.16 1483.17 Q1312.69 1486.25 1306.37 1486.25 Q1304.19 1486.25 1301.92 1485.88 Q1299.68 1485.51 1297.27 1484.77 L1297.27 1480.07 Q1299.35 1481.2 1301.58 1481.76 Q1303.8 1482.32 1306.28 1482.32 Q1310.28 1482.32 1312.62 1480.21 Q1314.96 1478.1 1314.96 1474.49 Q1314.96 1470.88 1312.62 1468.77 Q1310.28 1466.67 1306.28 1466.67 Q1304.4 1466.67 1302.53 1467.08 Q1300.67 1467.5 1298.73 1468.38 L1298.73 1451.02 Z\" fill=\"#000000\" fill-rule=\"nonzero\" fill-opacity=\"1\" /><path clip-path=\"url(#clip960)\" d=\"M1338.85 1454.1 Q1335.23 1454.1 1333.41 1457.66 Q1331.6 1461.2 1331.6 1468.33 Q1331.6 1475.44 1333.41 1479.01 Q1335.23 1482.55 1338.85 1482.55 Q1342.48 1482.55 1344.29 1479.01 Q1346.11 1475.44 1346.11 1468.33 Q1346.11 1461.2 1344.29 1457.66 Q1342.48 1454.1 1338.85 1454.1 M1338.85 1450.39 Q1344.66 1450.39 1347.71 1455 Q1350.79 1459.58 1350.79 1468.33 Q1350.79 1477.06 1347.71 1481.67 Q1344.66 1486.25 1338.85 1486.25 Q1333.04 1486.25 1329.96 1481.67 Q1326.9 1477.06 1326.9 1468.33 Q1326.9 1459.58 1329.96 1455 Q1333.04 1450.39 1338.85 1450.39 Z\" fill=\"#000000\" fill-rule=\"nonzero\" fill-opacity=\"1\" /><path clip-path=\"url(#clip960)\" d=\"M1759.99 1454.1 Q1756.38 1454.1 1754.55 1457.66 Q1752.75 1461.2 1752.75 1468.33 Q1752.75 1475.44 1754.55 1479.01 Q1756.38 1482.55 1759.99 1482.55 Q1763.63 1482.55 1765.43 1479.01 Q1767.26 1475.44 1767.26 1468.33 Q1767.26 1461.2 1765.43 1457.66 Q1763.63 1454.1 1759.99 1454.1 M1759.99 1450.39 Q1765.8 1450.39 1768.86 1455 Q1771.94 1459.58 1771.94 1468.33 Q1771.94 1477.06 1768.86 1481.67 Q1765.8 1486.25 1759.99 1486.25 Q1754.18 1486.25 1751.1 1481.67 Q1748.05 1477.06 1748.05 1468.33 Q1748.05 1459.58 1751.1 1455 Q1754.18 1450.39 1759.99 1450.39 Z\" fill=\"#000000\" fill-rule=\"nonzero\" fill-opacity=\"1\" /><path clip-path=\"url(#clip960)\" d=\"M1780.15 1479.7 L1785.04 1479.7 L1785.04 1485.58 L1780.15 1485.58 L1780.15 1479.7 Z\" fill=\"#000000\" fill-rule=\"nonzero\" fill-opacity=\"1\" /><path clip-path=\"url(#clip960)\" d=\"M1794.04 1451.02 L1816.26 1451.02 L1816.26 1453.01 L1803.72 1485.58 L1798.83 1485.58 L1810.64 1454.96 L1794.04 1454.96 L1794.04 1451.02 Z\" fill=\"#000000\" fill-rule=\"nonzero\" fill-opacity=\"1\" /><path clip-path=\"url(#clip960)\" d=\"M1825.43 1451.02 L1843.79 1451.02 L1843.79 1454.96 L1829.71 1454.96 L1829.71 1463.43 Q1830.73 1463.08 1831.75 1462.92 Q1832.77 1462.73 1833.79 1462.73 Q1839.57 1462.73 1842.95 1465.9 Q1846.33 1469.08 1846.33 1474.49 Q1846.33 1480.07 1842.86 1483.17 Q1839.39 1486.25 1833.07 1486.25 Q1830.89 1486.25 1828.62 1485.88 Q1826.38 1485.51 1823.97 1484.77 L1823.97 1480.07 Q1826.06 1481.2 1828.28 1481.76 Q1830.5 1482.32 1832.98 1482.32 Q1836.98 1482.32 1839.32 1480.21 Q1841.66 1478.1 1841.66 1474.49 Q1841.66 1470.88 1839.32 1468.77 Q1836.98 1466.67 1832.98 1466.67 Q1831.1 1466.67 1829.23 1467.08 Q1827.38 1467.5 1825.43 1468.38 L1825.43 1451.02 Z\" fill=\"#000000\" fill-rule=\"nonzero\" fill-opacity=\"1\" /><path clip-path=\"url(#clip960)\" d=\"M2245.3 1481.64 L2252.94 1481.64 L2252.94 1455.28 L2244.63 1456.95 L2244.63 1452.69 L2252.9 1451.02 L2257.57 1451.02 L2257.57 1481.64 L2265.21 1481.64 L2265.21 1485.58 L2245.3 1485.58 L2245.3 1481.64 Z\" fill=\"#000000\" fill-rule=\"nonzero\" fill-opacity=\"1\" /><path clip-path=\"url(#clip960)\" d=\"M2274.65 1479.7 L2279.54 1479.7 L2279.54 1485.58 L2274.65 1485.58 L2274.65 1479.7 Z\" fill=\"#000000\" fill-rule=\"nonzero\" fill-opacity=\"1\" /><path clip-path=\"url(#clip960)\" d=\"M2299.72 1454.1 Q2296.11 1454.1 2294.28 1457.66 Q2292.48 1461.2 2292.48 1468.33 Q2292.48 1475.44 2294.28 1479.01 Q2296.11 1482.55 2299.72 1482.55 Q2303.36 1482.55 2305.16 1479.01 Q2306.99 1475.44 2306.99 1468.33 Q2306.99 1461.2 2305.16 1457.66 Q2303.36 1454.1 2299.72 1454.1 M2299.72 1450.39 Q2305.53 1450.39 2308.59 1455 Q2311.67 1459.58 2311.67 1468.33 Q2311.67 1477.06 2308.59 1481.67 Q2305.53 1486.25 2299.72 1486.25 Q2293.91 1486.25 2290.84 1481.67 Q2287.78 1477.06 2287.78 1468.33 Q2287.78 1459.58 2290.84 1455 Q2293.91 1450.39 2299.72 1450.39 Z\" fill=\"#000000\" fill-rule=\"nonzero\" fill-opacity=\"1\" /><path clip-path=\"url(#clip960)\" d=\"M2329.89 1454.1 Q2326.27 1454.1 2324.45 1457.66 Q2322.64 1461.2 2322.64 1468.33 Q2322.64 1475.44 2324.45 1479.01 Q2326.27 1482.55 2329.89 1482.55 Q2333.52 1482.55 2335.33 1479.01 Q2337.15 1475.44 2337.15 1468.33 Q2337.15 1461.2 2335.33 1457.66 Q2333.52 1454.1 2329.89 1454.1 M2329.89 1450.39 Q2335.7 1450.39 2338.75 1455 Q2341.83 1459.58 2341.83 1468.33 Q2341.83 1477.06 2338.75 1481.67 Q2335.7 1486.25 2329.89 1486.25 Q2324.08 1486.25 2321 1481.67 Q2317.94 1477.06 2317.94 1468.33 Q2317.94 1459.58 2321 1455 Q2324.08 1450.39 2329.89 1450.39 Z\" fill=\"#000000\" fill-rule=\"nonzero\" fill-opacity=\"1\" /><path clip-path=\"url(#clip960)\" d=\"M907.398 1520.52 L934.707 1520.52 L934.707 1525.93 L913.828 1525.93 L913.828 1539.94 L932.67 1539.94 L932.67 1545.35 L913.828 1545.35 L913.828 1568.04 L907.398 1568.04 L907.398 1520.52 Z\" fill=\"#000000\" fill-rule=\"nonzero\" fill-opacity=\"1\" /><path clip-path=\"url(#clip960)\" d=\"M954.855 1550.12 Q947.757 1550.12 945.02 1551.75 Q942.282 1553.37 942.282 1557.29 Q942.282 1560.4 944.319 1562.25 Q946.388 1564.07 949.921 1564.07 Q954.791 1564.07 957.719 1560.63 Q960.679 1557.16 960.679 1551.43 L960.679 1550.12 L954.855 1550.12 M966.536 1547.71 L966.536 1568.04 L960.679 1568.04 L960.679 1562.63 Q958.674 1565.88 955.682 1567.44 Q952.69 1568.97 948.362 1568.97 Q942.887 1568.97 939.64 1565.91 Q936.426 1562.82 936.426 1557.67 Q936.426 1551.65 940.436 1548.6 Q944.478 1545.54 952.467 1545.54 L960.679 1545.54 L960.679 1544.97 Q960.679 1540.93 958.006 1538.73 Q955.364 1536.5 950.558 1536.5 Q947.502 1536.5 944.606 1537.23 Q941.709 1537.97 939.036 1539.43 L939.036 1534.02 Q942.25 1532.78 945.274 1532.17 Q948.298 1531.54 951.162 1531.54 Q958.897 1531.54 962.716 1535.55 Q966.536 1539.56 966.536 1547.71 Z\" fill=\"#000000\" fill-rule=\"nonzero\" fill-opacity=\"1\" /><path clip-path=\"url(#clip960)\" d=\"M978.599 1518.52 L984.455 1518.52 L984.455 1568.04 L978.599 1568.04 L978.599 1518.52 Z\" fill=\"#000000\" fill-rule=\"nonzero\" fill-opacity=\"1\" /><path clip-path=\"url(#clip960)\" d=\"M1019.43 1533.45 L1019.43 1538.98 Q1016.95 1537.71 1014.28 1537.07 Q1011.6 1536.44 1008.74 1536.44 Q1004.38 1536.44 1002.18 1537.77 Q1000.02 1539.11 1000.02 1541.79 Q1000.02 1543.82 1001.58 1545 Q1003.14 1546.15 1007.85 1547.2 L1009.85 1547.64 Q1016.09 1548.98 1018.7 1551.43 Q1021.34 1553.85 1021.34 1558.21 Q1021.34 1563.17 1017.4 1566.07 Q1013.48 1568.97 1006.61 1568.97 Q1003.74 1568.97 1000.62 1568.39 Q997.537 1567.85 994.099 1566.74 L994.099 1560.69 Q997.346 1562.38 1000.5 1563.24 Q1003.65 1564.07 1006.74 1564.07 Q1010.87 1564.07 1013.1 1562.66 Q1015.33 1561.23 1015.33 1558.65 Q1015.33 1556.27 1013.71 1554.99 Q1012.11 1553.72 1006.67 1552.54 L1004.63 1552.07 Q999.192 1550.92 996.773 1548.56 Q994.354 1546.18 994.354 1542.04 Q994.354 1537.01 997.919 1534.27 Q1001.48 1531.54 1008.04 1531.54 Q1011.29 1531.54 1014.15 1532.01 Q1017.02 1532.49 1019.43 1533.45 Z\" fill=\"#000000\" fill-rule=\"nonzero\" fill-opacity=\"1\" /><path clip-path=\"url(#clip960)\" d=\"M1061.16 1548.76 L1061.16 1551.62 L1034.23 1551.62 Q1034.62 1557.67 1037.86 1560.85 Q1041.14 1564 1046.97 1564 Q1050.34 1564 1053.49 1563.17 Q1056.67 1562.35 1059.79 1560.69 L1059.79 1566.23 Q1056.64 1567.57 1053.33 1568.27 Q1050.02 1568.97 1046.62 1568.97 Q1038.09 1568.97 1033.09 1564 Q1028.12 1559.04 1028.12 1550.57 Q1028.12 1541.82 1032.83 1536.69 Q1037.58 1531.54 1045.6 1531.54 Q1052.79 1531.54 1056.96 1536.18 Q1061.16 1540.8 1061.16 1548.76 M1055.31 1547.04 Q1055.24 1542.23 1052.6 1539.37 Q1049.99 1536.5 1045.66 1536.5 Q1040.76 1536.5 1037.8 1539.27 Q1034.87 1542.04 1034.43 1547.07 L1055.31 1547.04 Z\" fill=\"#000000\" fill-rule=\"nonzero\" fill-opacity=\"1\" /><path clip-path=\"url(#clip960)\" d=\"M1098.18 1525.81 L1098.18 1543.66 L1106.26 1543.66 Q1110.75 1543.66 1113.2 1541.34 Q1115.65 1539.02 1115.65 1534.72 Q1115.65 1530.45 1113.2 1528.13 Q1110.75 1525.81 1106.26 1525.81 L1098.18 1525.81 M1091.75 1520.52 L1106.26 1520.52 Q1114.25 1520.52 1118.33 1524.15 Q1122.43 1527.75 1122.43 1534.72 Q1122.43 1541.75 1118.33 1545.35 Q1114.25 1548.95 1106.26 1548.95 L1098.18 1548.95 L1098.18 1568.04 L1091.75 1568.04 L1091.75 1520.52 Z\" fill=\"#000000\" fill-rule=\"nonzero\" fill-opacity=\"1\" /><path clip-path=\"url(#clip960)\" d=\"M1142.29 1536.5 Q1137.58 1536.5 1134.84 1540.19 Q1132.11 1543.85 1132.11 1550.25 Q1132.11 1556.65 1134.81 1560.34 Q1137.55 1564 1142.29 1564 Q1146.97 1564 1149.71 1560.31 Q1152.45 1556.62 1152.45 1550.25 Q1152.45 1543.92 1149.71 1540.23 Q1146.97 1536.5 1142.29 1536.5 M1142.29 1531.54 Q1149.93 1531.54 1154.29 1536.5 Q1158.65 1541.47 1158.65 1550.25 Q1158.65 1559 1154.29 1564 Q1149.93 1568.97 1142.29 1568.97 Q1134.62 1568.97 1130.26 1564 Q1125.93 1559 1125.93 1550.25 Q1125.93 1541.47 1130.26 1536.5 Q1134.62 1531.54 1142.29 1531.54 Z\" fill=\"#000000\" fill-rule=\"nonzero\" fill-opacity=\"1\" /><path clip-path=\"url(#clip960)\" d=\"M1191.09 1533.45 L1191.09 1538.98 Q1188.6 1537.71 1185.93 1537.07 Q1183.26 1536.44 1180.39 1536.44 Q1176.03 1536.44 1173.83 1537.77 Q1171.67 1539.11 1171.67 1541.79 Q1171.67 1543.82 1173.23 1545 Q1174.79 1546.15 1179.5 1547.2 L1181.51 1547.64 Q1187.74 1548.98 1190.35 1551.43 Q1193 1553.85 1193 1558.21 Q1193 1563.17 1189.05 1566.07 Q1185.13 1568.97 1178.26 1568.97 Q1175.39 1568.97 1172.28 1568.39 Q1169.19 1567.85 1165.75 1566.74 L1165.75 1560.69 Q1169 1562.38 1172.15 1563.24 Q1175.3 1564.07 1178.39 1564.07 Q1182.52 1564.07 1184.75 1562.66 Q1186.98 1561.23 1186.98 1558.65 Q1186.98 1556.27 1185.36 1554.99 Q1183.77 1553.72 1178.32 1552.54 L1176.29 1552.07 Q1170.84 1550.92 1168.42 1548.56 Q1166.01 1546.18 1166.01 1542.04 Q1166.01 1537.01 1169.57 1534.27 Q1173.13 1531.54 1179.69 1531.54 Q1182.94 1531.54 1185.8 1532.01 Q1188.67 1532.49 1191.09 1533.45 Z\" fill=\"#000000\" fill-rule=\"nonzero\" fill-opacity=\"1\" /><path clip-path=\"url(#clip960)\" d=\"M1202.32 1532.4 L1208.18 1532.4 L1208.18 1568.04 L1202.32 1568.04 L1202.32 1532.4 M1202.32 1518.52 L1208.18 1518.52 L1208.18 1525.93 L1202.32 1525.93 L1202.32 1518.52 Z\" fill=\"#000000\" fill-rule=\"nonzero\" fill-opacity=\"1\" /><path clip-path=\"url(#clip960)\" d=\"M1226.22 1522.27 L1226.22 1532.4 L1238.29 1532.4 L1238.29 1536.95 L1226.22 1536.95 L1226.22 1556.3 Q1226.22 1560.66 1227.4 1561.9 Q1228.61 1563.14 1232.27 1563.14 L1238.29 1563.14 L1238.29 1568.04 L1232.27 1568.04 Q1225.49 1568.04 1222.91 1565.53 Q1220.34 1562.98 1220.34 1556.3 L1220.34 1536.95 L1216.04 1536.95 L1216.04 1532.4 L1220.34 1532.4 L1220.34 1522.27 L1226.22 1522.27 Z\" fill=\"#000000\" fill-rule=\"nonzero\" fill-opacity=\"1\" /><path clip-path=\"url(#clip960)\" d=\"M1245.99 1532.4 L1251.85 1532.4 L1251.85 1568.04 L1245.99 1568.04 L1245.99 1532.4 M1245.99 1518.52 L1251.85 1518.52 L1251.85 1525.93 L1245.99 1525.93 L1245.99 1518.52 Z\" fill=\"#000000\" fill-rule=\"nonzero\" fill-opacity=\"1\" /><path clip-path=\"url(#clip960)\" d=\"M1259.9 1532.4 L1266.11 1532.4 L1277.25 1562.31 L1288.39 1532.4 L1294.59 1532.4 L1281.22 1568.04 L1273.27 1568.04 L1259.9 1532.4 Z\" fill=\"#000000\" fill-rule=\"nonzero\" fill-opacity=\"1\" /><path clip-path=\"url(#clip960)\" d=\"M1333.17 1548.76 L1333.17 1551.62 L1306.24 1551.62 Q1306.62 1557.67 1309.87 1560.85 Q1313.15 1564 1318.97 1564 Q1322.35 1564 1325.5 1563.17 Q1328.68 1562.35 1331.8 1560.69 L1331.8 1566.23 Q1328.65 1567.57 1325.34 1568.27 Q1322.03 1568.97 1318.62 1568.97 Q1310.09 1568.97 1305.1 1564 Q1300.13 1559.04 1300.13 1550.57 Q1300.13 1541.82 1304.84 1536.69 Q1309.58 1531.54 1317.6 1531.54 Q1324.8 1531.54 1328.97 1536.18 Q1333.17 1540.8 1333.17 1548.76 M1327.31 1547.04 Q1327.25 1542.23 1324.61 1539.37 Q1322 1536.5 1317.67 1536.5 Q1312.77 1536.5 1309.81 1539.27 Q1306.88 1542.04 1306.43 1547.07 L1327.31 1547.04 Z\" fill=\"#000000\" fill-rule=\"nonzero\" fill-opacity=\"1\" /><path clip-path=\"url(#clip960)\" d=\"M1386.29 1545.76 Q1388.36 1546.46 1390.3 1548.76 Q1392.27 1551.05 1394.25 1555.06 L1400.77 1568.04 L1393.87 1568.04 L1387.79 1555.85 Q1385.43 1551.08 1383.2 1549.52 Q1381.01 1547.96 1377.19 1547.96 L1370.19 1547.96 L1370.19 1568.04 L1363.76 1568.04 L1363.76 1520.52 L1378.27 1520.52 Q1386.42 1520.52 1390.43 1523.93 Q1394.44 1527.34 1394.44 1534.21 Q1394.44 1538.7 1392.34 1541.66 Q1390.27 1544.62 1386.29 1545.76 M1370.19 1525.81 L1370.19 1542.68 L1378.27 1542.68 Q1382.92 1542.68 1385.27 1540.54 Q1387.66 1538.38 1387.66 1534.21 Q1387.66 1530.04 1385.27 1527.94 Q1382.92 1525.81 1378.27 1525.81 L1370.19 1525.81 Z\" fill=\"#000000\" fill-rule=\"nonzero\" fill-opacity=\"1\" /><path clip-path=\"url(#clip960)\" d=\"M1423.56 1550.12 Q1416.46 1550.12 1413.73 1551.75 Q1410.99 1553.37 1410.99 1557.29 Q1410.99 1560.4 1413.03 1562.25 Q1415.1 1564.07 1418.63 1564.07 Q1423.5 1564.07 1426.43 1560.63 Q1429.39 1557.16 1429.39 1551.43 L1429.39 1550.12 L1423.56 1550.12 M1435.24 1547.71 L1435.24 1568.04 L1429.39 1568.04 L1429.39 1562.63 Q1427.38 1565.88 1424.39 1567.44 Q1421.4 1568.97 1417.07 1568.97 Q1411.59 1568.97 1408.35 1565.91 Q1405.13 1562.82 1405.13 1557.67 Q1405.13 1551.65 1409.14 1548.6 Q1413.19 1545.54 1421.17 1545.54 L1429.39 1545.54 L1429.39 1544.97 Q1429.39 1540.93 1426.71 1538.73 Q1424.07 1536.5 1419.26 1536.5 Q1416.21 1536.5 1413.31 1537.23 Q1410.42 1537.97 1407.74 1539.43 L1407.74 1534.02 Q1410.96 1532.78 1413.98 1532.17 Q1417 1531.54 1419.87 1531.54 Q1427.6 1531.54 1431.42 1535.55 Q1435.24 1539.56 1435.24 1547.71 Z\" fill=\"#000000\" fill-rule=\"nonzero\" fill-opacity=\"1\" /><path clip-path=\"url(#clip960)\" d=\"M1453.1 1522.27 L1453.1 1532.4 L1465.16 1532.4 L1465.16 1536.95 L1453.1 1536.95 L1453.1 1556.3 Q1453.1 1560.66 1454.28 1561.9 Q1455.49 1563.14 1459.15 1563.14 L1465.16 1563.14 L1465.16 1568.04 L1459.15 1568.04 Q1452.37 1568.04 1449.79 1565.53 Q1447.21 1562.98 1447.21 1556.3 L1447.21 1536.95 L1442.91 1536.95 L1442.91 1532.4 L1447.21 1532.4 L1447.21 1522.27 L1453.1 1522.27 Z\" fill=\"#000000\" fill-rule=\"nonzero\" fill-opacity=\"1\" /><path clip-path=\"url(#clip960)\" d=\"M1503.36 1548.76 L1503.36 1551.62 L1476.43 1551.62 Q1476.81 1557.67 1480.06 1560.85 Q1483.34 1564 1489.16 1564 Q1492.53 1564 1495.68 1563.17 Q1498.87 1562.35 1501.99 1560.69 L1501.99 1566.23 Q1498.84 1567.57 1495.53 1568.27 Q1492.22 1568.97 1488.81 1568.97 Q1480.28 1568.97 1475.28 1564 Q1470.32 1559.04 1470.32 1550.57 Q1470.32 1541.82 1475.03 1536.69 Q1479.77 1531.54 1487.79 1531.54 Q1494.98 1531.54 1499.15 1536.18 Q1503.36 1540.8 1503.36 1548.76 M1497.5 1547.04 Q1497.44 1542.23 1494.79 1539.37 Q1492.18 1536.5 1487.86 1536.5 Q1482.95 1536.5 1479.99 1539.27 Q1477.07 1542.04 1476.62 1547.07 L1497.5 1547.04 Z\" fill=\"#000000\" fill-rule=\"nonzero\" fill-opacity=\"1\" /><path clip-path=\"url(#clip960)\" d=\"M1547.76 1518.58 Q1543.49 1525.9 1541.42 1533.06 Q1539.35 1540.23 1539.35 1547.58 Q1539.35 1554.93 1541.42 1562.16 Q1543.52 1569.35 1547.76 1576.64 L1542.66 1576.64 Q1537.89 1569.16 1535.5 1561.93 Q1533.15 1554.71 1533.15 1547.58 Q1533.15 1540.48 1535.5 1533.29 Q1537.86 1526.09 1542.66 1518.58 L1547.76 1518.58 Z\" fill=\"#000000\" fill-rule=\"nonzero\" fill-opacity=\"1\" /><path clip-path=\"url(#clip960)\" d=\"M1559.37 1520.52 L1586.68 1520.52 L1586.68 1525.93 L1565.8 1525.93 L1565.8 1539.94 L1584.65 1539.94 L1584.65 1545.35 L1565.8 1545.35 L1565.8 1568.04 L1559.37 1568.04 L1559.37 1520.52 Z\" fill=\"#000000\" fill-rule=\"nonzero\" fill-opacity=\"1\" /><path clip-path=\"url(#clip960)\" d=\"M1603.3 1525.81 L1603.3 1543.66 L1611.38 1543.66 Q1615.87 1543.66 1618.32 1541.34 Q1620.77 1539.02 1620.77 1534.72 Q1620.77 1530.45 1618.32 1528.13 Q1615.87 1525.81 1611.38 1525.81 L1603.3 1525.81 M1596.87 1520.52 L1611.38 1520.52 Q1619.37 1520.52 1623.44 1524.15 Q1627.55 1527.75 1627.55 1534.72 Q1627.55 1541.75 1623.44 1545.35 Q1619.37 1548.95 1611.38 1548.95 L1603.3 1548.95 L1603.3 1568.04 L1596.87 1568.04 L1596.87 1520.52 Z\" fill=\"#000000\" fill-rule=\"nonzero\" fill-opacity=\"1\" /><path clip-path=\"url(#clip960)\" d=\"M1658.71 1545.76 Q1660.78 1546.46 1662.72 1548.76 Q1664.69 1551.05 1666.67 1555.06 L1673.19 1568.04 L1666.29 1568.04 L1660.21 1555.85 Q1657.85 1551.08 1655.62 1549.52 Q1653.43 1547.96 1649.61 1547.96 L1642.61 1547.96 L1642.61 1568.04 L1636.18 1568.04 L1636.18 1520.52 L1650.69 1520.52 Q1658.84 1520.52 1662.85 1523.93 Q1666.86 1527.34 1666.86 1534.21 Q1666.86 1538.7 1664.76 1541.66 Q1662.69 1544.62 1658.71 1545.76 M1642.61 1525.81 L1642.61 1542.68 L1650.69 1542.68 Q1655.34 1542.68 1657.69 1540.54 Q1660.08 1538.38 1660.08 1534.21 Q1660.08 1530.04 1657.69 1527.94 Q1655.34 1525.81 1650.69 1525.81 L1642.61 1525.81 Z\" fill=\"#000000\" fill-rule=\"nonzero\" fill-opacity=\"1\" /><path clip-path=\"url(#clip960)\" d=\"M1680.29 1518.58 L1685.38 1518.58 Q1690.16 1526.09 1692.51 1533.29 Q1694.9 1540.48 1694.9 1547.58 Q1694.9 1554.71 1692.51 1561.93 Q1690.16 1569.16 1685.38 1576.64 L1680.29 1576.64 Q1684.52 1569.35 1686.59 1562.16 Q1688.69 1554.93 1688.69 1547.58 Q1688.69 1540.23 1686.59 1533.06 Q1684.52 1525.9 1680.29 1518.58 Z\" fill=\"#000000\" fill-rule=\"nonzero\" fill-opacity=\"1\" /><polyline clip-path=\"url(#clip962)\" style=\"stroke:#000000; stroke-linecap:round; stroke-linejoin:round; stroke-width:2; stroke-opacity:0.1; fill:none\" points=\"249.542,1386.4 2352.76,1386.4 \"/>\n",
       "<polyline clip-path=\"url(#clip962)\" style=\"stroke:#000000; stroke-linecap:round; stroke-linejoin:round; stroke-width:2; stroke-opacity:0.1; fill:none\" points=\"249.542,1079.86 2352.76,1079.86 \"/>\n",
       "<polyline clip-path=\"url(#clip962)\" style=\"stroke:#000000; stroke-linecap:round; stroke-linejoin:round; stroke-width:2; stroke-opacity:0.1; fill:none\" points=\"249.542,773.326 2352.76,773.326 \"/>\n",
       "<polyline clip-path=\"url(#clip962)\" style=\"stroke:#000000; stroke-linecap:round; stroke-linejoin:round; stroke-width:2; stroke-opacity:0.1; fill:none\" points=\"249.542,466.791 2352.76,466.791 \"/>\n",
       "<polyline clip-path=\"url(#clip962)\" style=\"stroke:#000000; stroke-linecap:round; stroke-linejoin:round; stroke-width:2; stroke-opacity:0.1; fill:none\" points=\"249.542,160.256 2352.76,160.256 \"/>\n",
       "<polyline clip-path=\"url(#clip960)\" style=\"stroke:#000000; stroke-linecap:round; stroke-linejoin:round; stroke-width:4; stroke-opacity:1; fill:none\" points=\"249.542,1423.18 249.542,123.472 \"/>\n",
       "<polyline clip-path=\"url(#clip960)\" style=\"stroke:#000000; stroke-linecap:round; stroke-linejoin:round; stroke-width:4; stroke-opacity:1; fill:none\" points=\"249.542,1386.4 268.44,1386.4 \"/>\n",
       "<polyline clip-path=\"url(#clip960)\" style=\"stroke:#000000; stroke-linecap:round; stroke-linejoin:round; stroke-width:4; stroke-opacity:1; fill:none\" points=\"249.542,1079.86 268.44,1079.86 \"/>\n",
       "<polyline clip-path=\"url(#clip960)\" style=\"stroke:#000000; stroke-linecap:round; stroke-linejoin:round; stroke-width:4; stroke-opacity:1; fill:none\" points=\"249.542,773.326 268.44,773.326 \"/>\n",
       "<polyline clip-path=\"url(#clip960)\" style=\"stroke:#000000; stroke-linecap:round; stroke-linejoin:round; stroke-width:4; stroke-opacity:1; fill:none\" points=\"249.542,466.791 268.44,466.791 \"/>\n",
       "<polyline clip-path=\"url(#clip960)\" style=\"stroke:#000000; stroke-linecap:round; stroke-linejoin:round; stroke-width:4; stroke-opacity:1; fill:none\" points=\"249.542,160.256 268.44,160.256 \"/>\n",
       "<path clip-path=\"url(#clip960)\" d=\"M126.205 1372.19 Q122.593 1372.19 120.765 1375.76 Q118.959 1379.3 118.959 1386.43 Q118.959 1393.54 120.765 1397.1 Q122.593 1400.64 126.205 1400.64 Q129.839 1400.64 131.644 1397.1 Q133.473 1393.54 133.473 1386.43 Q133.473 1379.3 131.644 1375.76 Q129.839 1372.19 126.205 1372.19 M126.205 1368.49 Q132.015 1368.49 135.07 1373.1 Q138.149 1377.68 138.149 1386.43 Q138.149 1395.16 135.07 1399.76 Q132.015 1404.35 126.205 1404.35 Q120.394 1404.35 117.316 1399.76 Q114.26 1395.16 114.26 1386.43 Q114.26 1377.68 117.316 1373.1 Q120.394 1368.49 126.205 1368.49 Z\" fill=\"#000000\" fill-rule=\"nonzero\" fill-opacity=\"1\" /><path clip-path=\"url(#clip960)\" d=\"M146.366 1397.8 L151.251 1397.8 L151.251 1403.68 L146.366 1403.68 L146.366 1397.8 Z\" fill=\"#000000\" fill-rule=\"nonzero\" fill-opacity=\"1\" /><path clip-path=\"url(#clip960)\" d=\"M171.436 1372.19 Q167.825 1372.19 165.996 1375.76 Q164.19 1379.3 164.19 1386.43 Q164.19 1393.54 165.996 1397.1 Q167.825 1400.64 171.436 1400.64 Q175.07 1400.64 176.876 1397.1 Q178.704 1393.54 178.704 1386.43 Q178.704 1379.3 176.876 1375.76 Q175.07 1372.19 171.436 1372.19 M171.436 1368.49 Q177.246 1368.49 180.301 1373.1 Q183.38 1377.68 183.38 1386.43 Q183.38 1395.16 180.301 1399.76 Q177.246 1404.35 171.436 1404.35 Q165.626 1404.35 162.547 1399.76 Q159.491 1395.16 159.491 1386.43 Q159.491 1377.68 162.547 1373.1 Q165.626 1368.49 171.436 1368.49 Z\" fill=\"#000000\" fill-rule=\"nonzero\" fill-opacity=\"1\" /><path clip-path=\"url(#clip960)\" d=\"M201.598 1372.19 Q197.987 1372.19 196.158 1375.76 Q194.352 1379.3 194.352 1386.43 Q194.352 1393.54 196.158 1397.1 Q197.987 1400.64 201.598 1400.64 Q205.232 1400.64 207.037 1397.1 Q208.866 1393.54 208.866 1386.43 Q208.866 1379.3 207.037 1375.76 Q205.232 1372.19 201.598 1372.19 M201.598 1368.49 Q207.408 1368.49 210.463 1373.1 Q213.542 1377.68 213.542 1386.43 Q213.542 1395.16 210.463 1399.76 Q207.408 1404.35 201.598 1404.35 Q195.787 1404.35 192.709 1399.76 Q189.653 1395.16 189.653 1386.43 Q189.653 1377.68 192.709 1373.1 Q195.787 1368.49 201.598 1368.49 Z\" fill=\"#000000\" fill-rule=\"nonzero\" fill-opacity=\"1\" /><path clip-path=\"url(#clip960)\" d=\"M127.2 1065.66 Q123.589 1065.66 121.76 1069.22 Q119.955 1072.77 119.955 1079.9 Q119.955 1087 121.76 1090.57 Q123.589 1094.11 127.2 1094.11 Q130.834 1094.11 132.64 1090.57 Q134.468 1087 134.468 1079.9 Q134.468 1072.77 132.64 1069.22 Q130.834 1065.66 127.2 1065.66 M127.2 1061.96 Q133.01 1061.96 136.066 1066.56 Q139.144 1071.15 139.144 1079.9 Q139.144 1088.62 136.066 1093.23 Q133.01 1097.81 127.2 1097.81 Q121.39 1097.81 118.311 1093.23 Q115.256 1088.62 115.256 1079.9 Q115.256 1071.15 118.311 1066.56 Q121.39 1061.96 127.2 1061.96 Z\" fill=\"#000000\" fill-rule=\"nonzero\" fill-opacity=\"1\" /><path clip-path=\"url(#clip960)\" d=\"M147.362 1091.26 L152.246 1091.26 L152.246 1097.14 L147.362 1097.14 L147.362 1091.26 Z\" fill=\"#000000\" fill-rule=\"nonzero\" fill-opacity=\"1\" /><path clip-path=\"url(#clip960)\" d=\"M166.459 1093.21 L182.778 1093.21 L182.778 1097.14 L160.834 1097.14 L160.834 1093.21 Q163.496 1090.45 168.079 1085.82 Q172.686 1081.17 173.866 1079.83 Q176.112 1077.3 176.991 1075.57 Q177.894 1073.81 177.894 1072.12 Q177.894 1069.36 175.95 1067.63 Q174.028 1065.89 170.927 1065.89 Q168.727 1065.89 166.274 1066.65 Q163.843 1067.42 161.065 1068.97 L161.065 1064.25 Q163.89 1063.11 166.343 1062.53 Q168.797 1061.96 170.834 1061.96 Q176.204 1061.96 179.399 1064.64 Q182.593 1067.33 182.593 1071.82 Q182.593 1073.95 181.783 1075.87 Q180.996 1077.77 178.889 1080.36 Q178.311 1081.03 175.209 1084.25 Q172.107 1087.44 166.459 1093.21 Z\" fill=\"#000000\" fill-rule=\"nonzero\" fill-opacity=\"1\" /><path clip-path=\"url(#clip960)\" d=\"M192.639 1062.58 L210.996 1062.58 L210.996 1066.52 L196.922 1066.52 L196.922 1074.99 Q197.94 1074.64 198.959 1074.48 Q199.977 1074.29 200.996 1074.29 Q206.783 1074.29 210.162 1077.47 Q213.542 1080.64 213.542 1086.05 Q213.542 1091.63 210.07 1094.73 Q206.598 1097.81 200.278 1097.81 Q198.102 1097.81 195.834 1097.44 Q193.588 1097.07 191.181 1096.33 L191.181 1091.63 Q193.264 1092.77 195.487 1093.32 Q197.709 1093.88 200.186 1093.88 Q204.19 1093.88 206.528 1091.77 Q208.866 1089.66 208.866 1086.05 Q208.866 1082.44 206.528 1080.34 Q204.19 1078.23 200.186 1078.23 Q198.311 1078.23 196.436 1078.65 Q194.584 1079.06 192.639 1079.94 L192.639 1062.58 Z\" fill=\"#000000\" fill-rule=\"nonzero\" fill-opacity=\"1\" /><path clip-path=\"url(#clip960)\" d=\"M126.205 759.125 Q122.593 759.125 120.765 762.689 Q118.959 766.231 118.959 773.361 Q118.959 780.467 120.765 784.032 Q122.593 787.574 126.205 787.574 Q129.839 787.574 131.644 784.032 Q133.473 780.467 133.473 773.361 Q133.473 766.231 131.644 762.689 Q129.839 759.125 126.205 759.125 M126.205 755.421 Q132.015 755.421 135.07 760.027 Q138.149 764.611 138.149 773.361 Q138.149 782.088 135.07 786.694 Q132.015 791.277 126.205 791.277 Q120.394 791.277 117.316 786.694 Q114.26 782.088 114.26 773.361 Q114.26 764.611 117.316 760.027 Q120.394 755.421 126.205 755.421 Z\" fill=\"#000000\" fill-rule=\"nonzero\" fill-opacity=\"1\" /><path clip-path=\"url(#clip960)\" d=\"M146.366 784.726 L151.251 784.726 L151.251 790.606 L146.366 790.606 L146.366 784.726 Z\" fill=\"#000000\" fill-rule=\"nonzero\" fill-opacity=\"1\" /><path clip-path=\"url(#clip960)\" d=\"M161.482 756.046 L179.839 756.046 L179.839 759.981 L165.765 759.981 L165.765 768.453 Q166.783 768.106 167.802 767.944 Q168.82 767.759 169.839 767.759 Q175.626 767.759 179.005 770.93 Q182.385 774.101 182.385 779.518 Q182.385 785.097 178.913 788.199 Q175.44 791.277 169.121 791.277 Q166.945 791.277 164.677 790.907 Q162.431 790.537 160.024 789.796 L160.024 785.097 Q162.107 786.231 164.329 786.787 Q166.552 787.342 169.028 787.342 Q173.033 787.342 175.371 785.236 Q177.709 783.129 177.709 779.518 Q177.709 775.907 175.371 773.801 Q173.033 771.694 169.028 771.694 Q167.153 771.694 165.278 772.111 Q163.427 772.527 161.482 773.407 L161.482 756.046 Z\" fill=\"#000000\" fill-rule=\"nonzero\" fill-opacity=\"1\" /><path clip-path=\"url(#clip960)\" d=\"M201.598 759.125 Q197.987 759.125 196.158 762.689 Q194.352 766.231 194.352 773.361 Q194.352 780.467 196.158 784.032 Q197.987 787.574 201.598 787.574 Q205.232 787.574 207.037 784.032 Q208.866 780.467 208.866 773.361 Q208.866 766.231 207.037 762.689 Q205.232 759.125 201.598 759.125 M201.598 755.421 Q207.408 755.421 210.463 760.027 Q213.542 764.611 213.542 773.361 Q213.542 782.088 210.463 786.694 Q207.408 791.277 201.598 791.277 Q195.787 791.277 192.709 786.694 Q189.653 782.088 189.653 773.361 Q189.653 764.611 192.709 760.027 Q195.787 755.421 201.598 755.421 Z\" fill=\"#000000\" fill-rule=\"nonzero\" fill-opacity=\"1\" /><path clip-path=\"url(#clip960)\" d=\"M127.2 452.59 Q123.589 452.59 121.76 456.155 Q119.955 459.696 119.955 466.826 Q119.955 473.932 121.76 477.497 Q123.589 481.039 127.2 481.039 Q130.834 481.039 132.64 477.497 Q134.468 473.932 134.468 466.826 Q134.468 459.696 132.64 456.155 Q130.834 452.59 127.2 452.59 M127.2 448.886 Q133.01 448.886 136.066 453.493 Q139.144 458.076 139.144 466.826 Q139.144 475.553 136.066 480.159 Q133.01 484.742 127.2 484.742 Q121.39 484.742 118.311 480.159 Q115.256 475.553 115.256 466.826 Q115.256 458.076 118.311 453.493 Q121.39 448.886 127.2 448.886 Z\" fill=\"#000000\" fill-rule=\"nonzero\" fill-opacity=\"1\" /><path clip-path=\"url(#clip960)\" d=\"M147.362 478.192 L152.246 478.192 L152.246 484.071 L147.362 484.071 L147.362 478.192 Z\" fill=\"#000000\" fill-rule=\"nonzero\" fill-opacity=\"1\" /><path clip-path=\"url(#clip960)\" d=\"M161.251 449.511 L183.473 449.511 L183.473 451.502 L170.927 484.071 L166.042 484.071 L177.848 453.446 L161.251 453.446 L161.251 449.511 Z\" fill=\"#000000\" fill-rule=\"nonzero\" fill-opacity=\"1\" /><path clip-path=\"url(#clip960)\" d=\"M192.639 449.511 L210.996 449.511 L210.996 453.446 L196.922 453.446 L196.922 461.918 Q197.94 461.571 198.959 461.409 Q199.977 461.224 200.996 461.224 Q206.783 461.224 210.162 464.395 Q213.542 467.567 213.542 472.983 Q213.542 478.562 210.07 481.664 Q206.598 484.742 200.278 484.742 Q198.102 484.742 195.834 484.372 Q193.588 484.002 191.181 483.261 L191.181 478.562 Q193.264 479.696 195.487 480.252 Q197.709 480.807 200.186 480.807 Q204.19 480.807 206.528 478.701 Q208.866 476.594 208.866 472.983 Q208.866 469.372 206.528 467.266 Q204.19 465.159 200.186 465.159 Q198.311 465.159 196.436 465.576 Q194.584 465.993 192.639 466.872 L192.639 449.511 Z\" fill=\"#000000\" fill-rule=\"nonzero\" fill-opacity=\"1\" /><path clip-path=\"url(#clip960)\" d=\"M117.015 173.601 L124.654 173.601 L124.654 147.236 L116.343 148.902 L116.343 144.643 L124.607 142.976 L129.283 142.976 L129.283 173.601 L136.922 173.601 L136.922 177.536 L117.015 177.536 L117.015 173.601 Z\" fill=\"#000000\" fill-rule=\"nonzero\" fill-opacity=\"1\" /><path clip-path=\"url(#clip960)\" d=\"M146.366 171.657 L151.251 171.657 L151.251 177.536 L146.366 177.536 L146.366 171.657 Z\" fill=\"#000000\" fill-rule=\"nonzero\" fill-opacity=\"1\" /><path clip-path=\"url(#clip960)\" d=\"M171.436 146.055 Q167.825 146.055 165.996 149.62 Q164.19 153.161 164.19 160.291 Q164.19 167.397 165.996 170.962 Q167.825 174.504 171.436 174.504 Q175.07 174.504 176.876 170.962 Q178.704 167.397 178.704 160.291 Q178.704 153.161 176.876 149.62 Q175.07 146.055 171.436 146.055 M171.436 142.351 Q177.246 142.351 180.301 146.958 Q183.38 151.541 183.38 160.291 Q183.38 169.018 180.301 173.624 Q177.246 178.208 171.436 178.208 Q165.626 178.208 162.547 173.624 Q159.491 169.018 159.491 160.291 Q159.491 151.541 162.547 146.958 Q165.626 142.351 171.436 142.351 Z\" fill=\"#000000\" fill-rule=\"nonzero\" fill-opacity=\"1\" /><path clip-path=\"url(#clip960)\" d=\"M201.598 146.055 Q197.987 146.055 196.158 149.62 Q194.352 153.161 194.352 160.291 Q194.352 167.397 196.158 170.962 Q197.987 174.504 201.598 174.504 Q205.232 174.504 207.037 170.962 Q208.866 167.397 208.866 160.291 Q208.866 153.161 207.037 149.62 Q205.232 146.055 201.598 146.055 M201.598 142.351 Q207.408 142.351 210.463 146.958 Q213.542 151.541 213.542 160.291 Q213.542 169.018 210.463 173.624 Q207.408 178.208 201.598 178.208 Q195.787 178.208 192.709 173.624 Q189.653 169.018 189.653 160.291 Q189.653 151.541 192.709 146.958 Q195.787 142.351 201.598 142.351 Z\" fill=\"#000000\" fill-rule=\"nonzero\" fill-opacity=\"1\" /><path clip-path=\"url(#clip960)\" d=\"M16.4842 1158.94 L16.4842 1118.75 L21.895 1118.75 L21.895 1135.61 L64.0042 1135.61 L64.0042 1142.08 L21.895 1142.08 L21.895 1158.94 L16.4842 1158.94 Z\" fill=\"#000000\" fill-rule=\"nonzero\" fill-opacity=\"1\" /><path clip-path=\"url(#clip960)\" d=\"M33.8307 1101.72 Q33.2578 1102.7 33.0032 1103.88 Q32.7167 1105.03 32.7167 1106.43 Q32.7167 1111.39 35.9632 1114.07 Q39.1779 1116.71 45.2253 1116.71 L64.0042 1116.71 L64.0042 1122.6 L28.3562 1122.6 L28.3562 1116.71 L33.8944 1116.71 Q30.6479 1114.86 29.0883 1111.9 Q27.4968 1108.94 27.4968 1104.71 Q27.4968 1104.1 27.5923 1103.37 Q27.656 1102.64 27.8151 1101.75 L33.8307 1101.72 Z\" fill=\"#000000\" fill-rule=\"nonzero\" fill-opacity=\"1\" /><path clip-path=\"url(#clip960)\" d=\"M49.9359 1096.18 L28.3562 1096.18 L28.3562 1090.32 L49.7131 1090.32 Q54.7739 1090.32 57.3202 1088.35 Q59.8346 1086.38 59.8346 1082.43 Q59.8346 1077.69 56.8109 1074.95 Q53.7872 1072.18 48.5673 1072.18 L28.3562 1072.18 L28.3562 1066.32 L64.0042 1066.32 L64.0042 1072.18 L58.5296 1072.18 Q61.7762 1074.31 63.3676 1077.15 Q64.9272 1079.95 64.9272 1083.67 Q64.9272 1089.81 61.1078 1093 Q57.2883 1096.18 49.9359 1096.18 M27.4968 1081.44 L27.4968 1081.44 Z\" fill=\"#000000\" fill-rule=\"nonzero\" fill-opacity=\"1\" /><path clip-path=\"url(#clip960)\" d=\"M44.7161 1023.77 L47.5806 1023.77 L47.5806 1050.7 Q53.6281 1050.31 56.8109 1047.07 Q59.9619 1043.79 59.9619 1037.96 Q59.9619 1034.59 59.1344 1031.44 Q58.3069 1028.26 56.6518 1025.14 L62.1899 1025.14 Q63.5267 1028.29 64.227 1031.6 Q64.9272 1034.91 64.9272 1038.31 Q64.9272 1046.84 59.9619 1051.84 Q54.9967 1056.81 46.5303 1056.81 Q37.7774 1056.81 32.6531 1052.1 Q27.4968 1047.35 27.4968 1039.33 Q27.4968 1032.14 32.1438 1027.97 Q36.7589 1023.77 44.7161 1023.77 M42.9973 1029.63 Q38.1912 1029.69 35.3266 1032.33 Q32.4621 1034.94 32.4621 1039.27 Q32.4621 1044.17 35.2312 1047.13 Q38.0002 1050.06 43.0292 1050.5 L42.9973 1029.63 Z\" fill=\"#000000\" fill-rule=\"nonzero\" fill-opacity=\"1\" /><path clip-path=\"url(#clip960)\" d=\"M21.7677 986.752 L39.6235 986.752 L39.6235 978.668 Q39.6235 974.18 37.3 971.729 Q34.9765 969.278 30.6797 969.278 Q26.4147 969.278 24.0912 971.729 Q21.7677 974.18 21.7677 978.668 L21.7677 986.752 M16.4842 993.182 L16.4842 978.668 Q16.4842 970.679 20.1126 966.605 Q23.7092 962.499 30.6797 962.499 Q37.7138 962.499 41.3104 966.605 Q44.907 970.679 44.907 978.668 L44.907 986.752 L64.0042 986.752 L64.0042 993.182 L16.4842 993.182 Z\" fill=\"#000000\" fill-rule=\"nonzero\" fill-opacity=\"1\" /><path clip-path=\"url(#clip960)\" d=\"M32.4621 942.638 Q32.4621 947.348 36.1542 950.086 Q39.8145 952.823 46.212 952.823 Q52.6095 952.823 56.3017 950.118 Q59.9619 947.38 59.9619 942.638 Q59.9619 937.959 56.2698 935.222 Q52.5777 932.485 46.212 932.485 Q39.8781 932.485 36.186 935.222 Q32.4621 937.959 32.4621 942.638 M27.4968 942.638 Q27.4968 934.999 32.4621 930.639 Q37.4273 926.278 46.212 926.278 Q54.9649 926.278 59.9619 930.639 Q64.9272 934.999 64.9272 942.638 Q64.9272 950.309 59.9619 954.669 Q54.9649 958.998 46.212 958.998 Q37.4273 958.998 32.4621 954.669 Q27.4968 950.309 27.4968 942.638 Z\" fill=\"#000000\" fill-rule=\"nonzero\" fill-opacity=\"1\" /><path clip-path=\"url(#clip960)\" d=\"M29.4065 893.845 L34.9447 893.845 Q33.6716 896.327 33.035 899.001 Q32.3984 901.675 32.3984 904.539 Q32.3984 908.9 33.7352 911.096 Q35.072 913.26 37.7456 913.26 Q39.7826 913.26 40.9603 911.701 Q42.1061 910.141 43.1565 905.43 L43.6021 903.425 Q44.9389 897.187 47.3897 894.577 Q49.8086 891.935 54.1691 891.935 Q59.1344 891.935 62.0308 895.882 Q64.9272 899.797 64.9272 906.672 Q64.9272 909.536 64.3543 912.655 Q63.8132 915.743 62.6992 919.18 L56.6518 919.18 Q58.3387 915.934 59.198 912.783 Q60.0256 909.632 60.0256 906.544 Q60.0256 902.407 58.6251 900.179 Q57.1929 897.951 54.6147 897.951 Q52.2276 897.951 50.9545 899.574 Q49.6813 901.165 48.5037 906.608 L48.0262 908.645 Q46.8804 914.088 44.5251 916.507 Q42.138 918.926 38.0002 918.926 Q32.9713 918.926 30.2341 915.361 Q27.4968 911.796 27.4968 905.239 Q27.4968 901.993 27.9743 899.128 Q28.4517 896.264 29.4065 893.845 Z\" fill=\"#000000\" fill-rule=\"nonzero\" fill-opacity=\"1\" /><path clip-path=\"url(#clip960)\" d=\"M28.3562 882.609 L28.3562 876.753 L64.0042 876.753 L64.0042 882.609 L28.3562 882.609 M14.479 882.609 L14.479 876.753 L21.895 876.753 L21.895 882.609 L14.479 882.609 Z\" fill=\"#000000\" fill-rule=\"nonzero\" fill-opacity=\"1\" /><path clip-path=\"url(#clip960)\" d=\"M18.2347 858.706 L28.3562 858.706 L28.3562 846.643 L32.9077 846.643 L32.9077 858.706 L52.2594 858.706 Q56.6199 858.706 57.8613 857.528 Q59.1026 856.319 59.1026 852.659 L59.1026 846.643 L64.0042 846.643 L64.0042 852.659 Q64.0042 859.438 61.4897 862.016 Q58.9434 864.594 52.2594 864.594 L32.9077 864.594 L32.9077 868.891 L28.3562 868.891 L28.3562 864.594 L18.2347 864.594 L18.2347 858.706 Z\" fill=\"#000000\" fill-rule=\"nonzero\" fill-opacity=\"1\" /><path clip-path=\"url(#clip960)\" d=\"M28.3562 838.941 L28.3562 833.084 L64.0042 833.084 L64.0042 838.941 L28.3562 838.941 M14.479 838.941 L14.479 833.084 L21.895 833.084 L21.895 838.941 L14.479 838.941 Z\" fill=\"#000000\" fill-rule=\"nonzero\" fill-opacity=\"1\" /><path clip-path=\"url(#clip960)\" d=\"M28.3562 825.031 L28.3562 818.825 L58.275 807.685 L28.3562 796.545 L28.3562 790.338 L64.0042 803.706 L64.0042 811.663 L28.3562 825.031 Z\" fill=\"#000000\" fill-rule=\"nonzero\" fill-opacity=\"1\" /><path clip-path=\"url(#clip960)\" d=\"M44.7161 751.762 L47.5806 751.762 L47.5806 778.689 Q53.6281 778.307 56.8109 775.061 Q59.9619 771.782 59.9619 765.958 Q59.9619 762.584 59.1344 759.433 Q58.3069 756.25 56.6518 753.131 L62.1899 753.131 Q63.5267 756.282 64.227 759.592 Q64.9272 762.902 64.9272 766.308 Q64.9272 774.838 59.9619 779.835 Q54.9967 784.8 46.5303 784.8 Q37.7774 784.8 32.6531 780.09 Q27.4968 775.347 27.4968 767.326 Q27.4968 760.133 32.1438 755.964 Q36.7589 751.762 44.7161 751.762 M42.9973 757.619 Q38.1912 757.682 35.3266 760.324 Q32.4621 762.934 32.4621 767.263 Q32.4621 772.164 35.2312 775.124 Q38.0002 778.053 43.0292 778.498 L42.9973 757.619 Z\" fill=\"#000000\" fill-rule=\"nonzero\" fill-opacity=\"1\" /><path clip-path=\"url(#clip960)\" d=\"M41.7242 698.64 Q42.4244 696.571 44.7161 694.63 Q47.0077 692.657 51.0181 690.683 L64.0042 684.158 L64.0042 691.065 L51.8138 697.144 Q47.0395 699.5 45.48 701.728 Q43.9204 703.924 43.9204 707.743 L43.9204 714.746 L64.0042 714.746 L64.0042 721.175 L16.4842 721.175 L16.4842 706.661 Q16.4842 698.513 19.8898 694.503 Q23.2955 690.492 30.1704 690.492 Q34.6582 690.492 37.6183 692.593 Q40.5784 694.662 41.7242 698.64 M21.7677 714.746 L38.6368 714.746 L38.6368 706.661 Q38.6368 702.014 36.5043 699.659 Q34.34 697.272 30.1704 697.272 Q26.0009 697.272 23.9002 699.659 Q21.7677 702.014 21.7677 706.661 L21.7677 714.746 Z\" fill=\"#000000\" fill-rule=\"nonzero\" fill-opacity=\"1\" /><path clip-path=\"url(#clip960)\" d=\"M46.0847 661.369 Q46.0847 668.467 47.7079 671.204 Q49.3312 673.941 53.2461 673.941 Q56.3653 673.941 58.2114 671.904 Q60.0256 669.836 60.0256 666.303 Q60.0256 661.433 56.5881 658.505 Q53.1188 655.544 47.3897 655.544 L46.0847 655.544 L46.0847 661.369 M43.6657 649.688 L64.0042 649.688 L64.0042 655.544 L58.5933 655.544 Q61.8398 657.55 63.3994 660.542 Q64.9272 663.533 64.9272 667.862 Q64.9272 673.337 61.8716 676.583 Q58.7843 679.798 53.6281 679.798 Q47.6125 679.798 44.5569 675.787 Q41.5014 671.745 41.5014 663.756 L41.5014 655.544 L40.9285 655.544 Q36.8862 655.544 34.6901 658.218 Q32.4621 660.86 32.4621 665.666 Q32.4621 668.722 33.1941 671.618 Q33.9262 674.514 35.3903 677.188 L29.9795 677.188 Q28.7381 673.973 28.1334 670.95 Q27.4968 667.926 27.4968 665.061 Q27.4968 657.327 31.5072 653.507 Q35.5176 649.688 43.6657 649.688 Z\" fill=\"#000000\" fill-rule=\"nonzero\" fill-opacity=\"1\" /><path clip-path=\"url(#clip960)\" d=\"M18.2347 631.832 L28.3562 631.832 L28.3562 619.769 L32.9077 619.769 L32.9077 631.832 L52.2594 631.832 Q56.6199 631.832 57.8613 630.655 Q59.1026 629.445 59.1026 625.785 L59.1026 619.769 L64.0042 619.769 L64.0042 625.785 Q64.0042 632.564 61.4897 635.142 Q58.9434 637.721 52.2594 637.721 L32.9077 637.721 L32.9077 642.017 L28.3562 642.017 L28.3562 637.721 L18.2347 637.721 L18.2347 631.832 Z\" fill=\"#000000\" fill-rule=\"nonzero\" fill-opacity=\"1\" /><path clip-path=\"url(#clip960)\" d=\"M44.7161 581.575 L47.5806 581.575 L47.5806 608.502 Q53.6281 608.12 56.8109 604.873 Q59.9619 601.595 59.9619 595.771 Q59.9619 592.397 59.1344 589.246 Q58.3069 586.063 56.6518 582.944 L62.1899 582.944 Q63.5267 586.095 64.227 589.405 Q64.9272 592.715 64.9272 596.121 Q64.9272 604.651 59.9619 609.648 Q54.9967 614.613 46.5303 614.613 Q37.7774 614.613 32.6531 609.902 Q27.4968 605.16 27.4968 597.139 Q27.4968 589.946 32.1438 585.776 Q36.7589 581.575 44.7161 581.575 M42.9973 587.431 Q38.1912 587.495 35.3266 590.137 Q32.4621 592.747 32.4621 597.075 Q32.4621 601.977 35.2312 604.937 Q38.0002 607.865 43.0292 608.311 L42.9973 587.431 Z\" fill=\"#000000\" fill-rule=\"nonzero\" fill-opacity=\"1\" /><path clip-path=\"url(#clip960)\" d=\"M14.5426 537.174 Q21.8632 541.439 29.0246 543.508 Q36.186 545.577 43.5384 545.577 Q50.8908 545.577 58.1159 543.508 Q65.3091 541.407 72.5979 537.174 L72.5979 542.267 Q65.1182 547.041 57.8931 549.428 Q50.668 551.783 43.5384 551.783 Q36.4406 551.783 29.2474 549.428 Q22.0542 547.073 14.5426 542.267 L14.5426 537.174 Z\" fill=\"#000000\" fill-rule=\"nonzero\" fill-opacity=\"1\" /><path clip-path=\"url(#clip960)\" d=\"M16.4842 532.145 L16.4842 491.946 L21.895 491.946 L21.895 508.815 L64.0042 508.815 L64.0042 515.276 L21.895 515.276 L21.895 532.145 L16.4842 532.145 Z\" fill=\"#000000\" fill-rule=\"nonzero\" fill-opacity=\"1\" /><path clip-path=\"url(#clip960)\" d=\"M21.7677 479.31 L39.6235 479.31 L39.6235 471.225 Q39.6235 466.738 37.3 464.287 Q34.9765 461.836 30.6797 461.836 Q26.4147 461.836 24.0912 464.287 Q21.7677 466.738 21.7677 471.225 L21.7677 479.31 M16.4842 485.739 L16.4842 471.225 Q16.4842 463.236 20.1126 459.162 Q23.7092 455.057 30.6797 455.057 Q37.7138 455.057 41.3104 459.162 Q44.907 463.236 44.907 471.225 L44.907 479.31 L64.0042 479.31 L64.0042 485.739 L16.4842 485.739 Z\" fill=\"#000000\" fill-rule=\"nonzero\" fill-opacity=\"1\" /><path clip-path=\"url(#clip960)\" d=\"M41.7242 423.896 Q42.4244 421.828 44.7161 419.886 Q47.0077 417.913 51.0181 415.939 L64.0042 409.414 L64.0042 416.321 L51.8138 422.4 Q47.0395 424.756 45.48 426.984 Q43.9204 429.18 43.9204 432.999 L43.9204 440.002 L64.0042 440.002 L64.0042 446.431 L16.4842 446.431 L16.4842 431.917 Q16.4842 423.769 19.8898 419.759 Q23.2955 415.748 30.1704 415.748 Q34.6582 415.748 37.6183 417.849 Q40.5784 419.918 41.7242 423.896 M21.7677 440.002 L38.6368 440.002 L38.6368 431.917 Q38.6368 427.27 36.5043 424.915 Q34.34 422.528 30.1704 422.528 Q26.0009 422.528 23.9002 424.915 Q21.7677 427.27 21.7677 431.917 L21.7677 440.002 Z\" fill=\"#000000\" fill-rule=\"nonzero\" fill-opacity=\"1\" /><path clip-path=\"url(#clip960)\" d=\"M14.5426 402.317 L14.5426 397.224 Q22.0542 392.45 29.2474 390.095 Q36.4406 387.707 43.5384 387.707 Q50.668 387.707 57.8931 390.095 Q65.1182 392.45 72.5979 397.224 L72.5979 402.317 Q65.3091 398.083 58.1159 396.015 Q50.8908 393.914 43.5384 393.914 Q36.186 393.914 29.0246 396.015 Q21.8632 398.083 14.5426 402.317 Z\" fill=\"#000000\" fill-rule=\"nonzero\" fill-opacity=\"1\" /><path clip-path=\"url(#clip960)\" d=\"M368.975 44.2197 Q371.608 45.1109 374.079 48.0275 Q376.591 50.9442 379.102 56.0483 L387.407 72.576 L378.616 72.576 L370.879 57.061 Q367.881 50.9847 365.046 48.9997 Q362.251 47.0148 357.39 47.0148 L348.478 47.0148 L348.478 72.576 L340.295 72.576 L340.295 12.096 L358.767 12.096 Q369.137 12.096 374.241 16.4305 Q379.345 20.7649 379.345 29.5149 Q379.345 35.2267 376.672 38.994 Q374.039 42.7613 368.975 44.2197 M348.478 18.8205 L348.478 40.2903 L358.767 40.2903 Q364.681 40.2903 367.679 37.5762 Q370.717 34.8216 370.717 29.5149 Q370.717 24.2082 367.679 21.5346 Q364.681 18.8205 358.767 18.8205 L348.478 18.8205 Z\" fill=\"#000000\" fill-rule=\"nonzero\" fill-opacity=\"1\" /><path clip-path=\"url(#clip960)\" d=\"M432.696 48.0275 L432.696 51.6733 L398.425 51.6733 Q398.911 59.3701 403.043 63.421 Q407.216 67.4314 414.629 67.4314 Q418.923 67.4314 422.933 66.3781 Q426.984 65.3249 430.954 63.2184 L430.954 70.267 Q426.944 71.9684 422.731 72.8596 Q418.518 73.7508 414.183 73.7508 Q403.327 73.7508 396.967 67.4314 Q390.647 61.1119 390.647 50.3365 Q390.647 39.1965 396.643 32.6746 Q402.679 26.1121 412.887 26.1121 Q422.042 26.1121 427.349 32.0264 Q432.696 37.9003 432.696 48.0275 M425.242 45.84 Q425.161 39.7232 421.799 36.0774 Q418.477 32.4315 412.968 32.4315 Q406.73 32.4315 402.962 35.9558 Q399.235 39.4801 398.668 45.8805 L425.242 45.84 Z\" fill=\"#000000\" fill-rule=\"nonzero\" fill-opacity=\"1\" /><path clip-path=\"url(#clip960)\" d=\"M477.58 28.9478 L477.58 35.9153 Q474.42 34.1734 471.22 33.3227 Q468.06 32.4315 464.82 32.4315 Q457.568 32.4315 453.558 37.0496 Q449.548 41.6271 449.548 49.9314 Q449.548 58.2358 453.558 62.8538 Q457.568 67.4314 464.82 67.4314 Q468.06 67.4314 471.22 66.5807 Q474.42 65.6895 477.58 63.9476 L477.58 70.8341 Q474.461 72.2924 471.098 73.0216 Q467.777 73.7508 464.009 73.7508 Q453.761 73.7508 447.725 67.3098 Q441.689 60.8689 441.689 49.9314 Q441.689 38.832 447.765 32.472 Q453.882 26.1121 464.495 26.1121 Q467.939 26.1121 471.22 26.8413 Q474.501 27.5299 477.58 28.9478 Z\" fill=\"#000000\" fill-rule=\"nonzero\" fill-opacity=\"1\" /><path clip-path=\"url(#clip960)\" d=\"M529.35 48.0275 L529.35 51.6733 L495.08 51.6733 Q495.566 59.3701 499.698 63.421 Q503.87 67.4314 511.283 67.4314 Q515.577 67.4314 519.588 66.3781 Q523.639 65.3249 527.609 63.2184 L527.609 70.267 Q523.598 71.9684 519.385 72.8596 Q515.172 73.7508 510.838 73.7508 Q499.981 73.7508 493.621 67.4314 Q487.302 61.1119 487.302 50.3365 Q487.302 39.1965 493.297 32.6746 Q499.333 26.1121 509.542 26.1121 Q518.697 26.1121 524.003 32.0264 Q529.35 37.9003 529.35 48.0275 M521.897 45.84 Q521.816 39.7232 518.454 36.0774 Q515.132 32.4315 509.623 32.4315 Q503.384 32.4315 499.617 35.9558 Q495.89 39.4801 495.323 45.8805 L521.897 45.84 Z\" fill=\"#000000\" fill-rule=\"nonzero\" fill-opacity=\"1\" /><path clip-path=\"url(#clip960)\" d=\"M541.584 27.2059 L549.038 27.2059 L549.038 72.576 L541.584 72.576 L541.584 27.2059 M541.584 9.54393 L549.038 9.54393 L549.038 18.9825 L541.584 18.9825 L541.584 9.54393 Z\" fill=\"#000000\" fill-rule=\"nonzero\" fill-opacity=\"1\" /><path clip-path=\"url(#clip960)\" d=\"M559.287 27.2059 L567.186 27.2059 L581.364 65.2844 L595.542 27.2059 L603.441 27.2059 L586.428 72.576 L576.3 72.576 L559.287 27.2059 Z\" fill=\"#000000\" fill-rule=\"nonzero\" fill-opacity=\"1\" /><path clip-path=\"url(#clip960)\" d=\"M652.538 48.0275 L652.538 51.6733 L618.268 51.6733 Q618.754 59.3701 622.886 63.421 Q627.058 67.4314 634.471 67.4314 Q638.765 67.4314 642.776 66.3781 Q646.827 65.3249 650.797 63.2184 L650.797 70.267 Q646.786 71.9684 642.573 72.8596 Q638.36 73.7508 634.026 73.7508 Q623.169 73.7508 616.809 67.4314 Q610.49 61.1119 610.49 50.3365 Q610.49 39.1965 616.485 32.6746 Q622.521 26.1121 632.73 26.1121 Q641.885 26.1121 647.191 32.0264 Q652.538 37.9003 652.538 48.0275 M645.085 45.84 Q645.004 39.7232 641.642 36.0774 Q638.32 32.4315 632.811 32.4315 Q626.572 32.4315 622.805 35.9558 Q619.078 39.4801 618.511 45.8805 L645.085 45.84 Z\" fill=\"#000000\" fill-rule=\"nonzero\" fill-opacity=\"1\" /><path clip-path=\"url(#clip960)\" d=\"M691.063 34.1734 Q689.807 33.4443 688.308 33.1202 Q686.85 32.7556 685.067 32.7556 Q678.748 32.7556 675.345 36.8875 Q671.983 40.9789 671.983 48.6757 L671.983 72.576 L664.489 72.576 L664.489 27.2059 L671.983 27.2059 L671.983 34.2544 Q674.332 30.1225 678.1 28.1376 Q681.867 26.1121 687.255 26.1121 Q688.024 26.1121 688.956 26.2337 Q689.888 26.3147 691.022 26.5172 L691.063 34.1734 Z\" fill=\"#000000\" fill-rule=\"nonzero\" fill-opacity=\"1\" /><path clip-path=\"url(#clip960)\" d=\"M750.125 17.6457 Q741.213 17.6457 735.947 24.2892 Q730.721 30.9327 730.721 42.3968 Q730.721 53.8203 735.947 60.4638 Q741.213 67.1073 750.125 67.1073 Q759.037 67.1073 764.222 60.4638 Q769.448 53.8203 769.448 42.3968 Q769.448 30.9327 764.222 24.2892 Q759.037 17.6457 750.125 17.6457 M750.125 11.0023 Q762.845 11.0023 770.46 19.5497 Q778.076 28.0566 778.076 42.3968 Q778.076 56.6965 770.46 65.2439 Q762.845 73.7508 750.125 73.7508 Q737.364 73.7508 729.708 65.2439 Q722.092 56.737 722.092 42.3968 Q722.092 28.0566 729.708 19.5497 Q737.364 11.0023 750.125 11.0023 Z\" fill=\"#000000\" fill-rule=\"nonzero\" fill-opacity=\"1\" /><path clip-path=\"url(#clip960)\" d=\"M797.763 65.7705 L797.763 89.8329 L790.269 89.8329 L790.269 27.2059 L797.763 27.2059 L797.763 34.0924 Q800.113 30.0415 803.678 28.0971 Q807.283 26.1121 812.266 26.1121 Q820.529 26.1121 825.674 32.6746 Q830.859 39.2371 830.859 49.9314 Q830.859 60.6258 825.674 67.1883 Q820.529 73.7508 812.266 73.7508 Q807.283 73.7508 803.678 71.8063 Q800.113 69.8214 797.763 65.7705 M823.122 49.9314 Q823.122 41.7081 819.719 37.0496 Q816.357 32.3505 810.443 32.3505 Q804.528 32.3505 801.126 37.0496 Q797.763 41.7081 797.763 49.9314 Q797.763 58.1548 801.126 62.8538 Q804.528 67.5124 810.443 67.5124 Q816.357 67.5124 819.719 62.8538 Q823.122 58.1548 823.122 49.9314 Z\" fill=\"#000000\" fill-rule=\"nonzero\" fill-opacity=\"1\" /><path clip-path=\"url(#clip960)\" d=\"M882.022 48.0275 L882.022 51.6733 L847.752 51.6733 Q848.238 59.3701 852.37 63.421 Q856.542 67.4314 863.955 67.4314 Q868.249 67.4314 872.259 66.3781 Q876.31 65.3249 880.28 63.2184 L880.28 70.267 Q876.27 71.9684 872.057 72.8596 Q867.844 73.7508 863.51 73.7508 Q852.653 73.7508 846.293 67.4314 Q839.974 61.1119 839.974 50.3365 Q839.974 39.1965 845.969 32.6746 Q852.005 26.1121 862.213 26.1121 Q871.368 26.1121 876.675 32.0264 Q882.022 37.9003 882.022 48.0275 M874.569 45.84 Q874.487 39.7232 871.125 36.0774 Q867.803 32.4315 862.294 32.4315 Q856.056 32.4315 852.289 35.9558 Q848.562 39.4801 847.995 45.8805 L874.569 45.84 Z\" fill=\"#000000\" fill-rule=\"nonzero\" fill-opacity=\"1\" /><path clip-path=\"url(#clip960)\" d=\"M920.546 34.1734 Q919.29 33.4443 917.792 33.1202 Q916.333 32.7556 914.551 32.7556 Q908.232 32.7556 904.829 36.8875 Q901.467 40.9789 901.467 48.6757 L901.467 72.576 L893.972 72.576 L893.972 27.2059 L901.467 27.2059 L901.467 34.2544 Q903.816 30.1225 907.583 28.1376 Q911.351 26.1121 916.738 26.1121 Q917.508 26.1121 918.44 26.2337 Q919.372 26.3147 920.506 26.5172 L920.546 34.1734 Z\" fill=\"#000000\" fill-rule=\"nonzero\" fill-opacity=\"1\" /><path clip-path=\"url(#clip960)\" d=\"M948.984 49.7694 Q939.95 49.7694 936.466 51.8354 Q932.983 53.9013 932.983 58.8839 Q932.983 62.8538 935.575 65.2034 Q938.208 67.5124 942.705 67.5124 Q948.903 67.5124 952.629 63.1374 Q956.397 58.7219 956.397 51.4303 L956.397 49.7694 L948.984 49.7694 M963.85 46.6907 L963.85 72.576 L956.397 72.576 L956.397 65.6895 Q953.845 69.8214 950.037 71.8063 Q946.229 73.7508 940.72 73.7508 Q933.752 73.7508 929.62 69.8619 Q925.529 65.9325 925.529 59.3701 Q925.529 51.7138 930.633 47.825 Q935.778 43.9361 945.945 43.9361 L956.397 43.9361 L956.397 43.2069 Q956.397 38.0623 952.994 35.2672 Q949.632 32.4315 943.515 32.4315 Q939.626 32.4315 935.94 33.3632 Q932.253 34.295 928.851 36.1584 L928.851 29.2718 Q932.942 27.692 936.79 26.9223 Q940.639 26.1121 944.285 26.1121 Q954.128 26.1121 958.989 31.2163 Q963.85 36.3204 963.85 46.6907 Z\" fill=\"#000000\" fill-rule=\"nonzero\" fill-opacity=\"1\" /><path clip-path=\"url(#clip960)\" d=\"M986.576 14.324 L986.576 27.2059 L1001.93 27.2059 L1001.93 32.9987 L986.576 32.9987 L986.576 57.6282 Q986.576 63.1779 988.075 64.7578 Q989.614 66.3376 994.273 66.3376 L1001.93 66.3376 L1001.93 72.576 L994.273 72.576 Q985.644 72.576 982.363 69.3758 Q979.082 66.1351 979.082 57.6282 L979.082 32.9987 L973.613 32.9987 L973.613 27.2059 L979.082 27.2059 L979.082 14.324 L986.576 14.324 Z\" fill=\"#000000\" fill-rule=\"nonzero\" fill-opacity=\"1\" /><path clip-path=\"url(#clip960)\" d=\"M1011.73 27.2059 L1019.19 27.2059 L1019.19 72.576 L1011.73 72.576 L1011.73 27.2059 M1011.73 9.54393 L1019.19 9.54393 L1019.19 18.9825 L1011.73 18.9825 L1011.73 9.54393 Z\" fill=\"#000000\" fill-rule=\"nonzero\" fill-opacity=\"1\" /><path clip-path=\"url(#clip960)\" d=\"M1072.5 45.1919 L1072.5 72.576 L1065.04 72.576 L1065.04 45.4349 Q1065.04 38.994 1062.53 35.7938 Q1060.02 32.5936 1055 32.5936 Q1048.96 32.5936 1045.48 36.4419 Q1041.99 40.2903 1041.99 46.9338 L1041.99 72.576 L1034.5 72.576 L1034.5 27.2059 L1041.99 27.2059 L1041.99 34.2544 Q1044.67 30.163 1048.27 28.1376 Q1051.92 26.1121 1056.66 26.1121 Q1064.47 26.1121 1068.49 30.9732 Q1072.5 35.7938 1072.5 45.1919 Z\" fill=\"#000000\" fill-rule=\"nonzero\" fill-opacity=\"1\" /><path clip-path=\"url(#clip960)\" d=\"M1117.22 49.3643 Q1117.22 41.2625 1113.86 36.8065 Q1110.53 32.3505 1104.5 32.3505 Q1098.5 32.3505 1095.14 36.8065 Q1091.82 41.2625 1091.82 49.3643 Q1091.82 57.4256 1095.14 61.8816 Q1098.5 66.3376 1104.5 66.3376 Q1110.53 66.3376 1113.86 61.8816 Q1117.22 57.4256 1117.22 49.3643 M1124.67 66.9452 Q1124.67 78.5308 1119.53 84.1616 Q1114.38 89.8329 1103.77 89.8329 Q1099.84 89.8329 1096.36 89.2252 Q1092.87 88.6581 1089.59 87.4428 L1089.59 80.1917 Q1092.87 81.9741 1096.07 82.8248 Q1099.27 83.6755 1102.59 83.6755 Q1109.93 83.6755 1113.57 79.8271 Q1117.22 76.0193 1117.22 68.282 L1117.22 64.5957 Q1114.91 68.6061 1111.3 70.5911 Q1107.7 72.576 1102.67 72.576 Q1094.33 72.576 1089.23 66.2161 Q1084.12 59.8562 1084.12 49.3643 Q1084.12 38.832 1089.23 32.472 Q1094.33 26.1121 1102.67 26.1121 Q1107.7 26.1121 1111.3 28.0971 Q1114.91 30.082 1117.22 34.0924 L1117.22 27.2059 L1124.67 27.2059 L1124.67 66.9452 Z\" fill=\"#000000\" fill-rule=\"nonzero\" fill-opacity=\"1\" /><path clip-path=\"url(#clip960)\" d=\"M1212.01 16.7545 L1212.01 25.383 Q1207.88 21.5346 1203.18 19.6307 Q1198.52 17.7268 1193.25 17.7268 Q1182.88 17.7268 1177.37 24.0867 Q1171.86 30.4061 1171.86 42.3968 Q1171.86 54.3469 1177.37 60.7069 Q1182.88 67.0263 1193.25 67.0263 Q1198.52 67.0263 1203.18 65.1223 Q1207.88 63.2184 1212.01 59.3701 L1212.01 67.9175 Q1207.71 70.8341 1202.89 72.2924 Q1198.11 73.7508 1192.77 73.7508 Q1179.03 73.7508 1171.14 65.3654 Q1163.24 56.9395 1163.24 42.3968 Q1163.24 27.8135 1171.14 19.4281 Q1179.03 11.0023 1192.77 11.0023 Q1198.2 11.0023 1202.98 12.4606 Q1207.8 13.8784 1212.01 16.7545 Z\" fill=\"#000000\" fill-rule=\"nonzero\" fill-opacity=\"1\" /><path clip-path=\"url(#clip960)\" d=\"M1262.04 45.1919 L1262.04 72.576 L1254.58 72.576 L1254.58 45.4349 Q1254.58 38.994 1252.07 35.7938 Q1249.56 32.5936 1244.54 32.5936 Q1238.5 32.5936 1235.02 36.4419 Q1231.53 40.2903 1231.53 46.9338 L1231.53 72.576 L1224.04 72.576 L1224.04 9.54393 L1231.53 9.54393 L1231.53 34.2544 Q1234.21 30.163 1237.81 28.1376 Q1241.46 26.1121 1246.2 26.1121 Q1254.02 26.1121 1258.03 30.9732 Q1262.04 35.7938 1262.04 45.1919 Z\" fill=\"#000000\" fill-rule=\"nonzero\" fill-opacity=\"1\" /><path clip-path=\"url(#clip960)\" d=\"M1297.52 49.7694 Q1288.49 49.7694 1285.01 51.8354 Q1281.52 53.9013 1281.52 58.8839 Q1281.52 62.8538 1284.11 65.2034 Q1286.75 67.5124 1291.24 67.5124 Q1297.44 67.5124 1301.17 63.1374 Q1304.94 58.7219 1304.94 51.4303 L1304.94 49.7694 L1297.52 49.7694 M1312.39 46.6907 L1312.39 72.576 L1304.94 72.576 L1304.94 65.6895 Q1302.38 69.8214 1298.58 71.8063 Q1294.77 73.7508 1289.26 73.7508 Q1282.29 73.7508 1278.16 69.8619 Q1274.07 65.9325 1274.07 59.3701 Q1274.07 51.7138 1279.17 47.825 Q1284.32 43.9361 1294.49 43.9361 L1304.94 43.9361 L1304.94 43.2069 Q1304.94 38.0623 1301.53 35.2672 Q1298.17 32.4315 1292.05 32.4315 Q1288.17 32.4315 1284.48 33.3632 Q1280.79 34.295 1277.39 36.1584 L1277.39 29.2718 Q1281.48 27.692 1285.33 26.9223 Q1289.18 26.1121 1292.82 26.1121 Q1302.67 26.1121 1307.53 31.2163 Q1312.39 36.3204 1312.39 46.6907 Z\" fill=\"#000000\" fill-rule=\"nonzero\" fill-opacity=\"1\" /><path clip-path=\"url(#clip960)\" d=\"M1354.03 34.1734 Q1352.78 33.4443 1351.28 33.1202 Q1349.82 32.7556 1348.04 32.7556 Q1341.72 32.7556 1338.32 36.8875 Q1334.95 40.9789 1334.95 48.6757 L1334.95 72.576 L1327.46 72.576 L1327.46 27.2059 L1334.95 27.2059 L1334.95 34.2544 Q1337.3 30.1225 1341.07 28.1376 Q1344.84 26.1121 1350.23 26.1121 Q1351 26.1121 1351.93 26.2337 Q1352.86 26.3147 1353.99 26.5172 L1354.03 34.1734 Z\" fill=\"#000000\" fill-rule=\"nonzero\" fill-opacity=\"1\" /><path clip-path=\"url(#clip960)\" d=\"M1382.47 49.7694 Q1373.44 49.7694 1369.95 51.8354 Q1366.47 53.9013 1366.47 58.8839 Q1366.47 62.8538 1369.06 65.2034 Q1371.7 67.5124 1376.19 67.5124 Q1382.39 67.5124 1386.12 63.1374 Q1389.88 58.7219 1389.88 51.4303 L1389.88 49.7694 L1382.47 49.7694 M1397.34 46.6907 L1397.34 72.576 L1389.88 72.576 L1389.88 65.6895 Q1387.33 69.8214 1383.52 71.8063 Q1379.72 73.7508 1374.21 73.7508 Q1367.24 73.7508 1363.11 69.8619 Q1359.02 65.9325 1359.02 59.3701 Q1359.02 51.7138 1364.12 47.825 Q1369.26 43.9361 1379.43 43.9361 L1389.88 43.9361 L1389.88 43.2069 Q1389.88 38.0623 1386.48 35.2672 Q1383.12 32.4315 1377 32.4315 Q1373.11 32.4315 1369.43 33.3632 Q1365.74 34.295 1362.34 36.1584 L1362.34 29.2718 Q1366.43 27.692 1370.28 26.9223 Q1374.13 26.1121 1377.77 26.1121 Q1387.62 26.1121 1392.48 31.2163 Q1397.34 36.3204 1397.34 46.6907 Z\" fill=\"#000000\" fill-rule=\"nonzero\" fill-opacity=\"1\" /><path clip-path=\"url(#clip960)\" d=\"M1445.34 28.9478 L1445.34 35.9153 Q1442.18 34.1734 1438.98 33.3227 Q1435.82 32.4315 1432.58 32.4315 Q1425.33 32.4315 1421.32 37.0496 Q1417.31 41.6271 1417.31 49.9314 Q1417.31 58.2358 1421.32 62.8538 Q1425.33 67.4314 1432.58 67.4314 Q1435.82 67.4314 1438.98 66.5807 Q1442.18 65.6895 1445.34 63.9476 L1445.34 70.8341 Q1442.22 72.2924 1438.86 73.0216 Q1435.54 73.7508 1431.77 73.7508 Q1421.52 73.7508 1415.49 67.3098 Q1409.45 60.8689 1409.45 49.9314 Q1409.45 38.832 1415.53 32.472 Q1421.64 26.1121 1432.26 26.1121 Q1435.7 26.1121 1438.98 26.8413 Q1442.26 27.5299 1445.34 28.9478 Z\" fill=\"#000000\" fill-rule=\"nonzero\" fill-opacity=\"1\" /><path clip-path=\"url(#clip960)\" d=\"M1465.68 14.324 L1465.68 27.2059 L1481.03 27.2059 L1481.03 32.9987 L1465.68 32.9987 L1465.68 57.6282 Q1465.68 63.1779 1467.18 64.7578 Q1468.71 66.3376 1473.37 66.3376 L1481.03 66.3376 L1481.03 72.576 L1473.37 72.576 Q1464.74 72.576 1461.46 69.3758 Q1458.18 66.1351 1458.18 57.6282 L1458.18 32.9987 L1452.71 32.9987 L1452.71 27.2059 L1458.18 27.2059 L1458.18 14.324 L1465.68 14.324 Z\" fill=\"#000000\" fill-rule=\"nonzero\" fill-opacity=\"1\" /><path clip-path=\"url(#clip960)\" d=\"M1529.64 48.0275 L1529.64 51.6733 L1495.37 51.6733 Q1495.86 59.3701 1499.99 63.421 Q1504.16 67.4314 1511.57 67.4314 Q1515.87 67.4314 1519.88 66.3781 Q1523.93 65.3249 1527.9 63.2184 L1527.9 70.267 Q1523.89 71.9684 1519.67 72.8596 Q1515.46 73.7508 1511.13 73.7508 Q1500.27 73.7508 1493.91 67.4314 Q1487.59 61.1119 1487.59 50.3365 Q1487.59 39.1965 1493.59 32.6746 Q1499.62 26.1121 1509.83 26.1121 Q1518.99 26.1121 1524.29 32.0264 Q1529.64 37.9003 1529.64 48.0275 M1522.19 45.84 Q1522.11 39.7232 1518.74 36.0774 Q1515.42 32.4315 1509.91 32.4315 Q1503.67 32.4315 1499.91 35.9558 Q1496.18 39.4801 1495.61 45.8805 L1522.19 45.84 Z\" fill=\"#000000\" fill-rule=\"nonzero\" fill-opacity=\"1\" /><path clip-path=\"url(#clip960)\" d=\"M1568.16 34.1734 Q1566.91 33.4443 1565.41 33.1202 Q1563.95 32.7556 1562.17 32.7556 Q1555.85 32.7556 1552.45 36.8875 Q1549.08 40.9789 1549.08 48.6757 L1549.08 72.576 L1541.59 72.576 L1541.59 27.2059 L1549.08 27.2059 L1549.08 34.2544 Q1551.43 30.1225 1555.2 28.1376 Q1558.97 26.1121 1564.36 26.1121 Q1565.13 26.1121 1566.06 26.2337 Q1566.99 26.3147 1568.12 26.5172 L1568.16 34.1734 Z\" fill=\"#000000\" fill-rule=\"nonzero\" fill-opacity=\"1\" /><path clip-path=\"url(#clip960)\" d=\"M1575.98 27.2059 L1583.44 27.2059 L1583.44 72.576 L1575.98 72.576 L1575.98 27.2059 M1575.98 9.54393 L1583.44 9.54393 L1583.44 18.9825 L1575.98 18.9825 L1575.98 9.54393 Z\" fill=\"#000000\" fill-rule=\"nonzero\" fill-opacity=\"1\" /><path clip-path=\"url(#clip960)\" d=\"M1627.96 28.5427 L1627.96 35.5912 Q1624.8 33.9709 1621.39 33.1607 Q1617.99 32.3505 1614.34 32.3505 Q1608.79 32.3505 1606 34.0519 Q1603.25 35.7533 1603.25 39.156 Q1603.25 41.7486 1605.23 43.2475 Q1607.22 44.7058 1613.21 46.0426 L1615.76 46.6097 Q1623.7 48.3111 1627.02 51.4303 Q1630.39 54.509 1630.39 60.0587 Q1630.39 66.3781 1625.36 70.0644 Q1620.38 73.7508 1611.63 73.7508 Q1607.98 73.7508 1604.01 73.0216 Q1600.09 72.3329 1595.71 70.9151 L1595.71 63.2184 Q1599.84 65.3654 1603.85 66.4591 Q1607.86 67.5124 1611.79 67.5124 Q1617.06 67.5124 1619.89 65.73 Q1622.73 63.9071 1622.73 60.6258 Q1622.73 57.5877 1620.66 55.9673 Q1618.64 54.3469 1611.71 52.8481 L1609.12 52.2405 Q1602.19 50.7821 1599.11 47.7845 Q1596.03 44.7463 1596.03 39.4801 Q1596.03 33.0797 1600.57 29.5959 Q1605.11 26.1121 1613.45 26.1121 Q1617.59 26.1121 1621.23 26.7198 Q1624.88 27.3274 1627.96 28.5427 Z\" fill=\"#000000\" fill-rule=\"nonzero\" fill-opacity=\"1\" /><path clip-path=\"url(#clip960)\" d=\"M1649.63 14.324 L1649.63 27.2059 L1664.98 27.2059 L1664.98 32.9987 L1649.63 32.9987 L1649.63 57.6282 Q1649.63 63.1779 1651.13 64.7578 Q1652.67 66.3376 1657.32 66.3376 L1664.98 66.3376 L1664.98 72.576 L1657.32 72.576 Q1648.7 72.576 1645.42 69.3758 Q1642.13 66.1351 1642.13 57.6282 L1642.13 32.9987 L1636.67 32.9987 L1636.67 27.2059 L1642.13 27.2059 L1642.13 14.324 L1649.63 14.324 Z\" fill=\"#000000\" fill-rule=\"nonzero\" fill-opacity=\"1\" /><path clip-path=\"url(#clip960)\" d=\"M1674.78 27.2059 L1682.24 27.2059 L1682.24 72.576 L1674.78 72.576 L1674.78 27.2059 M1674.78 9.54393 L1682.24 9.54393 L1682.24 18.9825 L1674.78 18.9825 L1674.78 9.54393 Z\" fill=\"#000000\" fill-rule=\"nonzero\" fill-opacity=\"1\" /><path clip-path=\"url(#clip960)\" d=\"M1730.48 28.9478 L1730.48 35.9153 Q1727.32 34.1734 1724.12 33.3227 Q1720.96 32.4315 1717.72 32.4315 Q1710.47 32.4315 1706.46 37.0496 Q1702.45 41.6271 1702.45 49.9314 Q1702.45 58.2358 1706.46 62.8538 Q1710.47 67.4314 1717.72 67.4314 Q1720.96 67.4314 1724.12 66.5807 Q1727.32 65.6895 1730.48 63.9476 L1730.48 70.8341 Q1727.36 72.2924 1724 73.0216 Q1720.68 73.7508 1716.91 73.7508 Q1706.66 73.7508 1700.63 67.3098 Q1694.59 60.8689 1694.59 49.9314 Q1694.59 38.832 1700.67 32.472 Q1706.79 26.1121 1717.4 26.1121 Q1720.84 26.1121 1724.12 26.8413 Q1727.41 27.5299 1730.48 28.9478 Z\" fill=\"#000000\" fill-rule=\"nonzero\" fill-opacity=\"1\" /><path clip-path=\"url(#clip960)\" d=\"M1787.72 9.62495 Q1782.3 18.942 1779.66 28.0566 Q1777.03 37.1711 1777.03 46.5287 Q1777.03 55.8863 1779.66 65.0818 Q1782.34 74.2369 1787.72 83.5134 L1781.24 83.5134 Q1775.17 73.9938 1772.13 64.7983 Q1769.13 55.6027 1769.13 46.5287 Q1769.13 37.4952 1772.13 28.3401 Q1775.13 19.1851 1781.24 9.62495 L1787.72 9.62495 Z\" fill=\"#000000\" fill-rule=\"nonzero\" fill-opacity=\"1\" /><path clip-path=\"url(#clip960)\" d=\"M1831.19 44.2197 Q1833.82 45.1109 1836.29 48.0275 Q1838.81 50.9442 1841.32 56.0483 L1849.62 72.576 L1840.83 72.576 L1833.09 57.061 Q1830.1 50.9847 1827.26 48.9997 Q1824.47 47.0148 1819.6 47.0148 L1810.69 47.0148 L1810.69 72.576 L1802.51 72.576 L1802.51 12.096 L1820.98 12.096 Q1831.35 12.096 1836.46 16.4305 Q1841.56 20.7649 1841.56 29.5149 Q1841.56 35.2267 1838.89 38.994 Q1836.25 42.7613 1831.19 44.2197 M1810.69 18.8205 L1810.69 40.2903 L1820.98 40.2903 Q1826.9 40.2903 1829.89 37.5762 Q1832.93 34.8216 1832.93 29.5149 Q1832.93 24.2082 1829.89 21.5346 Q1826.9 18.8205 1820.98 18.8205 L1810.69 18.8205 Z\" fill=\"#000000\" fill-rule=\"nonzero\" fill-opacity=\"1\" /><path clip-path=\"url(#clip960)\" d=\"M1884.7 17.6457 Q1875.79 17.6457 1870.52 24.2892 Q1865.3 30.9327 1865.3 42.3968 Q1865.3 53.8203 1870.52 60.4638 Q1875.79 67.1073 1884.7 67.1073 Q1893.61 67.1073 1898.8 60.4638 Q1904.02 53.8203 1904.02 42.3968 Q1904.02 30.9327 1898.8 24.2892 Q1893.61 17.6457 1884.7 17.6457 M1884.7 11.0023 Q1897.42 11.0023 1905.04 19.5497 Q1912.65 28.0566 1912.65 42.3968 Q1912.65 56.6965 1905.04 65.2439 Q1897.42 73.7508 1884.7 73.7508 Q1871.94 73.7508 1864.29 65.2439 Q1856.67 56.737 1856.67 42.3968 Q1856.67 28.0566 1864.29 19.5497 Q1871.94 11.0023 1884.7 11.0023 Z\" fill=\"#000000\" fill-rule=\"nonzero\" fill-opacity=\"1\" /><path clip-path=\"url(#clip960)\" d=\"M1970.74 16.7545 L1970.74 25.383 Q1966.61 21.5346 1961.91 19.6307 Q1957.25 17.7268 1951.99 17.7268 Q1941.62 17.7268 1936.11 24.0867 Q1930.6 30.4061 1930.6 42.3968 Q1930.6 54.3469 1936.11 60.7069 Q1941.62 67.0263 1951.99 67.0263 Q1957.25 67.0263 1961.91 65.1223 Q1966.61 63.2184 1970.74 59.3701 L1970.74 67.9175 Q1966.45 70.8341 1961.63 72.2924 Q1956.85 73.7508 1951.5 73.7508 Q1937.77 73.7508 1929.87 65.3654 Q1921.97 56.9395 1921.97 42.3968 Q1921.97 27.8135 1929.87 19.4281 Q1937.77 11.0023 1951.5 11.0023 Q1956.93 11.0023 1961.71 12.4606 Q1966.53 13.8784 1970.74 16.7545 Z\" fill=\"#000000\" fill-rule=\"nonzero\" fill-opacity=\"1\" /><path clip-path=\"url(#clip960)\" d=\"M1981.88 9.62495 L1988.36 9.62495 Q1994.44 19.1851 1997.44 28.3401 Q2000.48 37.4952 2000.48 46.5287 Q2000.48 55.6027 1997.44 64.7983 Q1994.44 73.9938 1988.36 83.5134 L1981.88 83.5134 Q1987.27 74.2369 1989.9 65.0818 Q1992.58 55.8863 1992.58 46.5287 Q1992.58 37.1711 1989.9 28.0566 Q1987.27 18.942 1981.88 9.62495 Z\" fill=\"#000000\" fill-rule=\"nonzero\" fill-opacity=\"1\" /><path clip-path=\"url(#clip960)\" d=\"M2074.45 28.9478 L2074.45 35.9153 Q2071.29 34.1734 2068.09 33.3227 Q2064.93 32.4315 2061.69 32.4315 Q2054.43 32.4315 2050.42 37.0496 Q2046.41 41.6271 2046.41 49.9314 Q2046.41 58.2358 2050.42 62.8538 Q2054.43 67.4314 2061.69 67.4314 Q2064.93 67.4314 2068.09 66.5807 Q2071.29 65.6895 2074.45 63.9476 L2074.45 70.8341 Q2071.33 72.2924 2067.96 73.0216 Q2064.64 73.7508 2060.88 73.7508 Q2050.63 73.7508 2044.59 67.3098 Q2038.56 60.8689 2038.56 49.9314 Q2038.56 38.832 2044.63 32.472 Q2050.75 26.1121 2061.36 26.1121 Q2064.81 26.1121 2068.09 26.8413 Q2071.37 27.5299 2074.45 28.9478 Z\" fill=\"#000000\" fill-rule=\"nonzero\" fill-opacity=\"1\" /><path clip-path=\"url(#clip960)\" d=\"M2086.64 54.671 L2086.64 27.2059 L2094.09 27.2059 L2094.09 54.3874 Q2094.09 60.8284 2096.6 64.0691 Q2099.12 67.2693 2104.14 67.2693 Q2110.18 67.2693 2113.66 63.421 Q2117.18 59.5726 2117.18 52.9291 L2117.18 27.2059 L2124.64 27.2059 L2124.64 72.576 L2117.18 72.576 L2117.18 65.6084 Q2114.47 69.7404 2110.86 71.7658 Q2107.3 73.7508 2102.56 73.7508 Q2094.74 73.7508 2090.69 68.8897 Q2086.64 64.0286 2086.64 54.671 M2105.4 26.1121 L2105.4 26.1121 Z\" fill=\"#000000\" fill-rule=\"nonzero\" fill-opacity=\"1\" /><path clip-path=\"url(#clip960)\" d=\"M2166.28 34.1734 Q2165.02 33.4443 2163.53 33.1202 Q2162.07 32.7556 2160.28 32.7556 Q2153.97 32.7556 2150.56 36.8875 Q2147.2 40.9789 2147.2 48.6757 L2147.2 72.576 L2139.71 72.576 L2139.71 27.2059 L2147.2 27.2059 L2147.2 34.2544 Q2149.55 30.1225 2153.32 28.1376 Q2157.08 26.1121 2162.47 26.1121 Q2163.24 26.1121 2164.17 26.2337 Q2165.11 26.3147 2166.24 26.5172 L2166.28 34.1734 Z\" fill=\"#000000\" fill-rule=\"nonzero\" fill-opacity=\"1\" /><path clip-path=\"url(#clip960)\" d=\"M2168.75 27.2059 L2176.65 27.2059 L2190.83 65.2844 L2205.01 27.2059 L2212.91 27.2059 L2195.89 72.576 L2185.77 72.576 L2168.75 27.2059 Z\" fill=\"#000000\" fill-rule=\"nonzero\" fill-opacity=\"1\" /><path clip-path=\"url(#clip960)\" d=\"M2262 48.0275 L2262 51.6733 L2227.73 51.6733 Q2228.22 59.3701 2232.35 63.421 Q2236.52 67.4314 2243.94 67.4314 Q2248.23 67.4314 2252.24 66.3781 Q2256.29 65.3249 2260.26 63.2184 L2260.26 70.267 Q2256.25 71.9684 2252.04 72.8596 Q2247.83 73.7508 2243.49 73.7508 Q2232.63 73.7508 2226.27 67.4314 Q2219.95 61.1119 2219.95 50.3365 Q2219.95 39.1965 2225.95 32.6746 Q2231.99 26.1121 2242.19 26.1121 Q2251.35 26.1121 2256.66 32.0264 Q2262 37.9003 2262 48.0275 M2254.55 45.84 Q2254.47 39.7232 2251.11 36.0774 Q2247.78 32.4315 2242.28 32.4315 Q2236.04 32.4315 2232.27 35.9558 Q2228.54 39.4801 2227.98 45.8805 L2254.55 45.84 Z\" fill=\"#000000\" fill-rule=\"nonzero\" fill-opacity=\"1\" /><polyline clip-path=\"url(#clip962)\" style=\"stroke:#009af9; stroke-linecap:round; stroke-linejoin:round; stroke-width:8; stroke-opacity:1; fill:none\" points=\"309.067,1386.4 309.067,1373.21 309.067,1360.03 309.067,1346.84 309.067,1333.66 309.067,1320.47 309.067,1307.29 309.067,1294.11 309.067,1280.92 309.067,1267.74 309.067,1254.55 309.067,1241.37 309.067,1228.18 309.067,1215 309.067,1201.82 309.067,1188.63 309.067,1175.45 309.067,1162.26 309.067,1149.08 309.067,1135.89 309.067,1122.71 309.067,1109.53 309.067,1096.34 309.067,1083.16 309.067,1069.97 309.067,1056.79 309.067,1043.6 309.067,1030.42 309.067,1017.24 309.067,1004.05 309.067,990.867 309.067,977.683 309.067,964.498 309.067,951.314 309.067,938.13 309.067,924.945 309.067,911.761 309.067,898.577 309.067,885.392 309.067,872.208 309.067,859.024 309.067,845.84 309.067,832.655 309.067,819.471 326.472,819.471 326.472,806.287 326.472,793.102 326.472,779.918 326.472,766.734 326.472,753.55 326.472,740.365 326.472,727.181 326.472,713.997 326.472,700.812 326.472,687.628 326.472,674.444 326.472,661.259 326.472,648.075 326.472,634.891 326.472,621.707 326.472,608.522 326.472,595.338 326.472,582.154 326.472,568.969 326.472,555.785 326.472,542.601 326.472,529.417 343.877,529.417 343.877,516.232 361.282,516.232 361.282,503.048 378.687,503.048 378.687,489.864 378.687,476.679 378.687,463.495 378.687,450.311 378.687,437.126 396.092,437.126 396.092,423.942 396.092,410.758 413.497,410.758 413.497,397.574 413.497,384.389 413.497,371.205 413.497,358.021 430.902,358.021 430.902,344.836 448.307,344.836 465.711,344.836 465.711,331.652 465.711,318.468 483.116,318.468 500.521,318.468 500.521,305.284 517.926,305.284 517.926,292.099 517.926,278.915 517.926,265.731 535.331,265.731 535.331,252.546 552.736,252.546 570.141,252.546 570.141,239.362 587.546,239.362 604.951,239.362 622.356,239.362 639.761,239.362 657.166,239.362 674.571,239.362 691.976,239.362 709.381,239.362 726.786,239.362 744.191,239.362 761.596,239.362 779.001,239.362 796.405,239.362 796.405,226.178 813.81,226.178 831.215,226.178 848.62,226.178 866.025,226.178 883.43,226.178 900.835,226.178 918.24,226.178 935.645,226.178 953.05,226.178 970.455,226.178 987.86,226.178 1005.26,226.178 1022.67,226.178 1040.07,226.178 1057.48,226.178 1074.88,226.178 1092.29,226.178 1109.69,226.178 1127.1,226.178 1144.5,226.178 1161.91,226.178 1179.31,226.178 1196.72,226.178 1214.12,226.178 1231.53,226.178 1248.93,226.178 1266.34,226.178 1283.74,226.178 1283.74,212.993 1301.15,212.993 1318.55,212.993 1335.96,212.993 1353.36,212.993 1353.36,199.809 1370.77,199.809 1388.17,199.809 1405.58,199.809 1422.98,199.809 1440.39,199.809 1457.79,199.809 1475.2,199.809 1492.6,199.809 1510.01,199.809 1527.41,199.809 1544.82,199.809 1562.22,199.809 1579.63,199.809 1597.03,199.809 1614.44,199.809 1631.84,199.809 1649.25,199.809 1649.25,186.625 1666.65,186.625 1684.06,186.625 1701.46,186.625 1718.87,186.625 1736.27,186.625 1753.68,186.625 1771.08,186.625 1788.49,186.625 1805.89,186.625 1823.3,186.625 1840.7,186.625 1858.11,186.625 1875.51,186.625 1892.92,186.625 1910.32,186.625 1927.73,186.625 1945.13,186.625 1962.54,186.625 1979.94,186.625 1997.35,186.625 2014.75,186.625 2032.16,186.625 2049.56,186.625 2066.97,186.625 2084.37,186.625 2101.78,186.625 2119.18,186.625 2136.59,186.625 2153.99,186.625 2171.4,186.625 2171.4,173.441 2188.8,173.441 2206.21,173.441 2223.61,173.441 2241.02,173.441 2241.02,160.256 2258.42,160.256 2275.83,160.256 2293.23,160.256 \"/>\n",
       "<polyline clip-path=\"url(#clip962)\" style=\"stroke:#e26f46; stroke-linecap:round; stroke-linejoin:round; stroke-width:8; stroke-opacity:1; fill:none\" points=\"309.067,1386.4 309.067,1380.67 309.067,1374.94 309.067,1369.21 309.067,1363.48 309.067,1357.75 309.067,1352.02 309.067,1346.29 316.443,1346.29 316.443,1340.56 316.443,1334.83 316.443,1329.1 316.443,1323.37 316.443,1317.64 316.443,1311.91 316.443,1306.18 316.443,1300.45 316.443,1294.72 316.443,1288.99 316.443,1283.26 316.443,1277.53 316.443,1271.8 316.443,1266.07 316.443,1260.34 316.443,1254.61 316.443,1248.88 316.443,1243.16 316.443,1237.43 316.443,1231.7 316.443,1225.97 316.443,1220.24 316.443,1214.51 316.443,1208.78 316.443,1203.05 316.443,1197.32 316.443,1191.59 316.443,1185.86 316.443,1180.13 323.819,1180.13 323.819,1174.4 323.819,1168.67 323.819,1162.94 323.819,1157.21 323.819,1151.48 323.819,1145.75 323.819,1140.02 323.819,1134.29 323.819,1128.56 323.819,1122.83 323.819,1117.1 323.819,1111.37 323.819,1105.64 323.819,1099.91 323.819,1094.18 323.819,1088.46 323.819,1082.73 323.819,1077 323.819,1071.27 323.819,1065.54 323.819,1059.81 323.819,1054.08 323.819,1048.35 323.819,1042.62 323.819,1036.89 331.195,1036.89 331.195,1031.16 331.195,1025.43 331.195,1019.7 331.195,1013.97 331.195,1008.24 331.195,1002.51 331.195,996.781 331.195,991.052 331.195,985.322 331.195,979.592 331.195,973.863 331.195,968.133 331.195,962.404 331.195,956.674 331.195,950.944 331.195,945.215 331.195,939.485 331.195,933.755 331.195,928.026 331.195,922.296 331.195,916.567 331.195,910.837 331.195,905.107 331.195,899.378 331.195,893.648 338.571,893.648 338.571,887.918 338.571,882.189 345.947,882.189 345.947,876.459 345.947,870.73 345.947,865 345.947,859.27 345.947,853.541 345.947,847.811 345.947,842.081 345.947,836.352 345.947,830.622 345.947,824.893 345.947,819.163 345.947,813.433 345.947,807.704 345.947,801.974 345.947,796.244 345.947,790.515 345.947,784.785 345.947,779.056 345.947,773.326 345.947,767.596 353.323,767.596 353.323,761.867 353.323,756.137 353.323,750.407 353.323,744.678 353.323,738.948 353.323,733.219 353.323,727.489 353.323,721.759 353.323,716.03 353.323,710.3 353.323,704.571 353.323,698.841 353.323,693.111 353.323,687.382 353.323,681.652 353.323,675.922 353.323,670.193 353.323,664.463 353.323,658.734 353.323,653.004 353.323,647.274 353.323,641.545 353.323,635.815 360.699,635.815 368.076,635.815 375.452,635.815 375.452,630.085 375.452,624.356 375.452,618.626 375.452,612.897 375.452,607.167 375.452,601.437 375.452,595.708 382.828,595.708 390.204,595.708 390.204,589.978 390.204,584.248 397.58,584.248 404.956,584.248 404.956,578.519 404.956,572.789 404.956,567.06 404.956,561.33 412.332,561.33 412.332,555.6 412.332,549.871 412.332,544.141 412.332,538.411 412.332,532.682 412.332,526.952 412.332,521.223 412.332,515.493 419.708,515.493 419.708,509.763 419.708,504.034 419.708,498.304 419.708,492.574 427.084,492.574 427.084,486.845 427.084,481.115 427.084,475.386 434.46,475.386 434.46,469.656 434.46,463.926 441.836,463.926 441.836,458.197 449.212,458.197 456.588,458.197 463.965,458.197 463.965,452.467 471.341,452.467 478.717,452.467 478.717,446.737 478.717,441.008 478.717,435.278 486.093,435.278 486.093,429.549 486.093,423.819 493.469,423.819 493.469,418.089 493.469,412.36 493.469,406.63 493.469,400.9 493.469,395.171 493.469,389.441 500.845,389.441 500.845,383.712 508.221,383.712 508.221,377.982 515.597,377.982 515.597,372.252 522.973,372.252 530.349,372.252 530.349,366.523 537.725,366.523 537.725,360.793 537.725,355.063 545.101,355.063 545.101,349.334 552.477,349.334 552.477,343.604 559.853,343.604 559.853,337.875 567.23,337.875 567.23,332.145 567.23,326.415 574.606,326.415 581.982,326.415 581.982,320.686 581.982,314.956 581.982,309.227 589.358,309.227 596.734,309.227 596.734,303.497 596.734,297.767 604.11,297.767 604.11,292.038 611.486,292.038 611.486,286.308 611.486,280.578 611.486,274.849 618.862,274.849 626.238,274.849 633.614,274.849 640.99,274.849 648.366,274.849 655.742,274.849 663.119,274.849 670.495,274.849 677.871,274.849 677.871,269.119 685.247,269.119 692.623,269.119 699.999,269.119 707.375,269.119 714.751,269.119 722.127,269.119 722.127,263.39 729.503,263.39 736.879,263.39 736.879,257.66 744.255,257.66 751.631,257.66 759.007,257.66 759.007,251.93 766.384,251.93 773.76,251.93 781.136,251.93 788.512,251.93 795.888,251.93 803.264,251.93 810.64,251.93 818.016,251.93 825.392,251.93 825.392,246.201 832.768,246.201 832.768,240.471 840.144,240.471 847.52,240.471 854.896,240.471 862.273,240.471 869.649,240.471 877.025,240.471 884.401,240.471 891.777,240.471 899.153,240.471 906.529,240.471 913.905,240.471 921.281,240.471 928.657,240.471 936.033,240.471 943.409,240.471 950.785,240.471 958.162,240.471 965.538,240.471 972.914,240.471 980.29,240.471 987.666,240.471 995.042,240.471 1002.42,240.471 1009.79,240.471 1009.79,234.741 1009.79,229.012 1017.17,229.012 1024.55,229.012 1031.92,229.012 1039.3,229.012 1046.67,229.012 1054.05,229.012 1061.43,229.012 1068.8,229.012 1076.18,229.012 1083.55,229.012 1090.93,229.012 1098.31,229.012 1098.31,223.282 1105.68,223.282 1113.06,223.282 1120.44,223.282 1127.81,223.282 1135.19,223.282 1142.56,223.282 1149.94,223.282 1157.32,223.282 1157.32,217.553 1164.69,217.553 1172.07,217.553 1179.44,217.553 1186.82,217.553 1194.2,217.553 1201.57,217.553 1208.95,217.553 1208.95,211.823 1216.32,211.823 1223.7,211.823 1231.08,211.823 1238.45,211.823 1245.83,211.823 1245.83,206.093 1253.2,206.093 1260.58,206.093 1260.58,200.364 1267.96,200.364 1275.33,200.364 1282.71,200.364 1290.08,200.364 1297.46,200.364 1304.84,200.364 1312.21,200.364 1319.59,200.364 1326.97,200.364 1326.97,194.634 1334.34,194.634 1334.34,188.904 1341.72,188.904 1349.09,188.904 1356.47,188.904 1363.85,188.904 1371.22,188.904 1378.6,188.904 1378.6,183.175 1385.97,183.175 1393.35,183.175 1400.73,183.175 1408.1,183.175 1408.1,177.445 1415.48,177.445 1422.85,177.445 1430.23,177.445 1430.23,171.716 1437.61,171.716 1444.98,171.716 1452.36,171.716 1459.73,171.716 1467.11,171.716 1474.49,171.716 1481.86,171.716 1489.24,171.716 1496.61,171.716 1503.99,171.716 1511.37,171.716 1518.74,171.716 1526.12,171.716 1526.12,165.986 1533.5,165.986 1540.87,165.986 1548.25,165.986 1555.62,165.986 1563,165.986 1570.38,165.986 1577.75,165.986 1585.13,165.986 1592.5,165.986 1599.88,165.986 1607.26,165.986 1614.63,165.986 1622.01,165.986 1622.01,160.256 1629.38,160.256 1636.76,160.256 1644.14,160.256 1651.51,160.256 1658.89,160.256 1666.26,160.256 1673.64,160.256 1681.02,160.256 1688.39,160.256 1695.77,160.256 1703.15,160.256 1710.52,160.256 1717.9,160.256 1725.27,160.256 1732.65,160.256 1740.03,160.256 1747.4,160.256 1754.78,160.256 1762.15,160.256 1769.53,160.256 1776.91,160.256 1784.28,160.256 1791.66,160.256 1799.03,160.256 1806.41,160.256 1813.79,160.256 1821.16,160.256 1828.54,160.256 1835.91,160.256 1843.29,160.256 1850.67,160.256 1858.04,160.256 1865.42,160.256 1872.79,160.256 1880.17,160.256 1887.55,160.256 1894.92,160.256 1902.3,160.256 1909.68,160.256 1917.05,160.256 1924.43,160.256 1931.8,160.256 1939.18,160.256 1946.56,160.256 1953.93,160.256 1961.31,160.256 1968.68,160.256 1976.06,160.256 1983.44,160.256 1990.81,160.256 1998.19,160.256 2005.56,160.256 2012.94,160.256 2020.32,160.256 2027.69,160.256 2035.07,160.256 2042.44,160.256 2049.82,160.256 2057.2,160.256 2064.57,160.256 2071.95,160.256 2079.32,160.256 2086.7,160.256 2094.08,160.256 2101.45,160.256 2108.83,160.256 2116.21,160.256 2123.58,160.256 2130.96,160.256 2138.33,160.256 2145.71,160.256 2153.09,160.256 2160.46,160.256 2167.84,160.256 2175.21,160.256 2182.59,160.256 2189.97,160.256 2197.34,160.256 2204.72,160.256 2212.09,160.256 2219.47,160.256 2226.85,160.256 2234.22,160.256 2241.6,160.256 2248.97,160.256 2256.35,160.256 2263.73,160.256 2271.1,160.256 2278.48,160.256 2285.85,160.256 2293.23,160.256 \"/>\n",
       "<polyline clip-path=\"url(#clip962)\" style=\"stroke:#3da44d; stroke-linecap:round; stroke-linejoin:round; stroke-width:8; stroke-opacity:1; fill:none\" points=\"309.067,1386.4 309.067,1373.21 309.067,1360.03 309.067,1346.84 309.067,1333.66 309.067,1320.47 309.067,1307.29 309.067,1294.11 309.067,1280.92 309.067,1267.74 309.067,1254.55 309.067,1241.37 309.067,1228.18 309.067,1215 309.067,1201.82 309.067,1188.63 309.067,1175.45 309.067,1162.26 309.067,1149.08 309.067,1135.89 309.067,1122.71 309.067,1109.53 309.067,1096.34 309.067,1083.16 309.067,1069.97 309.067,1056.79 309.067,1043.6 309.067,1030.42 309.067,1017.24 309.067,1004.05 309.067,990.867 309.067,977.683 309.067,964.498 309.067,951.314 309.067,938.13 309.067,924.945 309.067,911.761 309.067,898.577 309.067,885.392 309.067,872.208 309.067,859.024 309.067,845.84 309.067,832.655 309.067,819.471 309.067,806.287 309.067,793.102 309.067,779.918 309.067,766.734 309.067,753.55 309.067,740.365 309.067,727.181 309.067,713.997 309.067,700.812 309.067,687.628 309.067,674.444 309.067,661.259 309.067,648.075 309.067,634.891 309.067,621.707 309.067,608.522 309.067,595.338 309.067,582.154 309.067,568.969 309.067,555.785 309.067,542.601 309.067,529.417 309.067,516.232 309.067,503.048 309.067,489.864 309.067,476.679 309.067,463.495 309.067,450.311 309.067,437.126 309.067,423.942 309.067,410.758 309.067,397.574 309.067,384.389 309.067,371.205 309.067,358.021 309.067,344.836 309.067,331.652 309.067,318.468 309.067,305.284 309.067,292.099 309.067,278.915 309.067,265.731 309.067,252.546 309.067,239.362 309.067,226.178 309.067,212.993 309.067,199.809 309.067,186.625 309.067,173.441 309.067,160.256 326.472,160.256 343.877,160.256 361.282,160.256 378.687,160.256 396.092,160.256 413.497,160.256 430.902,160.256 448.307,160.256 465.711,160.256 483.116,160.256 500.521,160.256 517.926,160.256 535.331,160.256 552.736,160.256 570.141,160.256 587.546,160.256 604.951,160.256 622.356,160.256 639.761,160.256 657.166,160.256 674.571,160.256 691.976,160.256 709.381,160.256 726.786,160.256 744.191,160.256 761.596,160.256 779.001,160.256 796.405,160.256 813.81,160.256 831.215,160.256 848.62,160.256 866.025,160.256 883.43,160.256 900.835,160.256 918.24,160.256 935.645,160.256 953.05,160.256 970.455,160.256 987.86,160.256 1005.26,160.256 1022.67,160.256 1040.07,160.256 1057.48,160.256 1074.88,160.256 1092.29,160.256 1109.69,160.256 1127.1,160.256 1144.5,160.256 1161.91,160.256 1179.31,160.256 1196.72,160.256 1214.12,160.256 1231.53,160.256 1248.93,160.256 1266.34,160.256 1283.74,160.256 1301.15,160.256 1318.55,160.256 1335.96,160.256 1353.36,160.256 1370.77,160.256 1388.17,160.256 1405.58,160.256 1422.98,160.256 1440.39,160.256 1457.79,160.256 1475.2,160.256 1492.6,160.256 1510.01,160.256 1527.41,160.256 1544.82,160.256 1562.22,160.256 1579.63,160.256 1597.03,160.256 1614.44,160.256 1631.84,160.256 1649.25,160.256 1666.65,160.256 1684.06,160.256 1701.46,160.256 1718.87,160.256 1736.27,160.256 1753.68,160.256 1771.08,160.256 1788.49,160.256 1805.89,160.256 1823.3,160.256 1840.7,160.256 1858.11,160.256 1875.51,160.256 1892.92,160.256 1910.32,160.256 1927.73,160.256 1945.13,160.256 1962.54,160.256 1979.94,160.256 1997.35,160.256 2014.75,160.256 2032.16,160.256 2049.56,160.256 2066.97,160.256 2084.37,160.256 2101.78,160.256 2119.18,160.256 2136.59,160.256 2153.99,160.256 2171.4,160.256 2188.8,160.256 2206.21,160.256 2223.61,160.256 2241.02,160.256 2258.42,160.256 2275.83,160.256 2293.23,160.256 \"/>\n",
       "<polyline clip-path=\"url(#clip962)\" style=\"stroke:#c271d2; stroke-linecap:round; stroke-linejoin:round; stroke-width:8; stroke-opacity:1; fill:none\" points=\"309.067,1386.4 326.472,1386.4 343.877,1386.4 343.877,1373.21 361.282,1373.21 378.687,1373.21 378.687,1360.03 396.092,1360.03 396.092,1346.84 396.092,1333.66 396.092,1320.47 413.497,1320.47 413.497,1307.29 413.497,1294.11 413.497,1280.92 430.902,1280.92 430.902,1267.74 430.902,1254.55 448.307,1254.55 465.711,1254.55 465.711,1241.37 483.116,1241.37 483.116,1228.18 483.116,1215 500.521,1215 517.926,1215 535.331,1215 552.736,1215 570.141,1215 570.141,1201.82 587.546,1201.82 604.951,1201.82 622.356,1201.82 639.761,1201.82 657.166,1201.82 674.571,1201.82 674.571,1188.63 691.976,1188.63 709.381,1188.63 726.786,1188.63 744.191,1188.63 761.596,1188.63 761.596,1175.45 779.001,1175.45 779.001,1162.26 779.001,1149.08 779.001,1135.89 779.001,1122.71 779.001,1109.53 779.001,1096.34 796.405,1096.34 796.405,1083.16 796.405,1069.97 796.405,1056.79 813.81,1056.79 831.215,1056.79 848.62,1056.79 866.025,1056.79 866.025,1043.6 883.43,1043.6 883.43,1030.42 883.43,1017.24 900.835,1017.24 918.24,1017.24 935.645,1017.24 935.645,1004.05 953.05,1004.05 953.05,990.867 953.05,977.683 953.05,964.498 953.05,951.314 953.05,938.13 970.455,938.13 987.86,938.13 987.86,924.945 1005.26,924.945 1005.26,911.761 1022.67,911.761 1040.07,911.761 1057.48,911.761 1057.48,898.577 1074.88,898.577 1074.88,885.392 1092.29,885.392 1092.29,872.208 1109.69,872.208 1127.1,872.208 1144.5,872.208 1161.91,872.208 1161.91,859.024 1179.31,859.024 1179.31,845.84 1179.31,832.655 1196.72,832.655 1214.12,832.655 1231.53,832.655 1248.93,832.655 1248.93,819.471 1248.93,806.287 1266.34,806.287 1283.74,806.287 1301.15,806.287 1301.15,793.102 1318.55,793.102 1318.55,779.918 1335.96,779.918 1353.36,779.918 1353.36,766.734 1370.77,766.734 1370.77,753.55 1370.77,740.365 1370.77,727.181 1370.77,713.997 1370.77,700.812 1388.17,700.812 1405.58,700.812 1422.98,700.812 1440.39,700.812 1457.79,700.812 1475.2,700.812 1475.2,687.628 1492.6,687.628 1510.01,687.628 1510.01,674.444 1527.41,674.444 1544.82,674.444 1562.22,674.444 1562.22,661.259 1562.22,648.075 1579.63,648.075 1597.03,648.075 1597.03,634.891 1614.44,634.891 1631.84,634.891 1649.25,634.891 1649.25,621.707 1649.25,608.522 1649.25,595.338 1649.25,582.154 1649.25,568.969 1649.25,555.785 1649.25,542.601 1666.65,542.601 1684.06,542.601 1684.06,529.417 1684.06,516.232 1701.46,516.232 1718.87,516.232 1736.27,516.232 1753.68,516.232 1753.68,503.048 1771.08,503.048 1771.08,489.864 1771.08,476.679 1771.08,463.495 1788.49,463.495 1788.49,450.311 1788.49,437.126 1788.49,423.942 1805.89,423.942 1823.3,423.942 1840.7,423.942 1858.11,423.942 1875.51,423.942 1892.92,423.942 1910.32,423.942 1927.73,423.942 1945.13,423.942 1945.13,410.758 1945.13,397.574 1962.54,397.574 1962.54,384.389 1962.54,371.205 1979.94,371.205 1997.35,371.205 1997.35,358.021 1997.35,344.836 1997.35,331.652 2014.75,331.652 2014.75,318.468 2032.16,318.468 2032.16,305.284 2049.56,305.284 2049.56,292.099 2049.56,278.915 2066.97,278.915 2066.97,265.731 2066.97,252.546 2066.97,239.362 2066.97,226.178 2066.97,212.993 2084.37,212.993 2101.78,212.993 2119.18,212.993 2136.59,212.993 2136.59,199.809 2136.59,186.625 2153.99,186.625 2171.4,186.625 2188.8,186.625 2188.8,173.441 2206.21,173.441 2223.61,173.441 2241.02,173.441 2258.42,173.441 2275.83,173.441 2293.23,173.441 2293.23,160.256 \"/>\n",
       "<polyline clip-path=\"url(#clip962)\" style=\"stroke:#ac8d18; stroke-linecap:round; stroke-linejoin:round; stroke-width:4; stroke-opacity:1; fill:none\" stroke-dasharray=\"16, 10\" points=\"-1853.67,2722.89 4455.97,-1176.24 \"/>\n",
       "<path clip-path=\"url(#clip960)\" d=\"M1854.55 1379.86 L2282.65 1379.86 L2282.65 1068.82 L1854.55 1068.82  Z\" fill=\"#ffffff\" fill-rule=\"evenodd\" fill-opacity=\"1\"/>\n",
       "<polyline clip-path=\"url(#clip960)\" style=\"stroke:#000000; stroke-linecap:round; stroke-linejoin:round; stroke-width:4; stroke-opacity:1; fill:none\" points=\"1854.55,1379.86 2282.65,1379.86 2282.65,1068.82 1854.55,1068.82 1854.55,1379.86 \"/>\n",
       "<polyline clip-path=\"url(#clip960)\" style=\"stroke:#009af9; stroke-linecap:round; stroke-linejoin:round; stroke-width:8; stroke-opacity:1; fill:none\" points=\"1877.92,1120.66 2018.13,1120.66 \"/>\n",
       "<path clip-path=\"url(#clip960)\" d=\"M2041.5 1103.38 L2070.74 1103.38 L2070.74 1107.31 L2058.47 1107.31 L2058.47 1137.94 L2053.77 1137.94 L2053.77 1107.31 L2041.5 1107.31 L2041.5 1103.38 Z\" fill=\"#000000\" fill-rule=\"nonzero\" fill-opacity=\"1\" /><path clip-path=\"url(#clip960)\" d=\"M2089.19 1123.91 L2089.19 1125.99 L2069.6 1125.99 Q2069.88 1130.39 2072.24 1132.7 Q2074.63 1135 2078.86 1135 Q2081.32 1135 2083.61 1134.39 Q2085.92 1133.79 2088.19 1132.59 L2088.19 1136.62 Q2085.9 1137.59 2083.49 1138.1 Q2081.09 1138.61 2078.61 1138.61 Q2072.41 1138.61 2068.77 1135 Q2065.16 1131.39 2065.16 1125.23 Q2065.16 1118.86 2068.59 1115.14 Q2072.04 1111.39 2077.87 1111.39 Q2083.1 1111.39 2086.13 1114.77 Q2089.19 1118.12 2089.19 1123.91 M2084.93 1122.66 Q2084.88 1119.16 2082.96 1117.08 Q2081.06 1115 2077.91 1115 Q2074.35 1115 2072.2 1117.01 Q2070.07 1119.02 2069.74 1122.68 L2084.93 1122.66 Z\" fill=\"#000000\" fill-rule=\"nonzero\" fill-opacity=\"1\" /><path clip-path=\"url(#clip960)\" d=\"M2112.71 1112.77 L2112.71 1116.8 Q2110.9 1115.88 2108.96 1115.41 Q2107.01 1114.95 2104.93 1114.95 Q2101.76 1114.95 2100.16 1115.92 Q2098.59 1116.89 2098.59 1118.84 Q2098.59 1120.32 2099.72 1121.18 Q2100.85 1122.01 2104.28 1122.77 L2105.74 1123.1 Q2110.28 1124.07 2112.17 1125.85 Q2114.1 1127.61 2114.1 1130.78 Q2114.1 1134.39 2111.22 1136.5 Q2108.38 1138.61 2103.38 1138.61 Q2101.29 1138.61 2099.03 1138.19 Q2096.78 1137.8 2094.28 1136.99 L2094.28 1132.59 Q2096.64 1133.82 2098.93 1134.44 Q2101.23 1135.04 2103.47 1135.04 Q2106.48 1135.04 2108.1 1134.02 Q2109.72 1132.98 2109.72 1131.11 Q2109.72 1129.37 2108.54 1128.45 Q2107.38 1127.52 2103.42 1126.66 L2101.94 1126.32 Q2097.98 1125.48 2096.23 1123.77 Q2094.47 1122.03 2094.47 1119.02 Q2094.47 1115.37 2097.06 1113.38 Q2099.65 1111.39 2104.42 1111.39 Q2106.78 1111.39 2108.86 1111.73 Q2110.95 1112.08 2112.71 1112.77 Z\" fill=\"#000000\" fill-rule=\"nonzero\" fill-opacity=\"1\" /><path clip-path=\"url(#clip960)\" d=\"M2125.09 1104.65 L2125.09 1112.01 L2133.86 1112.01 L2133.86 1115.32 L2125.09 1115.32 L2125.09 1129.39 Q2125.09 1132.57 2125.95 1133.47 Q2126.83 1134.37 2129.49 1134.37 L2133.86 1134.37 L2133.86 1137.94 L2129.49 1137.94 Q2124.56 1137.94 2122.68 1136.11 Q2120.81 1134.26 2120.81 1129.39 L2120.81 1115.32 L2117.68 1115.32 L2117.68 1112.01 L2120.81 1112.01 L2120.81 1104.65 L2125.09 1104.65 Z\" fill=\"#000000\" fill-rule=\"nonzero\" fill-opacity=\"1\" /><polyline clip-path=\"url(#clip960)\" style=\"stroke:#e26f46; stroke-linecap:round; stroke-linejoin:round; stroke-width:8; stroke-opacity:1; fill:none\" points=\"1877.92,1172.5 2018.13,1172.5 \"/>\n",
       "<path clip-path=\"url(#clip960)\" d=\"M2041.5 1155.22 L2070.74 1155.22 L2070.74 1159.15 L2058.47 1159.15 L2058.47 1189.78 L2053.77 1189.78 L2053.77 1159.15 L2041.5 1159.15 L2041.5 1155.22 Z\" fill=\"#000000\" fill-rule=\"nonzero\" fill-opacity=\"1\" /><path clip-path=\"url(#clip960)\" d=\"M2083.12 1167.83 Q2082.41 1167.42 2081.55 1167.23 Q2080.72 1167.02 2079.7 1167.02 Q2076.09 1167.02 2074.14 1169.38 Q2072.22 1171.72 2072.22 1176.12 L2072.22 1189.78 L2067.94 1189.78 L2067.94 1163.85 L2072.22 1163.85 L2072.22 1167.88 Q2073.56 1165.52 2075.72 1164.38 Q2077.87 1163.23 2080.95 1163.23 Q2081.39 1163.23 2081.92 1163.29 Q2082.45 1163.34 2083.1 1163.46 L2083.12 1167.83 Z\" fill=\"#000000\" fill-rule=\"nonzero\" fill-opacity=\"1\" /><path clip-path=\"url(#clip960)\" d=\"M2099.37 1176.74 Q2094.21 1176.74 2092.22 1177.92 Q2090.23 1179.11 2090.23 1181.95 Q2090.23 1184.22 2091.71 1185.56 Q2093.22 1186.88 2095.79 1186.88 Q2099.33 1186.88 2101.46 1184.38 Q2103.61 1181.86 2103.61 1177.69 L2103.61 1176.74 L2099.37 1176.74 M2107.87 1174.98 L2107.87 1189.78 L2103.61 1189.78 L2103.61 1185.84 Q2102.15 1188.2 2099.98 1189.34 Q2097.8 1190.45 2094.65 1190.45 Q2090.67 1190.45 2088.31 1188.23 Q2085.97 1185.98 2085.97 1182.23 Q2085.97 1177.86 2088.89 1175.63 Q2091.83 1173.41 2097.64 1173.41 L2103.61 1173.41 L2103.61 1172.99 Q2103.61 1170.05 2101.66 1168.46 Q2099.74 1166.84 2096.25 1166.84 Q2094.03 1166.84 2091.92 1167.37 Q2089.81 1167.9 2087.87 1168.97 L2087.87 1165.03 Q2090.21 1164.13 2092.41 1163.69 Q2094.6 1163.23 2096.69 1163.23 Q2102.31 1163.23 2105.09 1166.14 Q2107.87 1169.06 2107.87 1174.98 Z\" fill=\"#000000\" fill-rule=\"nonzero\" fill-opacity=\"1\" /><path clip-path=\"url(#clip960)\" d=\"M2116.64 1163.85 L2120.9 1163.85 L2120.9 1189.78 L2116.64 1189.78 L2116.64 1163.85 M2116.64 1153.76 L2120.9 1153.76 L2120.9 1159.15 L2116.64 1159.15 L2116.64 1153.76 Z\" fill=\"#000000\" fill-rule=\"nonzero\" fill-opacity=\"1\" /><path clip-path=\"url(#clip960)\" d=\"M2151.36 1174.13 L2151.36 1189.78 L2147.1 1189.78 L2147.1 1174.27 Q2147.1 1170.59 2145.67 1168.76 Q2144.23 1166.93 2141.36 1166.93 Q2137.91 1166.93 2135.92 1169.13 Q2133.93 1171.33 2133.93 1175.12 L2133.93 1189.78 L2129.65 1189.78 L2129.65 1163.85 L2133.93 1163.85 L2133.93 1167.88 Q2135.46 1165.54 2137.52 1164.38 Q2139.6 1163.23 2142.31 1163.23 Q2146.78 1163.23 2149.07 1166 Q2151.36 1168.76 2151.36 1174.13 Z\" fill=\"#000000\" fill-rule=\"nonzero\" fill-opacity=\"1\" /><polyline clip-path=\"url(#clip960)\" style=\"stroke:#3da44d; stroke-linecap:round; stroke-linejoin:round; stroke-width:8; stroke-opacity:1; fill:none\" points=\"1877.92,1224.34 2018.13,1224.34 \"/>\n",
       "<path clip-path=\"url(#clip960)\" d=\"M2041.5 1207.06 L2046.23 1207.06 L2053.49 1236.27 L2060.74 1207.06 L2065.99 1207.06 L2073.26 1236.27 L2080.51 1207.06 L2085.25 1207.06 L2076.57 1241.62 L2070.69 1241.62 L2063.4 1211.62 L2056.04 1241.62 L2050.16 1241.62 L2041.5 1207.06 Z\" fill=\"#000000\" fill-rule=\"nonzero\" fill-opacity=\"1\" /><path clip-path=\"url(#clip960)\" d=\"M2090.23 1215.69 L2094.49 1215.69 L2094.49 1241.62 L2090.23 1241.62 L2090.23 1215.69 M2090.23 1205.6 L2094.49 1205.6 L2094.49 1210.99 L2090.23 1210.99 L2090.23 1205.6 Z\" fill=\"#000000\" fill-rule=\"nonzero\" fill-opacity=\"1\" /><path clip-path=\"url(#clip960)\" d=\"M2101.55 1215.69 L2121.78 1215.69 L2121.78 1219.58 L2105.76 1238.21 L2121.78 1238.21 L2121.78 1241.62 L2100.97 1241.62 L2100.97 1237.73 L2116.99 1219.09 L2101.55 1219.09 L2101.55 1215.69 Z\" fill=\"#000000\" fill-rule=\"nonzero\" fill-opacity=\"1\" /><path clip-path=\"url(#clip960)\" d=\"M2140.07 1228.58 Q2134.91 1228.58 2132.91 1229.76 Q2130.92 1230.95 2130.92 1233.79 Q2130.92 1236.06 2132.41 1237.4 Q2133.91 1238.72 2136.48 1238.72 Q2140.02 1238.72 2142.15 1236.22 Q2144.3 1233.7 2144.3 1229.53 L2144.3 1228.58 L2140.07 1228.58 M2148.56 1226.82 L2148.56 1241.62 L2144.3 1241.62 L2144.3 1237.68 Q2142.85 1240.04 2140.67 1241.18 Q2138.49 1242.29 2135.35 1242.29 Q2131.36 1242.29 2129 1240.07 Q2126.66 1237.82 2126.66 1234.07 Q2126.66 1229.7 2129.58 1227.47 Q2132.52 1225.25 2138.33 1225.25 L2144.3 1225.25 L2144.3 1224.83 Q2144.3 1221.89 2142.36 1220.3 Q2140.44 1218.68 2136.94 1218.68 Q2134.72 1218.68 2132.61 1219.21 Q2130.51 1219.74 2128.56 1220.81 L2128.56 1216.87 Q2130.9 1215.97 2133.1 1215.53 Q2135.3 1215.07 2137.38 1215.07 Q2143.01 1215.07 2145.78 1217.98 Q2148.56 1220.9 2148.56 1226.82 Z\" fill=\"#000000\" fill-rule=\"nonzero\" fill-opacity=\"1\" /><path clip-path=\"url(#clip960)\" d=\"M2172.36 1219.67 Q2171.64 1219.26 2170.78 1219.07 Q2169.95 1218.86 2168.93 1218.86 Q2165.32 1218.86 2163.38 1221.22 Q2161.46 1223.56 2161.46 1227.96 L2161.46 1241.62 L2157.17 1241.62 L2157.17 1215.69 L2161.46 1215.69 L2161.46 1219.72 Q2162.8 1217.36 2164.95 1216.22 Q2167.1 1215.07 2170.18 1215.07 Q2170.62 1215.07 2171.16 1215.13 Q2171.69 1215.18 2172.34 1215.3 L2172.36 1219.67 Z\" fill=\"#000000\" fill-rule=\"nonzero\" fill-opacity=\"1\" /><path clip-path=\"url(#clip960)\" d=\"M2193.05 1219.63 L2193.05 1205.6 L2197.31 1205.6 L2197.31 1241.62 L2193.05 1241.62 L2193.05 1237.73 Q2191.71 1240.04 2189.65 1241.18 Q2187.61 1242.29 2184.74 1242.29 Q2180.04 1242.29 2177.08 1238.54 Q2174.14 1234.79 2174.14 1228.68 Q2174.14 1222.57 2177.08 1218.82 Q2180.04 1215.07 2184.74 1215.07 Q2187.61 1215.07 2189.65 1216.2 Q2191.71 1217.31 2193.05 1219.63 M2178.54 1228.68 Q2178.54 1233.38 2180.46 1236.06 Q2182.41 1238.72 2185.78 1238.72 Q2189.16 1238.72 2191.11 1236.06 Q2193.05 1233.38 2193.05 1228.68 Q2193.05 1223.98 2191.11 1221.32 Q2189.16 1218.63 2185.78 1218.63 Q2182.41 1218.63 2180.46 1221.32 Q2178.54 1223.98 2178.54 1228.68 Z\" fill=\"#000000\" fill-rule=\"nonzero\" fill-opacity=\"1\" /><polyline clip-path=\"url(#clip960)\" style=\"stroke:#c271d2; stroke-linecap:round; stroke-linejoin:round; stroke-width:8; stroke-opacity:1; fill:none\" points=\"1877.92,1276.18 2018.13,1276.18 \"/>\n",
       "<path clip-path=\"url(#clip960)\" d=\"M2057.89 1277.25 Q2059.4 1277.76 2060.81 1279.43 Q2062.24 1281.1 2063.68 1284.01 L2068.42 1293.46 L2063.4 1293.46 L2058.98 1284.59 Q2057.27 1281.12 2055.65 1279.98 Q2054.05 1278.85 2051.27 1278.85 L2046.18 1278.85 L2046.18 1293.46 L2041.5 1293.46 L2041.5 1258.9 L2052.06 1258.9 Q2057.98 1258.9 2060.9 1261.37 Q2063.82 1263.85 2063.82 1268.85 Q2063.82 1272.11 2062.29 1274.27 Q2060.79 1276.42 2057.89 1277.25 M2046.18 1262.74 L2046.18 1275.01 L2052.06 1275.01 Q2055.44 1275.01 2057.15 1273.46 Q2058.89 1271.88 2058.89 1268.85 Q2058.89 1265.82 2057.15 1264.29 Q2055.44 1262.74 2052.06 1262.74 L2046.18 1262.74 Z\" fill=\"#000000\" fill-rule=\"nonzero\" fill-opacity=\"1\" /><path clip-path=\"url(#clip960)\" d=\"M2085 1280.42 Q2079.84 1280.42 2077.85 1281.6 Q2075.85 1282.79 2075.85 1285.63 Q2075.85 1287.9 2077.34 1289.24 Q2078.84 1290.56 2081.41 1290.56 Q2084.95 1290.56 2087.08 1288.06 Q2089.23 1285.54 2089.23 1281.37 L2089.23 1280.42 L2085 1280.42 M2093.49 1278.66 L2093.49 1293.46 L2089.23 1293.46 L2089.23 1289.52 Q2087.78 1291.88 2085.6 1293.02 Q2083.42 1294.13 2080.28 1294.13 Q2076.29 1294.13 2073.93 1291.91 Q2071.6 1289.66 2071.6 1285.91 Q2071.6 1281.54 2074.51 1279.31 Q2077.45 1277.09 2083.26 1277.09 L2089.23 1277.09 L2089.23 1276.67 Q2089.23 1273.73 2087.29 1272.14 Q2085.37 1270.52 2081.87 1270.52 Q2079.65 1270.52 2077.54 1271.05 Q2075.44 1271.58 2073.49 1272.65 L2073.49 1268.71 Q2075.83 1267.81 2078.03 1267.37 Q2080.23 1266.91 2082.31 1266.91 Q2087.94 1266.91 2090.72 1269.82 Q2093.49 1272.74 2093.49 1278.66 Z\" fill=\"#000000\" fill-rule=\"nonzero\" fill-opacity=\"1\" /><path clip-path=\"url(#clip960)\" d=\"M2123.82 1277.81 L2123.82 1293.46 L2119.56 1293.46 L2119.56 1277.95 Q2119.56 1274.27 2118.12 1272.44 Q2116.69 1270.61 2113.82 1270.61 Q2110.37 1270.61 2108.38 1272.81 Q2106.39 1275.01 2106.39 1278.8 L2106.39 1293.46 L2102.1 1293.46 L2102.1 1267.53 L2106.39 1267.53 L2106.39 1271.56 Q2107.91 1269.22 2109.97 1268.06 Q2112.06 1266.91 2114.77 1266.91 Q2119.23 1266.91 2121.53 1269.68 Q2123.82 1272.44 2123.82 1277.81 Z\" fill=\"#000000\" fill-rule=\"nonzero\" fill-opacity=\"1\" /><path clip-path=\"url(#clip960)\" d=\"M2149.37 1271.47 L2149.37 1257.44 L2153.63 1257.44 L2153.63 1293.46 L2149.37 1293.46 L2149.37 1289.57 Q2148.03 1291.88 2145.97 1293.02 Q2143.93 1294.13 2141.06 1294.13 Q2136.36 1294.13 2133.4 1290.38 Q2130.46 1286.63 2130.46 1280.52 Q2130.46 1274.41 2133.4 1270.66 Q2136.36 1266.91 2141.06 1266.91 Q2143.93 1266.91 2145.97 1268.04 Q2148.03 1269.15 2149.37 1271.47 M2134.86 1280.52 Q2134.86 1285.22 2136.78 1287.9 Q2138.72 1290.56 2142.1 1290.56 Q2145.48 1290.56 2147.43 1287.9 Q2149.37 1285.22 2149.37 1280.52 Q2149.37 1275.82 2147.43 1273.16 Q2145.48 1270.47 2142.1 1270.47 Q2138.72 1270.47 2136.78 1273.16 Q2134.86 1275.82 2134.86 1280.52 Z\" fill=\"#000000\" fill-rule=\"nonzero\" fill-opacity=\"1\" /><path clip-path=\"url(#clip960)\" d=\"M2172.45 1270.52 Q2169.03 1270.52 2167.03 1273.2 Q2165.04 1275.86 2165.04 1280.52 Q2165.04 1285.17 2167.01 1287.85 Q2169 1290.52 2172.45 1290.52 Q2175.85 1290.52 2177.84 1287.83 Q2179.84 1285.15 2179.84 1280.52 Q2179.84 1275.91 2177.84 1273.22 Q2175.85 1270.52 2172.45 1270.52 M2172.45 1266.91 Q2178.01 1266.91 2181.18 1270.52 Q2184.35 1274.13 2184.35 1280.52 Q2184.35 1286.88 2181.18 1290.52 Q2178.01 1294.13 2172.45 1294.13 Q2166.87 1294.13 2163.7 1290.52 Q2160.55 1286.88 2160.55 1280.52 Q2160.55 1274.13 2163.7 1270.52 Q2166.87 1266.91 2172.45 1266.91 Z\" fill=\"#000000\" fill-rule=\"nonzero\" fill-opacity=\"1\" /><path clip-path=\"url(#clip960)\" d=\"M2211.59 1272.51 Q2213.19 1269.64 2215.41 1268.27 Q2217.64 1266.91 2220.65 1266.91 Q2224.7 1266.91 2226.9 1269.75 Q2229.09 1272.58 2229.09 1277.81 L2229.09 1293.46 L2224.81 1293.46 L2224.81 1277.95 Q2224.81 1274.22 2223.49 1272.41 Q2222.17 1270.61 2219.47 1270.61 Q2216.15 1270.61 2214.23 1272.81 Q2212.31 1275.01 2212.31 1278.8 L2212.31 1293.46 L2208.03 1293.46 L2208.03 1277.95 Q2208.03 1274.2 2206.71 1272.41 Q2205.39 1270.61 2202.64 1270.61 Q2199.37 1270.61 2197.45 1272.83 Q2195.53 1275.03 2195.53 1278.8 L2195.53 1293.46 L2191.25 1293.46 L2191.25 1267.53 L2195.53 1267.53 L2195.53 1271.56 Q2196.99 1269.17 2199.03 1268.04 Q2201.06 1266.91 2203.86 1266.91 Q2206.69 1266.91 2208.66 1268.34 Q2210.65 1269.78 2211.59 1272.51 Z\" fill=\"#000000\" fill-rule=\"nonzero\" fill-opacity=\"1\" /><polyline clip-path=\"url(#clip960)\" style=\"stroke:#ac8d18; stroke-linecap:round; stroke-linejoin:round; stroke-width:4; stroke-opacity:1; fill:none\" stroke-dasharray=\"16, 10\" points=\"1877.92,1328.02 2018.13,1328.02 \"/>\n",
       "<path clip-path=\"url(#clip960)\" d=\"M2041.5 1310.74 L2070.74 1310.74 L2070.74 1314.67 L2058.47 1314.67 L2058.47 1345.3 L2053.77 1345.3 L2053.77 1314.67 L2041.5 1314.67 L2041.5 1310.74 Z\" fill=\"#000000\" fill-rule=\"nonzero\" fill-opacity=\"1\" /><path clip-path=\"url(#clip960)\" d=\"M2079.93 1314.58 L2079.93 1327.56 L2085.81 1327.56 Q2089.07 1327.56 2090.85 1325.88 Q2092.64 1324.19 2092.64 1321.06 Q2092.64 1317.96 2090.85 1316.27 Q2089.07 1314.58 2085.81 1314.58 L2079.93 1314.58 M2075.25 1310.74 L2085.81 1310.74 Q2091.62 1310.74 2094.58 1313.38 Q2097.57 1315.99 2097.57 1321.06 Q2097.57 1326.18 2094.58 1328.79 Q2091.62 1331.41 2085.81 1331.41 L2079.93 1331.41 L2079.93 1345.3 L2075.25 1345.3 L2075.25 1310.74 Z\" fill=\"#000000\" fill-rule=\"nonzero\" fill-opacity=\"1\" /><path clip-path=\"url(#clip960)\" d=\"M2120.23 1329.09 Q2121.73 1329.6 2123.15 1331.27 Q2124.58 1332.94 2126.02 1335.85 L2130.76 1345.3 L2125.74 1345.3 L2121.32 1336.43 Q2119.6 1332.96 2117.98 1331.82 Q2116.39 1330.69 2113.61 1330.69 L2108.52 1330.69 L2108.52 1345.3 L2103.84 1345.3 L2103.84 1310.74 L2114.4 1310.74 Q2120.32 1310.74 2123.24 1313.21 Q2126.16 1315.69 2126.16 1320.69 Q2126.16 1323.95 2124.63 1326.11 Q2123.12 1328.26 2120.23 1329.09 M2108.52 1314.58 L2108.52 1326.85 L2114.4 1326.85 Q2117.78 1326.85 2119.49 1325.3 Q2121.22 1323.72 2121.22 1320.69 Q2121.22 1317.66 2119.49 1316.13 Q2117.78 1314.58 2114.4 1314.58 L2108.52 1314.58 Z\" fill=\"#000000\" fill-rule=\"nonzero\" fill-opacity=\"1\" /><path clip-path=\"url(#clip960)\" d=\"M2137.15 1323.77 L2166.83 1323.77 L2166.83 1327.66 L2137.15 1327.66 L2137.15 1323.77 M2137.15 1333.21 L2166.83 1333.21 L2166.83 1337.15 L2137.15 1337.15 L2137.15 1333.21 Z\" fill=\"#000000\" fill-rule=\"nonzero\" fill-opacity=\"1\" /><path clip-path=\"url(#clip960)\" d=\"M2176.5 1310.74 L2196.36 1310.74 L2196.36 1314.67 L2181.18 1314.67 L2181.18 1324.86 L2194.88 1324.86 L2194.88 1328.79 L2181.18 1328.79 L2181.18 1345.3 L2176.5 1345.3 L2176.5 1310.74 Z\" fill=\"#000000\" fill-rule=\"nonzero\" fill-opacity=\"1\" /><path clip-path=\"url(#clip960)\" d=\"M2208.45 1314.58 L2208.45 1327.56 L2214.33 1327.56 Q2217.59 1327.56 2219.37 1325.88 Q2221.15 1324.19 2221.15 1321.06 Q2221.15 1317.96 2219.37 1316.27 Q2217.59 1314.58 2214.33 1314.58 L2208.45 1314.58 M2203.77 1310.74 L2214.33 1310.74 Q2220.14 1310.74 2223.1 1313.38 Q2226.09 1315.99 2226.09 1321.06 Q2226.09 1326.18 2223.1 1328.79 Q2220.14 1331.41 2214.33 1331.41 L2208.45 1331.41 L2208.45 1345.3 L2203.77 1345.3 L2203.77 1310.74 Z\" fill=\"#000000\" fill-rule=\"nonzero\" fill-opacity=\"1\" /><path clip-path=\"url(#clip960)\" d=\"M2248.75 1329.09 Q2250.25 1329.6 2251.66 1331.27 Q2253.1 1332.94 2254.53 1335.85 L2259.28 1345.3 L2254.26 1345.3 L2249.84 1336.43 Q2248.12 1332.96 2246.5 1331.82 Q2244.9 1330.69 2242.13 1330.69 L2237.03 1330.69 L2237.03 1345.3 L2232.36 1345.3 L2232.36 1310.74 L2242.91 1310.74 Q2248.84 1310.74 2251.76 1313.21 Q2254.67 1315.69 2254.67 1320.69 Q2254.67 1323.95 2253.15 1326.11 Q2251.64 1328.26 2248.75 1329.09 M2237.03 1314.58 L2237.03 1326.85 L2242.91 1326.85 Q2246.29 1326.85 2248.01 1325.3 Q2249.74 1323.72 2249.74 1320.69 Q2249.74 1317.66 2248.01 1316.13 Q2246.29 1314.58 2242.91 1314.58 L2237.03 1314.58 Z\" fill=\"#000000\" fill-rule=\"nonzero\" fill-opacity=\"1\" /></svg>\n"
      ]
     },
     "execution_count": 22,
     "metadata": {},
     "output_type": "execute_result"
    }
   ],
   "source": [
    "train_fpr, train_tpr = ROCCurves.roc(train_pred, train_dataset.class)\n",
    "test_fpr, test_tpr = ROCCurves.roc(test_pred, test_dataset.class)\n",
    "ideal_fpr, ideal_tpr = ROCCurves.roc(ideal_pred, test_dataset.class)\n",
    "random_fpr, random_tpr = ROCCurves.roc(random_pred, dataset.class[test])\n",
    "\n",
    "plot(test_fpr, test_tpr, label=\"Test\", xlabel=\"False Positive Rate (FPR)\",\n",
    "    ylabel=\"True Positive Rate (TPR)\",\n",
    "    title =\"Receiver Operating Characteristic (ROC) curve\", linewidth=2, legend=:bottomright)\n",
    "plot!(train_fpr, train_tpr, label=\"Train\", linewidth=2)\n",
    "plot!(ideal_fpr, ideal_tpr, label=\"Wizard\", linewidth=2)\n",
    "plot!(random_fpr, random_tpr, label=\"Random\", linewidth=2)\n",
    "Plots.abline!(1, 0, line=:dash, label = \"TPR=FPR\")"
   ]
  },
  {
   "cell_type": "markdown",
   "metadata": {},
   "source": [
    "Ideal model has ROC composed of 1-point at $(0, 1)$ resulting in perfect identification of $Y=1$ while making no errors. The better model, the closer its ROC is to this ideal point of $(0,1)$ resulting also in higher area the curve, which is numerical measurement of model performance presented below."
   ]
  },
  {
   "cell_type": "markdown",
   "metadata": {},
   "source": [
    "### AUC - Area Under Curve"
   ]
  },
  {
   "cell_type": "markdown",
   "metadata": {},
   "source": [
    "Calculating AUC for training, test data and wizard and random models:"
   ]
  },
  {
   "cell_type": "code",
   "execution_count": null,
   "metadata": {},
   "outputs": [],
   "source": [
    "println(\"AUC metric on train dataset is equal to: \", auc_roc(train_fpr, train_tpr))\n",
    "println(\"AUC metric on test dataset is equal to: \", auc_roc(test_fpr, test_tpr))\n",
    "println(\"AUC metric of wizard model is equal to: \", auc_roc(ideal_fpr, ideal_tpr))\n",
    "println(\"AUC metric of random model is equal to: \", auc_roc(random_fpr, random_tpr))"
   ]
  },
  {
   "cell_type": "markdown",
   "metadata": {},
   "source": [
    "- discrepancy beetween train and test AUC measurement is the sign of overfitting\n",
    "- wizard model would have AUC equal to 1 and random model around 0.5\n",
    "- simulating ROC for random model with the same number of observation as test set has, enables to understand the sampling error of test set ROC "
   ]
  },
  {
   "cell_type": "markdown",
   "metadata": {},
   "source": [
    "### Gain chart"
   ]
  },
  {
   "cell_type": "code",
   "execution_count": null,
   "metadata": {},
   "outputs": [],
   "source": [
    "test_rpp = collect(0:length(test_tpr)-1)./(length(test_tpr)-1)\n",
    "train_rpp = collect(0:length(train_tpr)-1)./(length(train_tpr)-1)\n",
    "\n",
    "plot(test_rpp, test_tpr, label=\"Test\", xlabel=\"Rate of Positive Predictions (RPP)\",\n",
    "     ylabel=\"True Positive Rate (TPR)\", title= \"Gain chart\", linewidth=2, legend=:bottomright)\n",
    "plot!(train_rpp, train_tpr, label=\"Train\", linewidth=2)\n",
    "plot!(test_rpp, ideal_tpr, label=\"Wizard\", linewidth=2)\n",
    "plot!(test_rpp, random_tpr, label=\"Random\", linewidth=2)\n",
    "vline!([mean(dataset.class[test])] ,line=:dash, label = \"P(Y=1)\")"
   ]
  },
  {
   "cell_type": "markdown",
   "metadata": {},
   "source": [
    "- wizard model will increase linearly, so it achieves maximum of $TPR = 1$ for $RPP = P(Y=1)$\n",
    "- random model gain chart is around 45-degree line"
   ]
  },
  {
   "cell_type": "markdown",
   "metadata": {},
   "source": [
    "### Lift chart"
   ]
  },
  {
   "cell_type": "code",
   "execution_count": null,
   "metadata": {},
   "outputs": [],
   "source": [
    "plot(test_rpp, test_tpr ./ test_rpp, label=\"Test\", xlabel=\"Rate of Positive Predictions (RPP)\",\n",
    "     ylabel=\"LIFT = TPR / RPP\", title= \"Lift chart\", linewidth=2, legend=:topright,\n",
    "     ylim = (1, 0.25+1/mean(dataset.class[test])))\n",
    "plot!(train_rpp, train_tpr ./ train_rpp, label=\"Train\", linewidth=2)\n",
    "plot!(test_rpp, ideal_tpr ./ test_rpp, label=\"Wizard\", linewidth=2)\n",
    "plot!(test_rpp, random_tpr ./ test_rpp, label=\"Random\", linewidth=2)\n",
    "Plots.abline!(0, 1/mean(dataset.class[test]),  \n",
    "     line=:dash, label = \"1 / P(Y=1)\")"
   ]
  },
  {
   "cell_type": "markdown",
   "metadata": {},
   "source": [
    "- Lift measures how many times model's TPR is higher in comparison to TPR of random model for a given RPP, e.g. LIFT = 2 means that models indetifies 2 times more label $Y=1$ than a random model.\n",
    "- Wizard model LIFT is equal to $ 1/P(Y=1)$ for $RPP < P(Y=1)$ and afterward decrease hiperbolically towards $LIFT =1$, which is a benchmark value for a random model. "
   ]
  },
  {
   "cell_type": "markdown",
   "metadata": {},
   "source": [
    "#### Score-density plots\n",
    "Predicting labels on test dataset:"
   ]
  },
  {
   "cell_type": "code",
   "execution_count": null,
   "metadata": {},
   "outputs": [],
   "source": [
    "test_pred_1 = test_pred[test_dataset.class .== 1]\n",
    "test_pred_0 = test_pred[test_dataset.class .== 0];"
   ]
  },
  {
   "cell_type": "markdown",
   "metadata": {},
   "source": [
    "Visualizing model's score on histogram with two series - one for each class of 'target' column:"
   ]
  },
  {
   "cell_type": "code",
   "execution_count": null,
   "metadata": {},
   "outputs": [],
   "source": [
    "histogram(test_pred_1, normalize=true, bins=10, label=1, seriesalpha=0.35)\n",
    "density!(test_pred_1, label=1, linewidth=2, color=\"blue\")\n",
    "histogram!(test_pred_0, normalize=true, bins=10, label=0, seriesalpha=0.35)\n",
    "density!(test_pred_0, label=0, linewidth=2, color=\"red\")"
   ]
  },
  {
   "cell_type": "markdown",
   "metadata": {},
   "source": [
    "The more non-overlapping distributions the better predictive model."
   ]
  },
  {
   "cell_type": "markdown",
   "metadata": {},
   "source": [
    "#### Wizard model - ideal predicitons"
   ]
  },
  {
   "cell_type": "code",
   "execution_count": null,
   "metadata": {},
   "outputs": [],
   "source": [
    "ideal_pred_1 = ideal_pred[test_dataset.class .== 1]\n",
    "ideal_pred_0 = ideal_pred[test_dataset.class .== 0];"
   ]
  },
  {
   "cell_type": "code",
   "execution_count": null,
   "metadata": {},
   "outputs": [],
   "source": [
    "histogram(ideal_pred_1.-0.5, normalize=true, bins=10, label=1, seriesalpha=0.35)\n",
    "density!(ideal_pred_1, label=1, bandwidth=.2, linewidth=2)\n",
    "histogram!(ideal_pred_0.-0.5, normalize=true, bins=10, label=0, seriesalpha=0.35)\n",
    "density!(ideal_pred_0, label=0, bandwidth=0.2, linewidth=2)\n"
   ]
  },
  {
   "cell_type": "markdown",
   "metadata": {},
   "source": [
    "No overlapping scores between $Y=1$ and $Y=0$ is equivalent with a perfect model. Some overlapped kernel densities above results from high bandwidth hyperparameter used in kerned density estimation procedure, but empiracally there's no overlap."
   ]
  },
  {
   "cell_type": "markdown",
   "metadata": {},
   "source": [
    "#### Random model"
   ]
  },
  {
   "cell_type": "code",
   "execution_count": null,
   "metadata": {},
   "outputs": [],
   "source": [
    "random_pred_1 = random_pred[test_dataset.class .== 1]\n",
    "random_pred_0 = random_pred[test_dataset.class .== 0];"
   ]
  },
  {
   "cell_type": "code",
   "execution_count": null,
   "metadata": {},
   "outputs": [],
   "source": [
    "histogram(random_pred_1, normalize=true, bins=10, label=1, seriesalpha=0.35)\n",
    "density!(random_pred_1, label=1, linewidth=2, color=\"magenta\")\n",
    "histogram!(random_pred_0, normalize=true, bins=10, label=0, seriesalpha=0.35)\n",
    "density!(random_pred_0, label=0, linewidth=2, color=\"yellow\")"
   ]
  },
  {
   "cell_type": "markdown",
   "metadata": {},
   "source": [
    "Both distribution overlap heavily each other and are difficult to be distinguished. This is a sign of very poor predictive performance."
   ]
  },
  {
   "cell_type": "markdown",
   "metadata": {},
   "source": [
    "*Preparation of this workshop has been supported by the Polish National Agency for Academic Exchange under the Strategic Partnerships programme, grant number BPI/PST/2021/1/00069/U/00001.*\n",
    "\n",
    "![SGH & NAWA](../logo.png)"
   ]
  }
 ],
 "metadata": {
  "kernelspec": {
   "display_name": "Julia 1.8.5",
   "language": "julia",
   "name": "julia-1.8"
  },
  "language_info": {
   "file_extension": ".jl",
   "mimetype": "application/julia",
   "name": "julia",
   "version": "1.8.5"
  },
  "toc": {
   "base_numbering": 1,
   "nav_menu": {},
   "number_sections": false,
   "sideBar": true,
   "skip_h1_title": false,
   "title_cell": "Table of Contents",
   "title_sidebar": "Contents",
   "toc_cell": false,
   "toc_position": {},
   "toc_section_display": true,
   "toc_window_display": false
  },
  "vscode": {
   "interpreter": {
    "hash": "2ca342e073bfb3bd17a792ea861f84cf447b5e37a77900005dbb48db8b7a1ded"
   }
  }
 },
 "nbformat": 4,
 "nbformat_minor": 2
}
